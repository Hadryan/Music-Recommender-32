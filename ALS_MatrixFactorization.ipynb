{
  "nbformat": 4,
  "nbformat_minor": 0,
  "metadata": {
    "colab": {
      "provenance": [],
      "collapsed_sections": [],
      "machine_shape": "hm"
    },
    "kernelspec": {
      "name": "python3",
      "display_name": "Python 3"
    },
    "language_info": {
      "name": "python"
    }
  },
  "cells": [
    {
      "cell_type": "code",
      "execution_count": null,
      "metadata": {
        "id": "l23O3_H431kS"
      },
      "outputs": [],
      "source": [
        "import pandas as pd \n",
        "# Load train data\n",
        "train = pd.read_csv('trainIdx2_matrix.txt', header=None, sep='|', names=['userId', 'itemId', 'score'])\n",
        "\n",
        "# Get Ids from track, album, artist, and genre to classify train item ids\n",
        "trackIds = pd.read_csv('trackData2.txt', sep='|', usecols=[0], header=None, names=['trackId'])\n",
        "albumIds = pd.read_csv('albumData2.txt', sep='|', usecols=[0], header=None, names=['albumId'])\n",
        "artistIds = pd.read_csv('artistData2.txt', sep='|', usecols=[0], header=None, names=['artistId'])\n",
        "genreIds = pd.read_csv('genreData2.txt', sep='|', usecols=[0], header=None, names=['genreId'])"
      ]
    },
    {
      "cell_type": "code",
      "execution_count": null,
      "metadata": {
        "id": "i3p_5lYM31kT",
        "colab": {
          "base_uri": "https://localhost:8080/",
          "height": 204
        },
        "outputId": "1cd91f84-b295-45b5-f735-1c34fe31f677"
      },
      "outputs": [
        {
          "output_type": "execute_result",
          "data": {
            "text/html": [
              "<div>\n",
              "<style scoped>\n",
              "    .dataframe tbody tr th:only-of-type {\n",
              "        vertical-align: middle;\n",
              "    }\n",
              "\n",
              "    .dataframe tbody tr th {\n",
              "        vertical-align: top;\n",
              "    }\n",
              "\n",
              "    .dataframe thead th {\n",
              "        text-align: right;\n",
              "    }\n",
              "</style>\n",
              "<table border=\"1\" class=\"dataframe\">\n",
              "  <thead>\n",
              "    <tr style=\"text-align: right;\">\n",
              "      <th></th>\n",
              "      <th>userId</th>\n",
              "      <th>trackId</th>\n",
              "      <th>track_score</th>\n",
              "    </tr>\n",
              "  </thead>\n",
              "  <tbody>\n",
              "    <tr>\n",
              "      <th>87</th>\n",
              "      <td>199810</td>\n",
              "      <td>47420</td>\n",
              "      <td>90</td>\n",
              "    </tr>\n",
              "    <tr>\n",
              "      <th>88</th>\n",
              "      <td>199810</td>\n",
              "      <td>158436</td>\n",
              "      <td>50</td>\n",
              "    </tr>\n",
              "    <tr>\n",
              "      <th>89</th>\n",
              "      <td>199810</td>\n",
              "      <td>256008</td>\n",
              "      <td>70</td>\n",
              "    </tr>\n",
              "    <tr>\n",
              "      <th>90</th>\n",
              "      <td>199810</td>\n",
              "      <td>234891</td>\n",
              "      <td>70</td>\n",
              "    </tr>\n",
              "    <tr>\n",
              "      <th>130</th>\n",
              "      <td>199810</td>\n",
              "      <td>150186</td>\n",
              "      <td>70</td>\n",
              "    </tr>\n",
              "  </tbody>\n",
              "</table>\n",
              "</div>"
            ],
            "text/plain": [
              "     userId  trackId  track_score\n",
              "87   199810    47420           90\n",
              "88   199810   158436           50\n",
              "89   199810   256008           70\n",
              "90   199810   234891           70\n",
              "130  199810   150186           70"
            ]
          },
          "metadata": {},
          "execution_count": 2
        }
      ],
      "source": [
        "# determine if the itemid is a track, album, artist, or genre, and rename columns\n",
        "track_score = train[train.itemId.isin(trackIds['trackId'])].rename(columns = {'score': 'track_score', 'itemId': 'trackId'})\n",
        "album_score = train[train.itemId.isin(albumIds['albumId'])].rename(columns = {'score': 'album_score', 'itemId': 'albumId'})\n",
        "artists_score = train[train.itemId.isin(artistIds['artistId'])].rename(columns = {'score': 'artist_score', 'itemId': 'artistId'})\n",
        "genres_score = train[train.itemId.isin(genreIds['genreId'])].rename(columns = {'score': 'genre_score', 'itemId': 'genreId'})\n",
        "\n",
        "track_score.head()"
      ]
    },
    {
      "cell_type": "code",
      "execution_count": null,
      "metadata": {
        "id": "RU504MPE31kU",
        "colab": {
          "base_uri": "https://localhost:8080/",
          "height": 224
        },
        "outputId": "fe16c9c5-94ea-4577-8d10-b8b6ec5c38b0"
      },
      "outputs": [
        {
          "output_type": "execute_result",
          "data": {
            "text/html": [
              "<div>\n",
              "<style scoped>\n",
              "    .dataframe tbody tr th:only-of-type {\n",
              "        vertical-align: middle;\n",
              "    }\n",
              "\n",
              "    .dataframe tbody tr th {\n",
              "        vertical-align: top;\n",
              "    }\n",
              "\n",
              "    .dataframe thead th {\n",
              "        text-align: right;\n",
              "    }\n",
              "</style>\n",
              "<table border=\"1\" class=\"dataframe\">\n",
              "  <thead>\n",
              "    <tr style=\"text-align: right;\">\n",
              "      <th></th>\n",
              "      <th>userId</th>\n",
              "      <th>albumId</th>\n",
              "      <th>album_score</th>\n",
              "      <th>artistId</th>\n",
              "      <th>genreId_1</th>\n",
              "      <th>genreId_2</th>\n",
              "      <th>genreId_3</th>\n",
              "      <th>genreId_4</th>\n",
              "      <th>genreId_5</th>\n",
              "      <th>genreId_6</th>\n",
              "      <th>genreId_7</th>\n",
              "      <th>genreId_8</th>\n",
              "      <th>genreId_9</th>\n",
              "      <th>genreId_10</th>\n",
              "      <th>genreId_11</th>\n",
              "      <th>genreId_12</th>\n",
              "      <th>genreId_13</th>\n",
              "      <th>genreId_14</th>\n",
              "      <th>genreId_15</th>\n",
              "      <th>genreId_16</th>\n",
              "      <th>genreId_17</th>\n",
              "      <th>genreId_18</th>\n",
              "      <th>genreId_19</th>\n",
              "      <th>genreId_20</th>\n",
              "      <th>genreId_21</th>\n",
              "    </tr>\n",
              "  </thead>\n",
              "  <tbody>\n",
              "    <tr>\n",
              "      <th>0</th>\n",
              "      <td>199810</td>\n",
              "      <td>26374</td>\n",
              "      <td>50</td>\n",
              "      <td>153568.0</td>\n",
              "      <td>158282.0</td>\n",
              "      <td>81520.0</td>\n",
              "      <td>242383.0</td>\n",
              "      <td>NaN</td>\n",
              "      <td>NaN</td>\n",
              "      <td>NaN</td>\n",
              "      <td>NaN</td>\n",
              "      <td>NaN</td>\n",
              "      <td>NaN</td>\n",
              "      <td>NaN</td>\n",
              "      <td>NaN</td>\n",
              "      <td>NaN</td>\n",
              "      <td>NaN</td>\n",
              "      <td>NaN</td>\n",
              "      <td>NaN</td>\n",
              "      <td>NaN</td>\n",
              "      <td>NaN</td>\n",
              "      <td>NaN</td>\n",
              "      <td>NaN</td>\n",
              "      <td>NaN</td>\n",
              "      <td>NaN</td>\n",
              "    </tr>\n",
              "    <tr>\n",
              "      <th>1</th>\n",
              "      <td>199810</td>\n",
              "      <td>204650</td>\n",
              "      <td>50</td>\n",
              "      <td>177418.0</td>\n",
              "      <td>131552.0</td>\n",
              "      <td>NaN</td>\n",
              "      <td>NaN</td>\n",
              "      <td>NaN</td>\n",
              "      <td>NaN</td>\n",
              "      <td>NaN</td>\n",
              "      <td>NaN</td>\n",
              "      <td>NaN</td>\n",
              "      <td>NaN</td>\n",
              "      <td>NaN</td>\n",
              "      <td>NaN</td>\n",
              "      <td>NaN</td>\n",
              "      <td>NaN</td>\n",
              "      <td>NaN</td>\n",
              "      <td>NaN</td>\n",
              "      <td>NaN</td>\n",
              "      <td>NaN</td>\n",
              "      <td>NaN</td>\n",
              "      <td>NaN</td>\n",
              "      <td>NaN</td>\n",
              "      <td>NaN</td>\n",
              "    </tr>\n",
              "    <tr>\n",
              "      <th>2</th>\n",
              "      <td>199810</td>\n",
              "      <td>9774</td>\n",
              "      <td>50</td>\n",
              "      <td>79500.0</td>\n",
              "      <td>158282.0</td>\n",
              "      <td>242383.0</td>\n",
              "      <td>207648.0</td>\n",
              "      <td>47898.0</td>\n",
              "      <td>NaN</td>\n",
              "      <td>NaN</td>\n",
              "      <td>NaN</td>\n",
              "      <td>NaN</td>\n",
              "      <td>NaN</td>\n",
              "      <td>NaN</td>\n",
              "      <td>NaN</td>\n",
              "      <td>NaN</td>\n",
              "      <td>NaN</td>\n",
              "      <td>NaN</td>\n",
              "      <td>NaN</td>\n",
              "      <td>NaN</td>\n",
              "      <td>NaN</td>\n",
              "      <td>NaN</td>\n",
              "      <td>NaN</td>\n",
              "      <td>NaN</td>\n",
              "      <td>NaN</td>\n",
              "    </tr>\n",
              "    <tr>\n",
              "      <th>3</th>\n",
              "      <td>199811</td>\n",
              "      <td>271229</td>\n",
              "      <td>70</td>\n",
              "      <td>293464.0</td>\n",
              "      <td>158282.0</td>\n",
              "      <td>279143.0</td>\n",
              "      <td>173655.0</td>\n",
              "      <td>280261.0</td>\n",
              "      <td>NaN</td>\n",
              "      <td>NaN</td>\n",
              "      <td>NaN</td>\n",
              "      <td>NaN</td>\n",
              "      <td>NaN</td>\n",
              "      <td>NaN</td>\n",
              "      <td>NaN</td>\n",
              "      <td>NaN</td>\n",
              "      <td>NaN</td>\n",
              "      <td>NaN</td>\n",
              "      <td>NaN</td>\n",
              "      <td>NaN</td>\n",
              "      <td>NaN</td>\n",
              "      <td>NaN</td>\n",
              "      <td>NaN</td>\n",
              "      <td>NaN</td>\n",
              "      <td>NaN</td>\n",
              "    </tr>\n",
              "    <tr>\n",
              "      <th>4</th>\n",
              "      <td>199812</td>\n",
              "      <td>112725</td>\n",
              "      <td>100</td>\n",
              "      <td>275191.0</td>\n",
              "      <td>158282.0</td>\n",
              "      <td>207648.0</td>\n",
              "      <td>NaN</td>\n",
              "      <td>NaN</td>\n",
              "      <td>NaN</td>\n",
              "      <td>NaN</td>\n",
              "      <td>NaN</td>\n",
              "      <td>NaN</td>\n",
              "      <td>NaN</td>\n",
              "      <td>NaN</td>\n",
              "      <td>NaN</td>\n",
              "      <td>NaN</td>\n",
              "      <td>NaN</td>\n",
              "      <td>NaN</td>\n",
              "      <td>NaN</td>\n",
              "      <td>NaN</td>\n",
              "      <td>NaN</td>\n",
              "      <td>NaN</td>\n",
              "      <td>NaN</td>\n",
              "      <td>NaN</td>\n",
              "      <td>NaN</td>\n",
              "    </tr>\n",
              "  </tbody>\n",
              "</table>\n",
              "</div>"
            ],
            "text/plain": [
              "   userId  albumId  album_score  ...  genreId_19  genreId_20  genreId_21\n",
              "0  199810    26374           50  ...         NaN         NaN         NaN\n",
              "1  199810   204650           50  ...         NaN         NaN         NaN\n",
              "2  199810     9774           50  ...         NaN         NaN         NaN\n",
              "3  199811   271229           70  ...         NaN         NaN         NaN\n",
              "4  199812   112725          100  ...         NaN         NaN         NaN\n",
              "\n",
              "[5 rows x 25 columns]"
            ]
          },
          "metadata": {},
          "execution_count": 3
        }
      ],
      "source": [
        "# Load track and album heirarchies\n",
        "\n",
        "track_heir = pd.read_csv('trackData2.txt', sep='|', header=None, na_values=['None'], names=['trackId', 'albumId', 'artistId',\n",
        "                                                                                            'genreId_1', 'genreId_2', 'genreId_3',\n",
        "                                                                                            'genreId_4', 'genreId_5', 'genreId_6',\n",
        "                                                                                            'genreId_7', 'genreId_8', 'genreId_9',\n",
        "                                                                                            'genreId_10', 'genreId_11', 'genreId_12',\n",
        "                                                                                            'genreId_13', 'genreId_14', 'genreId_15',\n",
        "                                                                                            'genreId_16', 'genreId_17', 'genreId_18',\n",
        "                                                                                            'genreId_19', 'genreId_20', 'genreId_21'])\n",
        "\n",
        "album_heir = pd.read_csv('albumData2.txt', sep='|', header=None, na_values=['None'], names=['albumId', 'artistId', 'genreId_1', 'genreId_2',\n",
        "                                                                                            'genreId_3', 'genreId_4', 'genreId_5', 'genreId_6',\n",
        "                                                                                            'genreId_7', 'genreId_8', 'genreId_9', 'genreId_10',\n",
        "                                                                                            'genreId_11', 'genreId_12', 'genreId_13', 'genreId_14',\n",
        "                                                                                            'genreId_15', 'genreId_16', 'genreId_17', 'genreId_18',\n",
        "                                                                                            'genreId_19', 'genreId_20', 'genreId_21'])\n",
        "\n",
        "# Combine heirarchy with the given track/album score \n",
        "train_track_heir = pd.merge(track_score, track_heir, how='left', on='trackId')\n",
        "album_score_heir = pd.merge(album_score, album_heir, how='left', on='albumId')\n",
        "\n",
        "album_score_heir.sort_values(by = ['userId', 'albumId'])\n",
        "album_score_heir.head()"
      ]
    },
    {
      "cell_type": "markdown",
      "metadata": {
        "id": "uHySYqIq31kV"
      },
      "source": [
        "### Only keep the train albums seperate that are not already inside `train_track_heir`"
      ]
    },
    {
      "cell_type": "code",
      "execution_count": null,
      "metadata": {
        "id": "gFt5qBZJ31kV",
        "colab": {
          "base_uri": "https://localhost:8080/",
          "height": 224
        },
        "outputId": "46b35022-69d9-476a-d4d9-9dff79991f28"
      },
      "outputs": [
        {
          "output_type": "execute_result",
          "data": {
            "text/html": [
              "<div>\n",
              "<style scoped>\n",
              "    .dataframe tbody tr th:only-of-type {\n",
              "        vertical-align: middle;\n",
              "    }\n",
              "\n",
              "    .dataframe tbody tr th {\n",
              "        vertical-align: top;\n",
              "    }\n",
              "\n",
              "    .dataframe thead th {\n",
              "        text-align: right;\n",
              "    }\n",
              "</style>\n",
              "<table border=\"1\" class=\"dataframe\">\n",
              "  <thead>\n",
              "    <tr style=\"text-align: right;\">\n",
              "      <th></th>\n",
              "      <th>userId</th>\n",
              "      <th>trackId</th>\n",
              "      <th>track_score</th>\n",
              "      <th>albumId</th>\n",
              "      <th>artistId</th>\n",
              "      <th>genreId_1</th>\n",
              "      <th>genreId_2</th>\n",
              "      <th>genreId_3</th>\n",
              "      <th>genreId_4</th>\n",
              "      <th>genreId_5</th>\n",
              "      <th>genreId_6</th>\n",
              "      <th>genreId_7</th>\n",
              "      <th>genreId_8</th>\n",
              "      <th>genreId_9</th>\n",
              "      <th>genreId_10</th>\n",
              "      <th>genreId_11</th>\n",
              "      <th>genreId_12</th>\n",
              "      <th>genreId_13</th>\n",
              "      <th>genreId_14</th>\n",
              "      <th>genreId_15</th>\n",
              "      <th>genreId_16</th>\n",
              "      <th>genreId_17</th>\n",
              "      <th>genreId_18</th>\n",
              "      <th>genreId_19</th>\n",
              "      <th>genreId_20</th>\n",
              "      <th>genreId_21</th>\n",
              "    </tr>\n",
              "  </thead>\n",
              "  <tbody>\n",
              "    <tr>\n",
              "      <th>4</th>\n",
              "      <td>199810</td>\n",
              "      <td>150186</td>\n",
              "      <td>70</td>\n",
              "      <td>NaN</td>\n",
              "      <td>NaN</td>\n",
              "      <td>131552.0</td>\n",
              "      <td>61215.0</td>\n",
              "      <td>176858.0</td>\n",
              "      <td>199606.0</td>\n",
              "      <td>289568.0</td>\n",
              "      <td>214110.0</td>\n",
              "      <td>NaN</td>\n",
              "      <td>NaN</td>\n",
              "      <td>NaN</td>\n",
              "      <td>NaN</td>\n",
              "      <td>NaN</td>\n",
              "      <td>NaN</td>\n",
              "      <td>NaN</td>\n",
              "      <td>NaN</td>\n",
              "      <td>NaN</td>\n",
              "      <td>NaN</td>\n",
              "      <td>NaN</td>\n",
              "      <td>NaN</td>\n",
              "      <td>NaN</td>\n",
              "      <td>NaN</td>\n",
              "      <td>NaN</td>\n",
              "    </tr>\n",
              "    <tr>\n",
              "      <th>22</th>\n",
              "      <td>199810</td>\n",
              "      <td>176455</td>\n",
              "      <td>50</td>\n",
              "      <td>NaN</td>\n",
              "      <td>NaN</td>\n",
              "      <td>131552.0</td>\n",
              "      <td>NaN</td>\n",
              "      <td>NaN</td>\n",
              "      <td>NaN</td>\n",
              "      <td>NaN</td>\n",
              "      <td>NaN</td>\n",
              "      <td>NaN</td>\n",
              "      <td>NaN</td>\n",
              "      <td>NaN</td>\n",
              "      <td>NaN</td>\n",
              "      <td>NaN</td>\n",
              "      <td>NaN</td>\n",
              "      <td>NaN</td>\n",
              "      <td>NaN</td>\n",
              "      <td>NaN</td>\n",
              "      <td>NaN</td>\n",
              "      <td>NaN</td>\n",
              "      <td>NaN</td>\n",
              "      <td>NaN</td>\n",
              "      <td>NaN</td>\n",
              "      <td>NaN</td>\n",
              "    </tr>\n",
              "    <tr>\n",
              "      <th>116</th>\n",
              "      <td>199814</td>\n",
              "      <td>13269</td>\n",
              "      <td>50</td>\n",
              "      <td>NaN</td>\n",
              "      <td>NaN</td>\n",
              "      <td>61215.0</td>\n",
              "      <td>17453.0</td>\n",
              "      <td>256783.0</td>\n",
              "      <td>88853.0</td>\n",
              "      <td>NaN</td>\n",
              "      <td>NaN</td>\n",
              "      <td>NaN</td>\n",
              "      <td>NaN</td>\n",
              "      <td>NaN</td>\n",
              "      <td>NaN</td>\n",
              "      <td>NaN</td>\n",
              "      <td>NaN</td>\n",
              "      <td>NaN</td>\n",
              "      <td>NaN</td>\n",
              "      <td>NaN</td>\n",
              "      <td>NaN</td>\n",
              "      <td>NaN</td>\n",
              "      <td>NaN</td>\n",
              "      <td>NaN</td>\n",
              "      <td>NaN</td>\n",
              "      <td>NaN</td>\n",
              "    </tr>\n",
              "    <tr>\n",
              "      <th>143</th>\n",
              "      <td>199815</td>\n",
              "      <td>164183</td>\n",
              "      <td>50</td>\n",
              "      <td>NaN</td>\n",
              "      <td>NaN</td>\n",
              "      <td>131552.0</td>\n",
              "      <td>NaN</td>\n",
              "      <td>NaN</td>\n",
              "      <td>NaN</td>\n",
              "      <td>NaN</td>\n",
              "      <td>NaN</td>\n",
              "      <td>NaN</td>\n",
              "      <td>NaN</td>\n",
              "      <td>NaN</td>\n",
              "      <td>NaN</td>\n",
              "      <td>NaN</td>\n",
              "      <td>NaN</td>\n",
              "      <td>NaN</td>\n",
              "      <td>NaN</td>\n",
              "      <td>NaN</td>\n",
              "      <td>NaN</td>\n",
              "      <td>NaN</td>\n",
              "      <td>NaN</td>\n",
              "      <td>NaN</td>\n",
              "      <td>NaN</td>\n",
              "      <td>NaN</td>\n",
              "    </tr>\n",
              "    <tr>\n",
              "      <th>145</th>\n",
              "      <td>199815</td>\n",
              "      <td>281268</td>\n",
              "      <td>40</td>\n",
              "      <td>NaN</td>\n",
              "      <td>NaN</td>\n",
              "      <td>131552.0</td>\n",
              "      <td>NaN</td>\n",
              "      <td>NaN</td>\n",
              "      <td>NaN</td>\n",
              "      <td>NaN</td>\n",
              "      <td>NaN</td>\n",
              "      <td>NaN</td>\n",
              "      <td>NaN</td>\n",
              "      <td>NaN</td>\n",
              "      <td>NaN</td>\n",
              "      <td>NaN</td>\n",
              "      <td>NaN</td>\n",
              "      <td>NaN</td>\n",
              "      <td>NaN</td>\n",
              "      <td>NaN</td>\n",
              "      <td>NaN</td>\n",
              "      <td>NaN</td>\n",
              "      <td>NaN</td>\n",
              "      <td>NaN</td>\n",
              "      <td>NaN</td>\n",
              "      <td>NaN</td>\n",
              "    </tr>\n",
              "  </tbody>\n",
              "</table>\n",
              "</div>"
            ],
            "text/plain": [
              "     userId  trackId  track_score  ...  genreId_19  genreId_20  genreId_21\n",
              "4    199810   150186           70  ...         NaN         NaN         NaN\n",
              "22   199810   176455           50  ...         NaN         NaN         NaN\n",
              "116  199814    13269           50  ...         NaN         NaN         NaN\n",
              "143  199815   164183           50  ...         NaN         NaN         NaN\n",
              "145  199815   281268           40  ...         NaN         NaN         NaN\n",
              "\n",
              "[5 rows x 26 columns]"
            ]
          },
          "metadata": {},
          "execution_count": 4
        }
      ],
      "source": [
        "# Look back at this!!!!!!!! Think its deleting album scores for no reason\n",
        "album_score_heir = train_track_heir[~train_track_heir['albumId'].isin(album_score_heir['albumId'])] #don't keep train_track_heir[albumid] if its in album_score_heir\n",
        "album_score_heir.head()"
      ]
    },
    {
      "cell_type": "markdown",
      "metadata": {
        "id": "hCkscRLb31kV"
      },
      "source": [
        "## For train_track_heir check to see if scores exist in the other matrices"
      ]
    },
    {
      "cell_type": "code",
      "execution_count": null,
      "metadata": {
        "id": "wTS6nBEn31kV",
        "colab": {
          "base_uri": "https://localhost:8080/",
          "height": 204
        },
        "outputId": "d358b4d4-8959-4ac9-e039-78cf7d3ea0e7"
      },
      "outputs": [
        {
          "output_type": "execute_result",
          "data": {
            "text/html": [
              "<div>\n",
              "<style scoped>\n",
              "    .dataframe tbody tr th:only-of-type {\n",
              "        vertical-align: middle;\n",
              "    }\n",
              "\n",
              "    .dataframe tbody tr th {\n",
              "        vertical-align: top;\n",
              "    }\n",
              "\n",
              "    .dataframe thead th {\n",
              "        text-align: right;\n",
              "    }\n",
              "</style>\n",
              "<table border=\"1\" class=\"dataframe\">\n",
              "  <thead>\n",
              "    <tr style=\"text-align: right;\">\n",
              "      <th></th>\n",
              "      <th>userId</th>\n",
              "      <th>albumId</th>\n",
              "      <th>album_score</th>\n",
              "    </tr>\n",
              "  </thead>\n",
              "  <tbody>\n",
              "    <tr>\n",
              "      <th>134</th>\n",
              "      <td>199810</td>\n",
              "      <td>26374</td>\n",
              "      <td>50</td>\n",
              "    </tr>\n",
              "    <tr>\n",
              "      <th>138</th>\n",
              "      <td>199810</td>\n",
              "      <td>204650</td>\n",
              "      <td>50</td>\n",
              "    </tr>\n",
              "    <tr>\n",
              "      <th>141</th>\n",
              "      <td>199810</td>\n",
              "      <td>9774</td>\n",
              "      <td>50</td>\n",
              "    </tr>\n",
              "    <tr>\n",
              "      <th>280</th>\n",
              "      <td>199811</td>\n",
              "      <td>271229</td>\n",
              "      <td>70</td>\n",
              "    </tr>\n",
              "    <tr>\n",
              "      <th>291</th>\n",
              "      <td>199812</td>\n",
              "      <td>112725</td>\n",
              "      <td>100</td>\n",
              "    </tr>\n",
              "  </tbody>\n",
              "</table>\n",
              "</div>"
            ],
            "text/plain": [
              "     userId  albumId  album_score\n",
              "134  199810    26374           50\n",
              "138  199810   204650           50\n",
              "141  199810     9774           50\n",
              "280  199811   271229           70\n",
              "291  199812   112725          100"
            ]
          },
          "metadata": {},
          "execution_count": 5
        }
      ],
      "source": [
        "track_score_in_albums = album_score[album_score['albumId'].isin(train_track_heir['albumId'])]\n",
        "track_score_in_albums.head()"
      ]
    },
    {
      "cell_type": "code",
      "execution_count": null,
      "metadata": {
        "id": "tMQJje5h31kW",
        "colab": {
          "base_uri": "https://localhost:8080/",
          "height": 204
        },
        "outputId": "92a5b9f6-328e-40c2-bb19-69961932fd50"
      },
      "outputs": [
        {
          "output_type": "execute_result",
          "data": {
            "text/html": [
              "<div>\n",
              "<style scoped>\n",
              "    .dataframe tbody tr th:only-of-type {\n",
              "        vertical-align: middle;\n",
              "    }\n",
              "\n",
              "    .dataframe tbody tr th {\n",
              "        vertical-align: top;\n",
              "    }\n",
              "\n",
              "    .dataframe thead th {\n",
              "        text-align: right;\n",
              "    }\n",
              "</style>\n",
              "<table border=\"1\" class=\"dataframe\">\n",
              "  <thead>\n",
              "    <tr style=\"text-align: right;\">\n",
              "      <th></th>\n",
              "      <th>userId</th>\n",
              "      <th>artistId</th>\n",
              "      <th>artist_score</th>\n",
              "    </tr>\n",
              "  </thead>\n",
              "  <tbody>\n",
              "    <tr>\n",
              "      <th>0</th>\n",
              "      <td>199808</td>\n",
              "      <td>248969</td>\n",
              "      <td>90</td>\n",
              "    </tr>\n",
              "    <tr>\n",
              "      <th>1</th>\n",
              "      <td>199808</td>\n",
              "      <td>2663</td>\n",
              "      <td>90</td>\n",
              "    </tr>\n",
              "    <tr>\n",
              "      <th>2</th>\n",
              "      <td>199808</td>\n",
              "      <td>28341</td>\n",
              "      <td>90</td>\n",
              "    </tr>\n",
              "    <tr>\n",
              "      <th>3</th>\n",
              "      <td>199808</td>\n",
              "      <td>42563</td>\n",
              "      <td>90</td>\n",
              "    </tr>\n",
              "    <tr>\n",
              "      <th>4</th>\n",
              "      <td>199808</td>\n",
              "      <td>59092</td>\n",
              "      <td>90</td>\n",
              "    </tr>\n",
              "  </tbody>\n",
              "</table>\n",
              "</div>"
            ],
            "text/plain": [
              "   userId  artistId  artist_score\n",
              "0  199808    248969            90\n",
              "1  199808      2663            90\n",
              "2  199808     28341            90\n",
              "3  199808     42563            90\n",
              "4  199808     59092            90"
            ]
          },
          "metadata": {},
          "execution_count": 6
        }
      ],
      "source": [
        "track_score_in_artists = artists_score[artists_score.artistId.isin(train_track_heir.artistId)]\n",
        "track_score_in_artists.head()"
      ]
    },
    {
      "cell_type": "markdown",
      "metadata": {
        "id": "0JIyXnp731kX"
      },
      "source": [
        "### Combine the matrices together"
      ]
    },
    {
      "cell_type": "code",
      "execution_count": null,
      "metadata": {
        "id": "a-p5Rxqa31kX",
        "colab": {
          "base_uri": "https://localhost:8080/",
          "height": 224
        },
        "outputId": "1d569f89-4dd0-409e-ba81-83583c49bc9e"
      },
      "outputs": [
        {
          "output_type": "execute_result",
          "data": {
            "text/html": [
              "<div>\n",
              "<style scoped>\n",
              "    .dataframe tbody tr th:only-of-type {\n",
              "        vertical-align: middle;\n",
              "    }\n",
              "\n",
              "    .dataframe tbody tr th {\n",
              "        vertical-align: top;\n",
              "    }\n",
              "\n",
              "    .dataframe thead th {\n",
              "        text-align: right;\n",
              "    }\n",
              "</style>\n",
              "<table border=\"1\" class=\"dataframe\">\n",
              "  <thead>\n",
              "    <tr style=\"text-align: right;\">\n",
              "      <th></th>\n",
              "      <th>userId</th>\n",
              "      <th>trackId</th>\n",
              "      <th>track_score</th>\n",
              "      <th>albumId</th>\n",
              "      <th>artistId</th>\n",
              "      <th>genreId_1</th>\n",
              "      <th>genreId_2</th>\n",
              "      <th>genreId_3</th>\n",
              "      <th>genreId_4</th>\n",
              "      <th>genreId_5</th>\n",
              "      <th>genreId_6</th>\n",
              "      <th>genreId_7</th>\n",
              "      <th>genreId_8</th>\n",
              "      <th>genreId_9</th>\n",
              "      <th>genreId_10</th>\n",
              "      <th>genreId_11</th>\n",
              "      <th>genreId_12</th>\n",
              "      <th>genreId_13</th>\n",
              "      <th>genreId_14</th>\n",
              "      <th>genreId_15</th>\n",
              "      <th>genreId_16</th>\n",
              "      <th>genreId_17</th>\n",
              "      <th>genreId_18</th>\n",
              "      <th>genreId_19</th>\n",
              "      <th>genreId_20</th>\n",
              "      <th>genreId_21</th>\n",
              "      <th>album_score</th>\n",
              "      <th>artist_score</th>\n",
              "    </tr>\n",
              "  </thead>\n",
              "  <tbody>\n",
              "    <tr>\n",
              "      <th>0</th>\n",
              "      <td>199810</td>\n",
              "      <td>47420.0</td>\n",
              "      <td>90.0</td>\n",
              "      <td>190891.0</td>\n",
              "      <td>22907.0</td>\n",
              "      <td>243099.0</td>\n",
              "      <td>NaN</td>\n",
              "      <td>NaN</td>\n",
              "      <td>NaN</td>\n",
              "      <td>NaN</td>\n",
              "      <td>NaN</td>\n",
              "      <td>NaN</td>\n",
              "      <td>NaN</td>\n",
              "      <td>NaN</td>\n",
              "      <td>NaN</td>\n",
              "      <td>NaN</td>\n",
              "      <td>NaN</td>\n",
              "      <td>NaN</td>\n",
              "      <td>NaN</td>\n",
              "      <td>NaN</td>\n",
              "      <td>NaN</td>\n",
              "      <td>NaN</td>\n",
              "      <td>NaN</td>\n",
              "      <td>NaN</td>\n",
              "      <td>NaN</td>\n",
              "      <td>NaN</td>\n",
              "      <td>NaN</td>\n",
              "      <td>NaN</td>\n",
              "    </tr>\n",
              "    <tr>\n",
              "      <th>1</th>\n",
              "      <td>199810</td>\n",
              "      <td>158436.0</td>\n",
              "      <td>50.0</td>\n",
              "      <td>121272.0</td>\n",
              "      <td>48050.0</td>\n",
              "      <td>214110.0</td>\n",
              "      <td>181006.0</td>\n",
              "      <td>NaN</td>\n",
              "      <td>NaN</td>\n",
              "      <td>NaN</td>\n",
              "      <td>NaN</td>\n",
              "      <td>NaN</td>\n",
              "      <td>NaN</td>\n",
              "      <td>NaN</td>\n",
              "      <td>NaN</td>\n",
              "      <td>NaN</td>\n",
              "      <td>NaN</td>\n",
              "      <td>NaN</td>\n",
              "      <td>NaN</td>\n",
              "      <td>NaN</td>\n",
              "      <td>NaN</td>\n",
              "      <td>NaN</td>\n",
              "      <td>NaN</td>\n",
              "      <td>NaN</td>\n",
              "      <td>NaN</td>\n",
              "      <td>NaN</td>\n",
              "      <td>NaN</td>\n",
              "      <td>70.0</td>\n",
              "    </tr>\n",
              "    <tr>\n",
              "      <th>2</th>\n",
              "      <td>199810</td>\n",
              "      <td>256008.0</td>\n",
              "      <td>70.0</td>\n",
              "      <td>56953.0</td>\n",
              "      <td>275191.0</td>\n",
              "      <td>158282.0</td>\n",
              "      <td>242383.0</td>\n",
              "      <td>207648.0</td>\n",
              "      <td>NaN</td>\n",
              "      <td>NaN</td>\n",
              "      <td>NaN</td>\n",
              "      <td>NaN</td>\n",
              "      <td>NaN</td>\n",
              "      <td>NaN</td>\n",
              "      <td>NaN</td>\n",
              "      <td>NaN</td>\n",
              "      <td>NaN</td>\n",
              "      <td>NaN</td>\n",
              "      <td>NaN</td>\n",
              "      <td>NaN</td>\n",
              "      <td>NaN</td>\n",
              "      <td>NaN</td>\n",
              "      <td>NaN</td>\n",
              "      <td>NaN</td>\n",
              "      <td>NaN</td>\n",
              "      <td>NaN</td>\n",
              "      <td>NaN</td>\n",
              "      <td>50.0</td>\n",
              "    </tr>\n",
              "    <tr>\n",
              "      <th>3</th>\n",
              "      <td>199810</td>\n",
              "      <td>234891.0</td>\n",
              "      <td>70.0</td>\n",
              "      <td>18215.0</td>\n",
              "      <td>257019.0</td>\n",
              "      <td>131552.0</td>\n",
              "      <td>47898.0</td>\n",
              "      <td>201738.0</td>\n",
              "      <td>88853.0</td>\n",
              "      <td>NaN</td>\n",
              "      <td>NaN</td>\n",
              "      <td>NaN</td>\n",
              "      <td>NaN</td>\n",
              "      <td>NaN</td>\n",
              "      <td>NaN</td>\n",
              "      <td>NaN</td>\n",
              "      <td>NaN</td>\n",
              "      <td>NaN</td>\n",
              "      <td>NaN</td>\n",
              "      <td>NaN</td>\n",
              "      <td>NaN</td>\n",
              "      <td>NaN</td>\n",
              "      <td>NaN</td>\n",
              "      <td>NaN</td>\n",
              "      <td>NaN</td>\n",
              "      <td>NaN</td>\n",
              "      <td>NaN</td>\n",
              "      <td>90.0</td>\n",
              "    </tr>\n",
              "    <tr>\n",
              "      <th>4</th>\n",
              "      <td>199810</td>\n",
              "      <td>265026.0</td>\n",
              "      <td>70.0</td>\n",
              "      <td>252707.0</td>\n",
              "      <td>257019.0</td>\n",
              "      <td>131552.0</td>\n",
              "      <td>201738.0</td>\n",
              "      <td>88853.0</td>\n",
              "      <td>NaN</td>\n",
              "      <td>NaN</td>\n",
              "      <td>NaN</td>\n",
              "      <td>NaN</td>\n",
              "      <td>NaN</td>\n",
              "      <td>NaN</td>\n",
              "      <td>NaN</td>\n",
              "      <td>NaN</td>\n",
              "      <td>NaN</td>\n",
              "      <td>NaN</td>\n",
              "      <td>NaN</td>\n",
              "      <td>NaN</td>\n",
              "      <td>NaN</td>\n",
              "      <td>NaN</td>\n",
              "      <td>NaN</td>\n",
              "      <td>NaN</td>\n",
              "      <td>NaN</td>\n",
              "      <td>NaN</td>\n",
              "      <td>NaN</td>\n",
              "      <td>90.0</td>\n",
              "    </tr>\n",
              "  </tbody>\n",
              "</table>\n",
              "</div>"
            ],
            "text/plain": [
              "   userId   trackId  track_score  ...  genreId_21  album_score  artist_score\n",
              "0  199810   47420.0         90.0  ...         NaN          NaN           NaN\n",
              "1  199810  158436.0         50.0  ...         NaN          NaN          70.0\n",
              "2  199810  256008.0         70.0  ...         NaN          NaN          50.0\n",
              "3  199810  234891.0         70.0  ...         NaN          NaN          90.0\n",
              "4  199810  265026.0         70.0  ...         NaN          NaN          90.0\n",
              "\n",
              "[5 rows x 28 columns]"
            ]
          },
          "metadata": {},
          "execution_count": 7
        }
      ],
      "source": [
        "final = pd.merge(train_track_heir, track_score_in_albums, how='outer', on=['userId', 'albumId'])\n",
        "final = pd.merge(final, track_score_in_artists, how='outer', on=['userId', 'artistId'])\n",
        "\n",
        "final.head()"
      ]
    },
    {
      "cell_type": "code",
      "execution_count": null,
      "metadata": {
        "id": "mZ6BAKTI31kY"
      },
      "outputs": [],
      "source": [
        "# Drop na track ids (consider not doing this again tm)!!!!!!!!!!!!!!!\n",
        "final = final.dropna(subset=['trackId'])\n",
        "\n",
        "final.to_csv('train_with_empty.csv', index=False, na_rep='None', columns=['userId', 'trackId', 'albumId', 'artistId', 'genreId_1',\n",
        "                                                                          'genreId_2', 'genreId_3', 'genreId_4', 'genreId_5', 'genreId_6',\n",
        "                                                                          'genreId_7', 'genreId_8', 'genreId_9', 'genreId_10', 'genreId_11',\n",
        "                                                                          'genreId_12', 'genreId_13', 'genreId_14', 'genreId_15', 'genreId_16',\n",
        "                                                                          'genreId_17', 'genreId_18', 'genreId_19', 'genreId_20', 'genreId_21'])"
      ]
    },
    {
      "cell_type": "code",
      "execution_count": null,
      "metadata": {
        "id": "qY8xgP-s31kY"
      },
      "outputs": [],
      "source": [
        "empty_album_scores = final[final.album_score.isna()]\n",
        "empty_album_scores = empty_album_scores.dropna(subset=['albumId'])\n",
        "\n",
        "empty_album_scores[['userId', 'trackId', 'albumId']].to_csv('empty_album_scores.csv', index=False)\n",
        "\n",
        "empty_artist_scores = final[final.artist_score.isna()]\n",
        "empty_artist_scores = empty_artist_scores.dropna(subset=['albumId'])\n",
        "empty_artist_scores.head()\n",
        "\n",
        "empty_artist_scores[['userId', 'trackId', 'artistId']].to_csv('empty_artist_scores.csv', index=False)"
      ]
    },
    {
      "cell_type": "markdown",
      "metadata": {
        "id": "1agrPXhI31kY"
      },
      "source": [
        "## Make predictions on the empty values"
      ]
    },
    {
      "cell_type": "code",
      "source": [
        "!pip install pyspark\n",
        "from pyspark.sql import SparkSession\n",
        "import pandas\n",
        "\n",
        "spark = SparkSession\\\n",
        "        .builder\\\n",
        "        .master('local[*]')\\\n",
        "        .appName('Homework9Part1')\\\n",
        "        .config('spark.driver.maxResultSize', '10g')\\\n",
        "        .config('spark.executor.memory' ,'10g')\\\n",
        "        .config('spark.driver.memory', '10g')\\\n",
        "        .getOrCreate()\n",
        "\n",
        "from pyspark import SparkContext\n",
        "sc = SparkContext.getOrCreate()"
      ],
      "metadata": {
        "colab": {
          "base_uri": "https://localhost:8080/"
        },
        "id": "h2hC2kgjDKmx",
        "outputId": "0e4b4c99-435d-4870-f28a-02ca67139d81"
      },
      "execution_count": null,
      "outputs": [
        {
          "output_type": "stream",
          "name": "stdout",
          "text": [
            "Collecting pyspark\n",
            "  Downloading pyspark-3.2.0.tar.gz (281.3 MB)\n",
            "\u001b[K     |████████████████████████████████| 281.3 MB 37 kB/s \n",
            "\u001b[?25hCollecting py4j==0.10.9.2\n",
            "  Downloading py4j-0.10.9.2-py2.py3-none-any.whl (198 kB)\n",
            "\u001b[K     |████████████████████████████████| 198 kB 32.0 MB/s \n",
            "\u001b[?25hBuilding wheels for collected packages: pyspark\n",
            "  Building wheel for pyspark (setup.py) ... \u001b[?25l\u001b[?25hdone\n",
            "  Created wheel for pyspark: filename=pyspark-3.2.0-py2.py3-none-any.whl size=281805912 sha256=c24ad9189c46f97a2ab68dfb5d9354cf8cea29b8dd7810c4665a4ba04feb1cae\n",
            "  Stored in directory: /root/.cache/pip/wheels/0b/de/d2/9be5d59d7331c6c2a7c1b6d1a4f463ce107332b1ecd4e80718\n",
            "Successfully built pyspark\n",
            "Installing collected packages: py4j, pyspark\n",
            "Successfully installed py4j-0.10.9.2 pyspark-3.2.0\n"
          ]
        }
      ]
    },
    {
      "cell_type": "code",
      "execution_count": null,
      "metadata": {
        "id": "y5dwBg5z31kY"
      },
      "outputs": [],
      "source": [
        "albums = spark.read.csv('empty_album_scores.csv', sep=',', header=True)\n",
        "artists = spark.read.csv('empty_artist_scores.csv', sep=',', header=True)"
      ]
    },
    {
      "cell_type": "code",
      "execution_count": null,
      "metadata": {
        "id": "hT94CATt31kZ",
        "colab": {
          "base_uri": "https://localhost:8080/"
        },
        "outputId": "ec65d080-539b-4503-eba9-52d9f357de9c"
      },
      "outputs": [
        {
          "output_type": "stream",
          "name": "stdout",
          "text": [
            "root\n",
            " |-- userId: string (nullable = true)\n",
            " |-- trackId: string (nullable = true)\n",
            " |-- albumId: string (nullable = true)\n",
            "\n"
          ]
        }
      ],
      "source": [
        "albums.printSchema()"
      ]
    },
    {
      "cell_type": "code",
      "execution_count": null,
      "metadata": {
        "id": "a3cURTBE31kZ",
        "colab": {
          "base_uri": "https://localhost:8080/"
        },
        "outputId": "d0aad8b2-bca7-4b61-a975-1c0e93db85d9"
      },
      "outputs": [
        {
          "output_type": "stream",
          "name": "stdout",
          "text": [
            "root\n",
            " |-- userId: string (nullable = true)\n",
            " |-- trackId: string (nullable = true)\n",
            " |-- artistId: string (nullable = true)\n",
            "\n"
          ]
        }
      ],
      "source": [
        "artists.printSchema()"
      ]
    },
    {
      "cell_type": "code",
      "execution_count": null,
      "metadata": {
        "id": "F0DfeQdx31kZ"
      },
      "outputs": [],
      "source": [
        "from pyspark.sql.types import StructType, StructField, IntegerType, DoubleType\n",
        "\n",
        "albums = albums.withColumn('userId', albums['userId'].cast(IntegerType()))\n",
        "albums = albums.withColumn('trackId', albums['trackId'].cast(IntegerType()))\n",
        "albums = albums.withColumn('albumId', albums['albumId'].cast(IntegerType()))\n",
        "\n",
        "artists = artists.withColumn('userId', artists['userId'].cast(IntegerType()))\n",
        "artists = artists.withColumn('trackId', artists['trackId'].cast(IntegerType()))\n",
        "artists = artists.withColumn('artistId', artists['artistId'].cast(IntegerType()))"
      ]
    },
    {
      "cell_type": "code",
      "execution_count": null,
      "metadata": {
        "id": "ONZTt_Eo31kZ",
        "colab": {
          "base_uri": "https://localhost:8080/"
        },
        "outputId": "fa4d29e4-e2df-4f13-cc88-aefba2f1847e"
      },
      "outputs": [
        {
          "output_type": "stream",
          "name": "stdout",
          "text": [
            "root\n",
            " |-- userId: integer (nullable = true)\n",
            " |-- trackId: integer (nullable = true)\n",
            " |-- albumId: integer (nullable = true)\n",
            "\n"
          ]
        }
      ],
      "source": [
        "albums.printSchema()"
      ]
    },
    {
      "cell_type": "code",
      "execution_count": null,
      "metadata": {
        "id": "wvxEZY_K31kZ",
        "colab": {
          "base_uri": "https://localhost:8080/"
        },
        "outputId": "4301f702-1497-4ccf-b492-9ef1052afe6b"
      },
      "outputs": [
        {
          "output_type": "stream",
          "name": "stdout",
          "text": [
            "root\n",
            " |-- userId: integer (nullable = true)\n",
            " |-- trackId: integer (nullable = true)\n",
            " |-- artistId: integer (nullable = true)\n",
            "\n"
          ]
        }
      ],
      "source": [
        "artists.printSchema()"
      ]
    },
    {
      "cell_type": "code",
      "source": [
        "from pyspark.ml.recommendation import ALS\n",
        "\n",
        "als = ALS(userCol='userId', \n",
        "          itemCol='itemId',\n",
        "          ratingCol='score', \n",
        "          rank=5,\n",
        "          maxIter= 10,\n",
        "          regParam=0.01,\n",
        "          nonnegative = True, \n",
        "          implicitPrefs = False)"
      ],
      "metadata": {
        "id": "zlN2Np8mJLK6"
      },
      "execution_count": null,
      "outputs": []
    },
    {
      "cell_type": "code",
      "source": [
        "train = spark.createDataFrame(train)\n",
        "train.show(5)"
      ],
      "metadata": {
        "colab": {
          "base_uri": "https://localhost:8080/"
        },
        "id": "ZNgdXFooJr5X",
        "outputId": "7c4698e2-368c-45ab-91dd-52bbc37d6614"
      },
      "execution_count": null,
      "outputs": [
        {
          "output_type": "stream",
          "name": "stdout",
          "text": [
            "+------+------+-----+\n",
            "|userId|itemId|score|\n",
            "+------+------+-----+\n",
            "|199808|248969|   90|\n",
            "|199808|  2663|   90|\n",
            "|199808| 28341|   90|\n",
            "|199808| 42563|   90|\n",
            "|199808| 59092|   90|\n",
            "+------+------+-----+\n",
            "only showing top 5 rows\n",
            "\n"
          ]
        }
      ]
    },
    {
      "cell_type": "code",
      "source": [
        "model = als.fit(train)\n",
        "train_output = model.transform(train)\n",
        "train_output.show(5)"
      ],
      "metadata": {
        "colab": {
          "base_uri": "https://localhost:8080/"
        },
        "id": "KioclGBGJRVB",
        "outputId": "0b826585-8f7d-43d3-86c6-72d7f3d39a28"
      },
      "execution_count": null,
      "outputs": [
        {
          "output_type": "stream",
          "name": "stdout",
          "text": [
            "+------+------+-----+----------+\n",
            "|userId|itemId|score|prediction|\n",
            "+------+------+-----+----------+\n",
            "|199808|  2663|   90|  89.15709|\n",
            "|199808| 42563|   90|  89.06621|\n",
            "|199808| 64052|   90|  92.91526|\n",
            "|199808|248969|   90| 87.115036|\n",
            "|199808| 28341|   90|  90.77194|\n",
            "+------+------+-----+----------+\n",
            "only showing top 5 rows\n",
            "\n"
          ]
        }
      ]
    },
    {
      "cell_type": "code",
      "source": [
        " model.setItemCol('itemId')"
      ],
      "metadata": {
        "id": "7ew65bUuVDC5",
        "colab": {
          "base_uri": "https://localhost:8080/"
        },
        "outputId": "6f99423d-14dd-483f-cbb9-a98d6d062de4"
      },
      "execution_count": null,
      "outputs": [
        {
          "output_type": "execute_result",
          "data": {
            "text/plain": [
              "ALSModel: uid=ALS_2776b37f52e6, rank=5"
            ]
          },
          "metadata": {},
          "execution_count": 24
        }
      ]
    },
    {
      "cell_type": "code",
      "execution_count": null,
      "metadata": {
        "id": "mgRjgXnb31ka"
      },
      "outputs": [],
      "source": [
        "prediction_album_train = model.transform(albums.filter('albumId IS NOT NULL').withColumnRenamed('albumId', 'itemId')).withColumnRenamed('itemId', 'albumId').withColumnRenamed('prediction', 'album_score')\n",
        "prediction_artists_train = model.transform(artists.filter('artistId IS NOT NULL').withColumnRenamed('artistId', 'itemId')).withColumnRenamed('itemId', 'artistId').withColumnRenamed('prediction', 'artist_score')\n",
        "\n",
        "prediction_album_train.coalesce(1).write.csv('predicted_albums.csv', header=True)\n",
        "prediction_artists_train.coalesce(1).write.csv('predicted_artists.csv', header=True)"
      ]
    },
    {
      "cell_type": "markdown",
      "metadata": {
        "id": "ucqocTSS31ka"
      },
      "source": [
        "## Find num genres"
      ]
    },
    {
      "cell_type": "code",
      "execution_count": null,
      "metadata": {
        "id": "tldyfe-v31ka",
        "colab": {
          "base_uri": "https://localhost:8080/"
        },
        "outputId": "0fd4e07f-4556-4dc6-c638-50ed1ec4e543"
      },
      "outputs": [
        {
          "output_type": "stream",
          "name": "stdout",
          "text": [
            "+------+--------+--------+--------+---------+---------+---------+---------+---------+---------+---------+---------+---------+----------+----------+----------+----------+----------+----------+----------+----------+----------+----------+----------+----------+\n",
            "|userId| trackId| albumId|artistId|genreId_1|genreId_2|genreId_3|genreId_4|genreId_5|genreId_6|genreId_7|genreId_8|genreId_9|genreId_10|genreId_11|genreId_12|genreId_13|genreId_14|genreId_15|genreId_16|genreId_17|genreId_18|genreId_19|genreId_20|genreId_21|\n",
            "+------+--------+--------+--------+---------+---------+---------+---------+---------+---------+---------+---------+---------+----------+----------+----------+----------+----------+----------+----------+----------+----------+----------+----------+----------+\n",
            "|199810| 47420.0|190891.0| 22907.0| 243099.0|     null|     null|     null|     null|     null|     null|     null|     null|      null|      null|      null|      null|      null|      null|      null|      null|      null|      null|      null|      null|\n",
            "|199810|158436.0|121272.0| 48050.0| 214110.0| 181006.0|     null|     null|     null|     null|     null|     null|     null|      null|      null|      null|      null|      null|      null|      null|      null|      null|      null|      null|      null|\n",
            "|199810|256008.0| 56953.0|275191.0| 158282.0| 242383.0| 207648.0|     null|     null|     null|     null|     null|     null|      null|      null|      null|      null|      null|      null|      null|      null|      null|      null|      null|      null|\n",
            "|199810|234891.0| 18215.0|257019.0| 131552.0|  47898.0| 201738.0|  88853.0|     null|     null|     null|     null|     null|      null|      null|      null|      null|      null|      null|      null|      null|      null|      null|      null|      null|\n",
            "|199810|265026.0|252707.0|257019.0| 131552.0| 201738.0|  88853.0|     null|     null|     null|     null|     null|     null|      null|      null|      null|      null|      null|      null|      null|      null|      null|      null|      null|      null|\n",
            "+------+--------+--------+--------+---------+---------+---------+---------+---------+---------+---------+---------+---------+----------+----------+----------+----------+----------+----------+----------+----------+----------+----------+----------+----------+\n",
            "only showing top 5 rows\n",
            "\n"
          ]
        }
      ],
      "source": [
        "#delete cell after confirming this ithe same as final\n",
        "final2 = spark.read.csv('train_with_empty.csv',\n",
        "                     sep=',',\n",
        "                     nullValue='None',\n",
        "                     header=True)\n",
        "\n",
        "final2.show(5)"
      ]
    },
    {
      "cell_type": "code",
      "execution_count": null,
      "metadata": {
        "id": "EjE2Wi9S31ka"
      },
      "outputs": [],
      "source": [
        "genre_headers = ['userId', 'trackId', 'genreId_1', 'genreId_2', 'genreId_3', 'genreId_4',\n",
        "                 'genreId_5', 'genreId_6', 'genreId_7','genreId_8',\n",
        "                 'genreId_9', 'genreId_10','genreId_11', 'genreId_12',\n",
        "                 'genreId_13', 'genreId_14','genreId_15','genreId_16',\n",
        "                 'genreId_17','genreId_18','genreId_19','genreId_20',\n",
        "                 'genreId_21']"
      ]
    },
    {
      "cell_type": "code",
      "execution_count": null,
      "metadata": {
        "id": "wNNSoaZ331kb",
        "colab": {
          "base_uri": "https://localhost:8080/"
        },
        "outputId": "386f0852-195c-493d-9efc-8c980eb25260"
      },
      "outputs": [
        {
          "output_type": "stream",
          "name": "stdout",
          "text": [
            "+------+--------+----------+\n",
            "|userId| trackId|num_genres|\n",
            "+------+--------+----------+\n",
            "|199810| 47420.0|         1|\n",
            "|199810|158436.0|         2|\n",
            "|199810|256008.0|         3|\n",
            "|199810|234891.0|         4|\n",
            "|199810|265026.0|         3|\n",
            "+------+--------+----------+\n",
            "only showing top 5 rows\n",
            "\n"
          ]
        }
      ],
      "source": [
        "from pyspark.sql.functions import isnull\n",
        "genres = final2.select(genre_headers)\n",
        "\n",
        "final_num_genres = genres.select('userId', 'trackId', (21-sum([isnull(genres[col]).cast(IntegerType()) for col in genres.columns])).alias('num_genres'))\n",
        "\n",
        "final_num_genres.coalesce(1).write.csv('train_num_genres.csv', header=True)\n",
        "final_num_genres.show(5)"
      ]
    },
    {
      "cell_type": "code",
      "execution_count": null,
      "metadata": {
        "id": "1i1iemdA31kb"
      },
      "outputs": [],
      "source": [
        "predicted_artists = pd.read_csv('/content/predicted_artists.csv/part-00000-91362856-b992-4c85-8b0b-ed68546001e4-c000.csv')\n",
        "predicted_albums = pd.read_csv('/content/predicted_albums.csv/part-00000-6ec87873-a976-47d5-929e-9519b86db529-c000.csv')\n",
        "num_genres_df = pd.read_csv('/content/train_num_genres.csv/part-00000-aa97557e-d52a-466a-a707-cf29e7c269c3-c000.csv')"
      ]
    },
    {
      "cell_type": "code",
      "execution_count": null,
      "metadata": {
        "id": "vDHb3lA531kc"
      },
      "outputs": [],
      "source": [
        "predicted_artists = predicted_artists.set_index(['userId', 'trackId'])\n",
        "predicted_albums = predicted_albums.set_index(['userId', 'trackId'])\n",
        "num_genred_df = num_genres_df.set_index(['userId', 'trackId'])"
      ]
    },
    {
      "cell_type": "code",
      "execution_count": null,
      "metadata": {
        "id": "ScTM0jYZ31kc",
        "colab": {
          "base_uri": "https://localhost:8080/",
          "height": 235
        },
        "outputId": "6de14780-a31e-41f1-edc4-5f474ad0b7d9"
      },
      "outputs": [
        {
          "output_type": "execute_result",
          "data": {
            "text/html": [
              "<div>\n",
              "<style scoped>\n",
              "    .dataframe tbody tr th:only-of-type {\n",
              "        vertical-align: middle;\n",
              "    }\n",
              "\n",
              "    .dataframe tbody tr th {\n",
              "        vertical-align: top;\n",
              "    }\n",
              "\n",
              "    .dataframe thead th {\n",
              "        text-align: right;\n",
              "    }\n",
              "</style>\n",
              "<table border=\"1\" class=\"dataframe\">\n",
              "  <thead>\n",
              "    <tr style=\"text-align: right;\">\n",
              "      <th></th>\n",
              "      <th></th>\n",
              "      <th>track_score</th>\n",
              "      <th>album_score</th>\n",
              "      <th>artist_score</th>\n",
              "      <th>num_genres</th>\n",
              "    </tr>\n",
              "    <tr>\n",
              "      <th>userId</th>\n",
              "      <th>trackId</th>\n",
              "      <th></th>\n",
              "      <th></th>\n",
              "      <th></th>\n",
              "      <th></th>\n",
              "    </tr>\n",
              "  </thead>\n",
              "  <tbody>\n",
              "    <tr>\n",
              "      <th rowspan=\"5\" valign=\"top\">199810</th>\n",
              "      <th>47420.0</th>\n",
              "      <td>90.0</td>\n",
              "      <td>66.802060</td>\n",
              "      <td>93.95858</td>\n",
              "      <td>1</td>\n",
              "    </tr>\n",
              "    <tr>\n",
              "      <th>158436.0</th>\n",
              "      <td>50.0</td>\n",
              "      <td>57.595250</td>\n",
              "      <td>70.00000</td>\n",
              "      <td>2</td>\n",
              "    </tr>\n",
              "    <tr>\n",
              "      <th>256008.0</th>\n",
              "      <td>70.0</td>\n",
              "      <td>67.101710</td>\n",
              "      <td>50.00000</td>\n",
              "      <td>3</td>\n",
              "    </tr>\n",
              "    <tr>\n",
              "      <th>234891.0</th>\n",
              "      <td>70.0</td>\n",
              "      <td>55.453636</td>\n",
              "      <td>90.00000</td>\n",
              "      <td>4</td>\n",
              "    </tr>\n",
              "    <tr>\n",
              "      <th>265026.0</th>\n",
              "      <td>70.0</td>\n",
              "      <td>56.721740</td>\n",
              "      <td>90.00000</td>\n",
              "      <td>3</td>\n",
              "    </tr>\n",
              "  </tbody>\n",
              "</table>\n",
              "</div>"
            ],
            "text/plain": [
              "                 track_score  album_score  artist_score  num_genres\n",
              "userId trackId                                                     \n",
              "199810 47420.0          90.0    66.802060      93.95858           1\n",
              "       158436.0         50.0    57.595250      70.00000           2\n",
              "       256008.0         70.0    67.101710      50.00000           3\n",
              "       234891.0         70.0    55.453636      90.00000           4\n",
              "       265026.0         70.0    56.721740      90.00000           3"
            ]
          },
          "metadata": {},
          "execution_count": 35
        }
      ],
      "source": [
        "final = final[['userId', 'trackId', 'track_score', 'album_score', 'artist_score']].set_index(['userId', 'trackId'])\n",
        "\n",
        "final['artist_score'] = final['artist_score'].fillna(predicted_artists['artist_score'])\n",
        "final['album_score'] = final['album_score'].fillna(predicted_albums['album_score'])\n",
        "final['num_genres'] = num_genred_df['num_genres']\n",
        "\n",
        "final.head()"
      ]
    },
    {
      "cell_type": "code",
      "execution_count": null,
      "metadata": {
        "id": "lcou7LNv31kd",
        "colab": {
          "base_uri": "https://localhost:8080/"
        },
        "outputId": "5df3be47-029a-45ed-9736-c8fcc25da6ef"
      },
      "outputs": [
        {
          "output_type": "execute_result",
          "data": {
            "text/plain": [
              "track_score     0\n",
              "album_score     0\n",
              "artist_score    0\n",
              "num_genres      0\n",
              "dtype: int64"
            ]
          },
          "metadata": {},
          "execution_count": 36
        }
      ],
      "source": [
        "final.isna().sum()\n",
        "final = final.fillna(0)\n",
        "final.isna().sum()"
      ]
    },
    {
      "cell_type": "code",
      "execution_count": null,
      "metadata": {
        "id": "Rvuw3vGX31ke"
      },
      "outputs": [],
      "source": [
        "final.to_csv('finalTrainset.csv')"
      ]
    }
  ]
}