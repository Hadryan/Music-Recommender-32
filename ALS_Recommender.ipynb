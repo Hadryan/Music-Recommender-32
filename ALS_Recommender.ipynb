{
  "cells": [
    {
      "cell_type": "code",
      "execution_count": null,
      "metadata": {
        "colab": {
          "base_uri": "https://localhost:8080/"
        },
        "id": "pCUjdpai3_8k",
        "outputId": "5c091765-51a7-48e4-d6c4-38b20893b59a"
      },
      "outputs": [
        {
          "output_type": "stream",
          "name": "stdout",
          "text": [
            "Collecting pyspark\n",
            "  Downloading pyspark-3.2.0.tar.gz (281.3 MB)\n",
            "\u001b[K     |████████████████████████████████| 281.3 MB 30 kB/s \n",
            "\u001b[?25hCollecting py4j==0.10.9.2\n",
            "  Downloading py4j-0.10.9.2-py2.py3-none-any.whl (198 kB)\n",
            "\u001b[K     |████████████████████████████████| 198 kB 32.6 MB/s \n",
            "\u001b[?25hBuilding wheels for collected packages: pyspark\n",
            "  Building wheel for pyspark (setup.py) ... \u001b[?25l\u001b[?25hdone\n",
            "  Created wheel for pyspark: filename=pyspark-3.2.0-py2.py3-none-any.whl size=281805912 sha256=f9f7fd893bb0b6d191d4bb480d81ebe03834bcc4a6d2233798f0269e7f6144e2\n",
            "  Stored in directory: /root/.cache/pip/wheels/0b/de/d2/9be5d59d7331c6c2a7c1b6d1a4f463ce107332b1ecd4e80718\n",
            "Successfully built pyspark\n",
            "Installing collected packages: py4j, pyspark\n",
            "Successfully installed py4j-0.10.9.2 pyspark-3.2.0\n"
          ]
        }
      ],
      "source": [
        "!pip install pyspark\n",
        "from pyspark.sql import SparkSession\n",
        "\n",
        "spark = SparkSession\\\n",
        "        .builder\\\n",
        "        .master('local[*]')\\\n",
        "        .appName('Homework9Part1')\\\n",
        "        .config('spark.driver.maxResultSize', '10g')\\\n",
        "        .config('spark.executor.memory' ,'10g')\\\n",
        "        .config('spark.driver.memory', '10g')\\\n",
        "        .getOrCreate()\n",
        "\n",
        "from pyspark import SparkContext\n",
        "sc = SparkContext.getOrCreate()"
      ]
    },
    {
      "cell_type": "markdown",
      "metadata": {
        "id": "HokLHB2Z31j_"
      },
      "source": [
        "## Import Data and process for training"
      ]
    },
    {
      "cell_type": "code",
      "source": [
        "import pandas as pd\n",
        "\n",
        "columns = [\"userId\", \"itemId\", \"score\"]\n",
        "# Load Training data from trainIdx2_matrix\n",
        "train = pd.read_csv('trainIdx2_matrix.txt', sep=\"|\",names= columns, index_col=False, dtype=int)\n",
        "\n",
        "\n",
        "train.head()\n"
      ],
      "metadata": {
        "colab": {
          "base_uri": "https://localhost:8080/",
          "height": 204
        },
        "id": "rmjNcipzRzXn",
        "outputId": "28b6d54b-bac0-43c5-87c2-50cef82bd443"
      },
      "execution_count": null,
      "outputs": [
        {
          "output_type": "execute_result",
          "data": {
            "text/html": [
              "<div>\n",
              "<style scoped>\n",
              "    .dataframe tbody tr th:only-of-type {\n",
              "        vertical-align: middle;\n",
              "    }\n",
              "\n",
              "    .dataframe tbody tr th {\n",
              "        vertical-align: top;\n",
              "    }\n",
              "\n",
              "    .dataframe thead th {\n",
              "        text-align: right;\n",
              "    }\n",
              "</style>\n",
              "<table border=\"1\" class=\"dataframe\">\n",
              "  <thead>\n",
              "    <tr style=\"text-align: right;\">\n",
              "      <th></th>\n",
              "      <th>userId</th>\n",
              "      <th>itemId</th>\n",
              "      <th>score</th>\n",
              "    </tr>\n",
              "  </thead>\n",
              "  <tbody>\n",
              "    <tr>\n",
              "      <th>0</th>\n",
              "      <td>199808</td>\n",
              "      <td>248969</td>\n",
              "      <td>90</td>\n",
              "    </tr>\n",
              "    <tr>\n",
              "      <th>1</th>\n",
              "      <td>199808</td>\n",
              "      <td>2663</td>\n",
              "      <td>90</td>\n",
              "    </tr>\n",
              "    <tr>\n",
              "      <th>2</th>\n",
              "      <td>199808</td>\n",
              "      <td>28341</td>\n",
              "      <td>90</td>\n",
              "    </tr>\n",
              "    <tr>\n",
              "      <th>3</th>\n",
              "      <td>199808</td>\n",
              "      <td>42563</td>\n",
              "      <td>90</td>\n",
              "    </tr>\n",
              "    <tr>\n",
              "      <th>4</th>\n",
              "      <td>199808</td>\n",
              "      <td>59092</td>\n",
              "      <td>90</td>\n",
              "    </tr>\n",
              "  </tbody>\n",
              "</table>\n",
              "</div>"
            ],
            "text/plain": [
              "   userId  itemId  score\n",
              "0  199808  248969     90\n",
              "1  199808    2663     90\n",
              "2  199808   28341     90\n",
              "3  199808   42563     90\n",
              "4  199808   59092     90"
            ]
          },
          "metadata": {},
          "execution_count": 4
        }
      ]
    },
    {
      "cell_type": "code",
      "source": [
        "from pyspark.sql.types import StructType, StructField, IntegerType, DoubleType\n",
        "\n",
        "#Used pyspark becasue pandas columns with NA values cannot be int\n",
        "test_schema = StructType([\n",
        "    StructField('userId', IntegerType()),\n",
        "    StructField('trackId', IntegerType()),\n",
        "    StructField('albumId', IntegerType()),\n",
        "    StructField('artistId', IntegerType()),\n",
        "    StructField('genreId_1', IntegerType()),\n",
        "    StructField('genreId_2', IntegerType()),\n",
        "    StructField('genreId_3', IntegerType()),\n",
        "    StructField('genreId_4', IntegerType()),\n",
        "    StructField('genreId_5', IntegerType()),\n",
        "    StructField('genreId_6', IntegerType()),\n",
        "    StructField('genreId_7', IntegerType()),\n",
        "    StructField('genreId_8', IntegerType()),\n",
        "    StructField('genreId_9', IntegerType()),\n",
        "    StructField('genreId_10', IntegerType()),\n",
        "    StructField('genreId_11', IntegerType()),\n",
        "    StructField('genreId_12', IntegerType()),\n",
        "    StructField('genreId_13', IntegerType()),\n",
        "    StructField('genreId_14', IntegerType()),\n",
        "    StructField('genreId_15', IntegerType()),\n",
        "    StructField('genreId_16', IntegerType()),\n",
        "    StructField('genreId_17', IntegerType()),\n",
        "    StructField('genreId_18', IntegerType()),\n",
        "    StructField('genreId_19', IntegerType()),\n",
        "    StructField('genreId_20', IntegerType()),\n",
        "    StructField('genreId_21', IntegerType()),\n",
        "])\n",
        "\n",
        "test = spark.read.csv('testTrack_hierarchy.txt', sep='|', nullValue='None', header=False, schema= test_schema)\n",
        "\n",
        "test.show(5)"
      ],
      "metadata": {
        "colab": {
          "base_uri": "https://localhost:8080/"
        },
        "id": "R1XEVDsnSUSJ",
        "outputId": "78bcb04e-b9f0-4200-a56a-3782fe0c3d78"
      },
      "execution_count": null,
      "outputs": [
        {
          "output_type": "stream",
          "name": "stdout",
          "text": [
            "+------+-------+-------+--------+---------+---------+---------+---------+---------+---------+---------+---------+---------+----------+----------+----------+----------+----------+----------+----------+----------+----------+----------+----------+----------+\n",
            "|userId|trackId|albumId|artistId|genreId_1|genreId_2|genreId_3|genreId_4|genreId_5|genreId_6|genreId_7|genreId_8|genreId_9|genreId_10|genreId_11|genreId_12|genreId_13|genreId_14|genreId_15|genreId_16|genreId_17|genreId_18|genreId_19|genreId_20|genreId_21|\n",
            "+------+-------+-------+--------+---------+---------+---------+---------+---------+---------+---------+---------+---------+----------+----------+----------+----------+----------+----------+----------+----------+----------+----------+----------+----------+\n",
            "|199810| 208019| 209288|    null|     null|     null|     null|     null|     null|     null|     null|     null|     null|      null|      null|      null|      null|      null|      null|      null|      null|      null|      null|      null|      null|\n",
            "|199810|  74139| 277282|  271146|   113360|   173467|   173655|   192976|   146792|    48505|   133159|     null|     null|      null|      null|      null|      null|      null|      null|      null|      null|      null|      null|      null|      null|\n",
            "|199810|   9903|   null|    null|    33722|   123396|    79926|    73523|     null|     null|     null|     null|     null|      null|      null|      null|      null|      null|      null|      null|      null|      null|      null|      null|      null|\n",
            "|199810| 242681| 190640|  244574|    61215|    17453|   274088|     null|     null|     null|     null|     null|     null|      null|      null|      null|      null|      null|      null|      null|      null|      null|      null|      null|      null|\n",
            "|199810|  18515| 146344|   33168|    19913|    48505|   154024|     null|     null|     null|     null|     null|     null|      null|      null|      null|      null|      null|      null|      null|      null|      null|      null|      null|      null|\n",
            "+------+-------+-------+--------+---------+---------+---------+---------+---------+---------+---------+---------+---------+----------+----------+----------+----------+----------+----------+----------+----------+----------+----------+----------+----------+\n",
            "only showing top 5 rows\n",
            "\n"
          ]
        }
      ]
    },
    {
      "cell_type": "code",
      "source": [
        "# Remove Users from Train that are not include in test\n",
        "unique_users = test.select('userId').distinct().coalesce(1) #Get list of all unique users in test\n",
        "train = train[train['userId'].isin(unique_users.toPandas().userId)] # Keep only users from test\n",
        "\n",
        "train.head()\n",
        "#reduced rows from 12403575 to 10643437"
      ],
      "metadata": {
        "colab": {
          "base_uri": "https://localhost:8080/",
          "height": 204
        },
        "id": "nrLm79WbagX2",
        "outputId": "cacad759-1515-4e1e-8c07-c47e0697f1fd"
      },
      "execution_count": null,
      "outputs": [
        {
          "output_type": "execute_result",
          "data": {
            "text/html": [
              "<div>\n",
              "<style scoped>\n",
              "    .dataframe tbody tr th:only-of-type {\n",
              "        vertical-align: middle;\n",
              "    }\n",
              "\n",
              "    .dataframe tbody tr th {\n",
              "        vertical-align: top;\n",
              "    }\n",
              "\n",
              "    .dataframe thead th {\n",
              "        text-align: right;\n",
              "    }\n",
              "</style>\n",
              "<table border=\"1\" class=\"dataframe\">\n",
              "  <thead>\n",
              "    <tr style=\"text-align: right;\">\n",
              "      <th></th>\n",
              "      <th>userId</th>\n",
              "      <th>itemId</th>\n",
              "      <th>score</th>\n",
              "    </tr>\n",
              "  </thead>\n",
              "  <tbody>\n",
              "    <tr>\n",
              "      <th>73</th>\n",
              "      <td>199810</td>\n",
              "      <td>48050</td>\n",
              "      <td>70</td>\n",
              "    </tr>\n",
              "    <tr>\n",
              "      <th>74</th>\n",
              "      <td>199810</td>\n",
              "      <td>1589</td>\n",
              "      <td>50</td>\n",
              "    </tr>\n",
              "    <tr>\n",
              "      <th>75</th>\n",
              "      <td>199810</td>\n",
              "      <td>155767</td>\n",
              "      <td>70</td>\n",
              "    </tr>\n",
              "    <tr>\n",
              "      <th>76</th>\n",
              "      <td>199810</td>\n",
              "      <td>178994</td>\n",
              "      <td>50</td>\n",
              "    </tr>\n",
              "    <tr>\n",
              "      <th>77</th>\n",
              "      <td>199810</td>\n",
              "      <td>195282</td>\n",
              "      <td>50</td>\n",
              "    </tr>\n",
              "  </tbody>\n",
              "</table>\n",
              "</div>"
            ],
            "text/plain": [
              "    userId  itemId  score\n",
              "73  199810   48050     70\n",
              "74  199810    1589     50\n",
              "75  199810  155767     70\n",
              "76  199810  178994     50\n",
              "77  199810  195282     50"
            ]
          },
          "metadata": {},
          "execution_count": 6
        }
      ]
    },
    {
      "cell_type": "code",
      "execution_count": null,
      "metadata": {
        "colab": {
          "base_uri": "https://localhost:8080/"
        },
        "id": "Ij9Pg6BL31kJ",
        "outputId": "94b0dfd8-3a82-4d8c-8a68-4cffc071e473"
      },
      "outputs": [
        {
          "output_type": "stream",
          "name": "stdout",
          "text": [
            "+------+------+-----+\n",
            "|userId|itemId|score|\n",
            "+------+------+-----+\n",
            "|199810| 48050|   70|\n",
            "|199810|  1589|   50|\n",
            "|199810|155767|   70|\n",
            "|199810|178994|   50|\n",
            "|199810|195282|   50|\n",
            "+------+------+-----+\n",
            "only showing top 5 rows\n",
            "\n"
          ]
        }
      ],
      "source": [
        "# convert to spark df\n",
        "train = spark.createDataFrame(train)\n",
        "train.show(5)"
      ]
    },
    {
      "cell_type": "markdown",
      "metadata": {
        "id": "wP4GT8nw31kJ"
      },
      "source": [
        "## Instantiate and Fit ALS Model"
      ]
    },
    {
      "cell_type": "code",
      "execution_count": null,
      "metadata": {
        "id": "vM9mCis431kK"
      },
      "outputs": [],
      "source": [
        "from pyspark.ml.recommendation import ALS\n",
        "\n",
        "als = ALS(userCol='userId', \n",
        "          itemCol='itemId',\n",
        "          ratingCol='score', \n",
        "          rank=5,\n",
        "          maxIter= 10,\n",
        "          regParam=0.01,\n",
        "          nonnegative = True, \n",
        "          implicitPrefs = False)"
      ]
    },
    {
      "cell_type": "code",
      "execution_count": null,
      "metadata": {
        "id": "4aQ_dTiI31kK",
        "colab": {
          "base_uri": "https://localhost:8080/"
        },
        "outputId": "f0b2428a-498f-43fb-bd3b-791fb8185264"
      },
      "outputs": [
        {
          "output_type": "stream",
          "name": "stdout",
          "text": [
            "+------+------+-----+----------+\n",
            "|userId|itemId|score|prediction|\n",
            "+------+------+-----+----------+\n",
            "|199810|275191|   50| 78.732635|\n",
            "|199810|  1589|   50|  73.12158|\n",
            "|199810|178994|   50| 64.965836|\n",
            "|199810| 48050|   70|   71.0759|\n",
            "|199810|155767|   70|  34.88947|\n",
            "+------+------+-----+----------+\n",
            "only showing top 5 rows\n",
            "\n"
          ]
        }
      ],
      "source": [
        "model = als.fit(train)\n",
        "train_output = model.transform(train)\n",
        "train_output.show(5)"
      ]
    },
    {
      "cell_type": "code",
      "execution_count": null,
      "metadata": {
        "colab": {
          "base_uri": "https://localhost:8080/"
        },
        "id": "8g6dPiqr31kM",
        "outputId": "43162a66-2026-4812-c109-64368c8790cb"
      },
      "outputs": [
        {
          "output_type": "stream",
          "name": "stdout",
          "text": [
            "RMSE:  26.98792269513774\n"
          ]
        }
      ],
      "source": [
        "from pyspark.ml.evaluation import RegressionEvaluator\n",
        "\n",
        "evaluator = RegressionEvaluator(metricName='rmse', labelCol='score', predictionCol='prediction')\n",
        "print('RMSE: ', evaluator.evaluate(train_output))"
      ]
    },
    {
      "cell_type": "code",
      "execution_count": null,
      "metadata": {
        "id": "hmOIxLIa31kN"
      },
      "outputs": [],
      "source": [
        "# Predict scores of track, album, and artist\n",
        "track_score = model.setItemCol('trackId').transform(test)\n",
        "album_score = model.setItemCol('albumId').transform(test.filter('albumId IS NOT NULL'))\n",
        "artist_score= model.setItemCol('artistId').transform(test.filter('artistId IS NOT NULL'))"
      ]
    },
    {
      "cell_type": "code",
      "execution_count": null,
      "metadata": {
        "id": "sWLZaCH-31kP",
        "colab": {
          "base_uri": "https://localhost:8080/"
        },
        "outputId": "7795ed85-4d16-457f-b70c-968f484b4b6b"
      },
      "outputs": [
        {
          "output_type": "stream",
          "name": "stdout",
          "text": [
            "+------+-------+-----------+-----------+------------+\n",
            "|userId|trackId|track_score|album_score|artist_score|\n",
            "+------+-------+-----------+-----------+------------+\n",
            "|199810|  74139|         59|         73|          56|\n",
            "|199810| 242681|         61|         65|          68|\n",
            "|199810|   9903|         74|          0|           0|\n",
            "|199810| 208019|         64|         57|           0|\n",
            "|199810| 105760|         68|         60|          70|\n",
            "+------+-------+-----------+-----------+------------+\n",
            "only showing top 5 rows\n",
            "\n"
          ]
        }
      ],
      "source": [
        "# Combine all scores into dataframe\n",
        "from pyspark.sql.types import IntegerType\n",
        "\n",
        "predictions = test.select('userId', 'trackId')\n",
        "\n",
        "predictions = predictions.join(track_score.select('userId', 'trackId', 'prediction'), ['userId', 'trackId'], 'left')\n",
        "predictions = predictions.withColumn('prediction', predictions['prediction'].cast(IntegerType()))\\\n",
        "                         .withColumnRenamed('prediction', 'track_score')\n",
        "\n",
        "predictions = predictions.join(album_score.select('userId', 'trackId', 'prediction'), ['userId', 'trackId'], 'left')\n",
        "\n",
        "predictions = predictions.withColumn('prediction', predictions['prediction'].cast(IntegerType()))\\\n",
        "                         .withColumnRenamed('prediction', 'album_score')\n",
        "\n",
        "predictions = predictions.join(artist_score.select('userId', 'trackId', 'prediction'), ['userId', 'trackId'], 'left')\n",
        "\n",
        "predictions = predictions.withColumn('prediction', predictions['prediction'].cast(IntegerType()))\\\n",
        "                         .withColumnRenamed('prediction', 'artist_score')\n",
        "\n",
        "predictions = predictions.na.fill(0) #Replace null values with 0\n",
        "predictions.show(5)"
      ]
    },
    {
      "cell_type": "code",
      "execution_count": null,
      "metadata": {
        "id": "7f9mCqSF31kQ",
        "colab": {
          "base_uri": "https://localhost:8080/"
        },
        "outputId": "0c223e99-18ed-4802-c90c-2955ff464c99"
      },
      "outputs": [
        {
          "output_type": "stream",
          "name": "stdout",
          "text": [
            "+------+-------+-----------+-----------+------------+----------+\n",
            "|userId|trackId|track_score|album_score|artist_score|num_genres|\n",
            "+------+-------+-----------+-----------+------------+----------+\n",
            "|199810|  74139|         59|         73|          56|         7|\n",
            "|199810| 242681|         61|         65|          68|         3|\n",
            "|199810|   9903|         74|          0|           0|         4|\n",
            "|199810| 208019|         64|         57|           0|         0|\n",
            "|199810| 105760|         68|         60|          70|         4|\n",
            "+------+-------+-----------+-----------+------------+----------+\n",
            "only showing top 5 rows\n",
            "\n"
          ]
        }
      ],
      "source": [
        "# Add column for number of genres present for the user-track\n",
        "\n",
        "genre_headers = ['userId', 'trackId', 'genreId_1', 'genreId_2', 'genreId_3', 'genreId_4',\n",
        "                 'genreId_5', 'genreId_6', 'genreId_7','genreId_8',\n",
        "                 'genreId_9', 'genreId_10','genreId_11', 'genreId_12',\n",
        "                 'genreId_13', 'genreId_14','genreId_15','genreId_16',\n",
        "                 'genreId_17','genreId_18','genreId_19','genreId_20',\n",
        "                 'genreId_21']\n",
        "\n",
        "genres = test.select(genre_headers)\n",
        "\n",
        "from pyspark.sql.functions import isnull\n",
        "# Get sum of null genre values and subtract from 21 (total genres)\n",
        "num_genres = genres.select('userId', 'trackId', (21-sum([isnull(genres[col]).cast(IntegerType()) for col in genres.columns])).alias('num_genres')) #Must change to isNotNull()\n",
        "predictions = predictions.join(num_genres, ['userId', 'trackId'], 'left')\n",
        "\n",
        "predictions.coalesce(1).write.csv('\\content\\scores.csv', header=True)\n",
        "predictions.show(5)"
      ]
    },
    {
      "cell_type": "markdown",
      "metadata": {
        "id": "YEMEbbg331kS"
      },
      "source": [
        "# Create the train matrix that has the same structure of the test data"
      ]
    },
    {
      "cell_type": "code",
      "execution_count": null,
      "metadata": {
        "id": "l23O3_H431kS"
      },
      "outputs": [],
      "source": [
        "train2 = pd.read_csv('trainIdx2_matrix.txt', header=None, sep='|', names=['userId', 'itemId', 'score'])"
      ]
    },
    {
      "cell_type": "code",
      "execution_count": null,
      "metadata": {
        "id": "wlsReESY31kS",
        "colab": {
          "base_uri": "https://localhost:8080/"
        },
        "outputId": "ff710849-21a0-4f94-f39c-33c3b6b2a1d5"
      },
      "outputs": [
        {
          "output_type": "execute_result",
          "data": {
            "text/html": [
              "<div>\n",
              "<style scoped>\n",
              "    .dataframe tbody tr th:only-of-type {\n",
              "        vertical-align: middle;\n",
              "    }\n",
              "\n",
              "    .dataframe tbody tr th {\n",
              "        vertical-align: top;\n",
              "    }\n",
              "\n",
              "    .dataframe thead th {\n",
              "        text-align: right;\n",
              "    }\n",
              "</style>\n",
              "<table border=\"1\" class=\"dataframe\">\n",
              "  <thead>\n",
              "    <tr style=\"text-align: right;\">\n",
              "      <th></th>\n",
              "      <th>userId</th>\n",
              "      <th>itemId</th>\n",
              "      <th>score</th>\n",
              "    </tr>\n",
              "  </thead>\n",
              "  <tbody>\n",
              "    <tr>\n",
              "      <th>0</th>\n",
              "      <td>199808</td>\n",
              "      <td>248969</td>\n",
              "      <td>90</td>\n",
              "    </tr>\n",
              "    <tr>\n",
              "      <th>1</th>\n",
              "      <td>199808</td>\n",
              "      <td>2663</td>\n",
              "      <td>90</td>\n",
              "    </tr>\n",
              "    <tr>\n",
              "      <th>2</th>\n",
              "      <td>199808</td>\n",
              "      <td>28341</td>\n",
              "      <td>90</td>\n",
              "    </tr>\n",
              "    <tr>\n",
              "      <th>3</th>\n",
              "      <td>199808</td>\n",
              "      <td>42563</td>\n",
              "      <td>90</td>\n",
              "    </tr>\n",
              "    <tr>\n",
              "      <th>4</th>\n",
              "      <td>199808</td>\n",
              "      <td>59092</td>\n",
              "      <td>90</td>\n",
              "    </tr>\n",
              "  </tbody>\n",
              "</table>\n",
              "</div>"
            ],
            "text/plain": [
              "   userId  itemId  score\n",
              "0  199808  248969     90\n",
              "1  199808    2663     90\n",
              "2  199808   28341     90\n",
              "3  199808   42563     90\n",
              "4  199808   59092     90"
            ]
          },
          "metadata": {},
          "execution_count": 31
        }
      ],
      "source": [
        "train2.head()"
      ]
    },
    {
      "cell_type": "code",
      "execution_count": null,
      "metadata": {
        "id": "YoCmIrDx31kT",
        "colab": {
          "base_uri": "https://localhost:8080/"
        },
        "outputId": "6a5a5cb7-ab51-491a-add4-7b2c4e9ac527"
      },
      "outputs": [
        {
          "output_type": "error",
          "ename": "FileNotFoundError",
          "evalue": "ignored",
          "traceback": [
            "\u001b[0;31m---------------------------------------------------------------------------\u001b[0m",
            "\u001b[0;31mFileNotFoundError\u001b[0m                         Traceback (most recent call last)",
            "\u001b[0;32m<ipython-input-32-5a3d6526deab>\u001b[0m in \u001b[0;36m<module>\u001b[0;34m()\u001b[0m\n\u001b[0;32m----> 1\u001b[0;31m \u001b[0mtrackIds\u001b[0m \u001b[0;34m=\u001b[0m \u001b[0mpd\u001b[0m\u001b[0;34m.\u001b[0m\u001b[0mread_csv\u001b[0m\u001b[0;34m(\u001b[0m\u001b[0;34m'trackData2.txt'\u001b[0m\u001b[0;34m,\u001b[0m \u001b[0msep\u001b[0m\u001b[0;34m=\u001b[0m\u001b[0;34m'|'\u001b[0m\u001b[0;34m,\u001b[0m \u001b[0musecols\u001b[0m\u001b[0;34m=\u001b[0m\u001b[0;34m[\u001b[0m\u001b[0;36m0\u001b[0m\u001b[0;34m]\u001b[0m\u001b[0;34m,\u001b[0m \u001b[0mheader\u001b[0m\u001b[0;34m=\u001b[0m\u001b[0;32mNone\u001b[0m\u001b[0;34m,\u001b[0m \u001b[0mnames\u001b[0m\u001b[0;34m=\u001b[0m\u001b[0;34m[\u001b[0m\u001b[0;34m'trackId'\u001b[0m\u001b[0;34m]\u001b[0m\u001b[0;34m)\u001b[0m\u001b[0;34m\u001b[0m\u001b[0;34m\u001b[0m\u001b[0m\n\u001b[0m\u001b[1;32m      2\u001b[0m \u001b[0malbumIds\u001b[0m \u001b[0;34m=\u001b[0m \u001b[0mpd\u001b[0m\u001b[0;34m.\u001b[0m\u001b[0mread_csv\u001b[0m\u001b[0;34m(\u001b[0m\u001b[0;34m'albumData2.txt'\u001b[0m\u001b[0;34m,\u001b[0m \u001b[0msep\u001b[0m\u001b[0;34m=\u001b[0m\u001b[0;34m'|'\u001b[0m\u001b[0;34m,\u001b[0m \u001b[0musecols\u001b[0m\u001b[0;34m=\u001b[0m\u001b[0;34m[\u001b[0m\u001b[0;36m0\u001b[0m\u001b[0;34m]\u001b[0m\u001b[0;34m,\u001b[0m \u001b[0mheader\u001b[0m\u001b[0;34m=\u001b[0m\u001b[0;32mNone\u001b[0m\u001b[0;34m,\u001b[0m \u001b[0mnames\u001b[0m\u001b[0;34m=\u001b[0m\u001b[0;34m[\u001b[0m\u001b[0;34m'albumId'\u001b[0m\u001b[0;34m]\u001b[0m\u001b[0;34m)\u001b[0m\u001b[0;34m\u001b[0m\u001b[0;34m\u001b[0m\u001b[0m\n\u001b[1;32m      3\u001b[0m \u001b[0martistIds\u001b[0m \u001b[0;34m=\u001b[0m \u001b[0mpd\u001b[0m\u001b[0;34m.\u001b[0m\u001b[0mread_csv\u001b[0m\u001b[0;34m(\u001b[0m\u001b[0;34m'artistData2.txt'\u001b[0m\u001b[0;34m,\u001b[0m \u001b[0msep\u001b[0m\u001b[0;34m=\u001b[0m\u001b[0;34m'|'\u001b[0m\u001b[0;34m,\u001b[0m \u001b[0musecols\u001b[0m\u001b[0;34m=\u001b[0m\u001b[0;34m[\u001b[0m\u001b[0;36m0\u001b[0m\u001b[0;34m]\u001b[0m\u001b[0;34m,\u001b[0m \u001b[0mheader\u001b[0m\u001b[0;34m=\u001b[0m\u001b[0;32mNone\u001b[0m\u001b[0;34m,\u001b[0m \u001b[0mnames\u001b[0m\u001b[0;34m=\u001b[0m\u001b[0;34m[\u001b[0m\u001b[0;34m'artistId'\u001b[0m\u001b[0;34m]\u001b[0m\u001b[0;34m)\u001b[0m\u001b[0;34m\u001b[0m\u001b[0;34m\u001b[0m\u001b[0m\n\u001b[1;32m      4\u001b[0m \u001b[0mgenreIds\u001b[0m \u001b[0;34m=\u001b[0m \u001b[0mpd\u001b[0m\u001b[0;34m.\u001b[0m\u001b[0mread_csv\u001b[0m\u001b[0;34m(\u001b[0m\u001b[0;34m'genreData2.txt'\u001b[0m\u001b[0;34m,\u001b[0m \u001b[0msep\u001b[0m\u001b[0;34m=\u001b[0m\u001b[0;34m'|'\u001b[0m\u001b[0;34m,\u001b[0m \u001b[0musecols\u001b[0m\u001b[0;34m=\u001b[0m\u001b[0;34m[\u001b[0m\u001b[0;36m0\u001b[0m\u001b[0;34m]\u001b[0m\u001b[0;34m,\u001b[0m \u001b[0mheader\u001b[0m\u001b[0;34m=\u001b[0m\u001b[0;32mNone\u001b[0m\u001b[0;34m,\u001b[0m \u001b[0mnames\u001b[0m\u001b[0;34m=\u001b[0m\u001b[0;34m[\u001b[0m\u001b[0;34m'genreId'\u001b[0m\u001b[0;34m]\u001b[0m\u001b[0;34m)\u001b[0m\u001b[0;34m\u001b[0m\u001b[0;34m\u001b[0m\u001b[0m\n",
            "\u001b[0;32m/usr/local/lib/python3.7/dist-packages/pandas/io/parsers.py\u001b[0m in \u001b[0;36mread_csv\u001b[0;34m(filepath_or_buffer, sep, delimiter, header, names, index_col, usecols, squeeze, prefix, mangle_dupe_cols, dtype, engine, converters, true_values, false_values, skipinitialspace, skiprows, skipfooter, nrows, na_values, keep_default_na, na_filter, verbose, skip_blank_lines, parse_dates, infer_datetime_format, keep_date_col, date_parser, dayfirst, cache_dates, iterator, chunksize, compression, thousands, decimal, lineterminator, quotechar, quoting, doublequote, escapechar, comment, encoding, dialect, error_bad_lines, warn_bad_lines, delim_whitespace, low_memory, memory_map, float_precision)\u001b[0m\n\u001b[1;32m    686\u001b[0m     )\n\u001b[1;32m    687\u001b[0m \u001b[0;34m\u001b[0m\u001b[0m\n\u001b[0;32m--> 688\u001b[0;31m     \u001b[0;32mreturn\u001b[0m \u001b[0m_read\u001b[0m\u001b[0;34m(\u001b[0m\u001b[0mfilepath_or_buffer\u001b[0m\u001b[0;34m,\u001b[0m \u001b[0mkwds\u001b[0m\u001b[0;34m)\u001b[0m\u001b[0;34m\u001b[0m\u001b[0;34m\u001b[0m\u001b[0m\n\u001b[0m\u001b[1;32m    689\u001b[0m \u001b[0;34m\u001b[0m\u001b[0m\n\u001b[1;32m    690\u001b[0m \u001b[0;34m\u001b[0m\u001b[0m\n",
            "\u001b[0;32m/usr/local/lib/python3.7/dist-packages/pandas/io/parsers.py\u001b[0m in \u001b[0;36m_read\u001b[0;34m(filepath_or_buffer, kwds)\u001b[0m\n\u001b[1;32m    452\u001b[0m \u001b[0;34m\u001b[0m\u001b[0m\n\u001b[1;32m    453\u001b[0m     \u001b[0;31m# Create the parser.\u001b[0m\u001b[0;34m\u001b[0m\u001b[0;34m\u001b[0m\u001b[0;34m\u001b[0m\u001b[0m\n\u001b[0;32m--> 454\u001b[0;31m     \u001b[0mparser\u001b[0m \u001b[0;34m=\u001b[0m \u001b[0mTextFileReader\u001b[0m\u001b[0;34m(\u001b[0m\u001b[0mfp_or_buf\u001b[0m\u001b[0;34m,\u001b[0m \u001b[0;34m**\u001b[0m\u001b[0mkwds\u001b[0m\u001b[0;34m)\u001b[0m\u001b[0;34m\u001b[0m\u001b[0;34m\u001b[0m\u001b[0m\n\u001b[0m\u001b[1;32m    455\u001b[0m \u001b[0;34m\u001b[0m\u001b[0m\n\u001b[1;32m    456\u001b[0m     \u001b[0;32mif\u001b[0m \u001b[0mchunksize\u001b[0m \u001b[0;32mor\u001b[0m \u001b[0miterator\u001b[0m\u001b[0;34m:\u001b[0m\u001b[0;34m\u001b[0m\u001b[0;34m\u001b[0m\u001b[0m\n",
            "\u001b[0;32m/usr/local/lib/python3.7/dist-packages/pandas/io/parsers.py\u001b[0m in \u001b[0;36m__init__\u001b[0;34m(self, f, engine, **kwds)\u001b[0m\n\u001b[1;32m    946\u001b[0m             \u001b[0mself\u001b[0m\u001b[0;34m.\u001b[0m\u001b[0moptions\u001b[0m\u001b[0;34m[\u001b[0m\u001b[0;34m\"has_index_names\"\u001b[0m\u001b[0;34m]\u001b[0m \u001b[0;34m=\u001b[0m \u001b[0mkwds\u001b[0m\u001b[0;34m[\u001b[0m\u001b[0;34m\"has_index_names\"\u001b[0m\u001b[0;34m]\u001b[0m\u001b[0;34m\u001b[0m\u001b[0;34m\u001b[0m\u001b[0m\n\u001b[1;32m    947\u001b[0m \u001b[0;34m\u001b[0m\u001b[0m\n\u001b[0;32m--> 948\u001b[0;31m         \u001b[0mself\u001b[0m\u001b[0;34m.\u001b[0m\u001b[0m_make_engine\u001b[0m\u001b[0;34m(\u001b[0m\u001b[0mself\u001b[0m\u001b[0;34m.\u001b[0m\u001b[0mengine\u001b[0m\u001b[0;34m)\u001b[0m\u001b[0;34m\u001b[0m\u001b[0;34m\u001b[0m\u001b[0m\n\u001b[0m\u001b[1;32m    949\u001b[0m \u001b[0;34m\u001b[0m\u001b[0m\n\u001b[1;32m    950\u001b[0m     \u001b[0;32mdef\u001b[0m \u001b[0mclose\u001b[0m\u001b[0;34m(\u001b[0m\u001b[0mself\u001b[0m\u001b[0;34m)\u001b[0m\u001b[0;34m:\u001b[0m\u001b[0;34m\u001b[0m\u001b[0;34m\u001b[0m\u001b[0m\n",
            "\u001b[0;32m/usr/local/lib/python3.7/dist-packages/pandas/io/parsers.py\u001b[0m in \u001b[0;36m_make_engine\u001b[0;34m(self, engine)\u001b[0m\n\u001b[1;32m   1178\u001b[0m     \u001b[0;32mdef\u001b[0m \u001b[0m_make_engine\u001b[0m\u001b[0;34m(\u001b[0m\u001b[0mself\u001b[0m\u001b[0;34m,\u001b[0m \u001b[0mengine\u001b[0m\u001b[0;34m=\u001b[0m\u001b[0;34m\"c\"\u001b[0m\u001b[0;34m)\u001b[0m\u001b[0;34m:\u001b[0m\u001b[0;34m\u001b[0m\u001b[0;34m\u001b[0m\u001b[0m\n\u001b[1;32m   1179\u001b[0m         \u001b[0;32mif\u001b[0m \u001b[0mengine\u001b[0m \u001b[0;34m==\u001b[0m \u001b[0;34m\"c\"\u001b[0m\u001b[0;34m:\u001b[0m\u001b[0;34m\u001b[0m\u001b[0;34m\u001b[0m\u001b[0m\n\u001b[0;32m-> 1180\u001b[0;31m             \u001b[0mself\u001b[0m\u001b[0;34m.\u001b[0m\u001b[0m_engine\u001b[0m \u001b[0;34m=\u001b[0m \u001b[0mCParserWrapper\u001b[0m\u001b[0;34m(\u001b[0m\u001b[0mself\u001b[0m\u001b[0;34m.\u001b[0m\u001b[0mf\u001b[0m\u001b[0;34m,\u001b[0m \u001b[0;34m**\u001b[0m\u001b[0mself\u001b[0m\u001b[0;34m.\u001b[0m\u001b[0moptions\u001b[0m\u001b[0;34m)\u001b[0m\u001b[0;34m\u001b[0m\u001b[0;34m\u001b[0m\u001b[0m\n\u001b[0m\u001b[1;32m   1181\u001b[0m         \u001b[0;32melse\u001b[0m\u001b[0;34m:\u001b[0m\u001b[0;34m\u001b[0m\u001b[0;34m\u001b[0m\u001b[0m\n\u001b[1;32m   1182\u001b[0m             \u001b[0;32mif\u001b[0m \u001b[0mengine\u001b[0m \u001b[0;34m==\u001b[0m \u001b[0;34m\"python\"\u001b[0m\u001b[0;34m:\u001b[0m\u001b[0;34m\u001b[0m\u001b[0;34m\u001b[0m\u001b[0m\n",
            "\u001b[0;32m/usr/local/lib/python3.7/dist-packages/pandas/io/parsers.py\u001b[0m in \u001b[0;36m__init__\u001b[0;34m(self, src, **kwds)\u001b[0m\n\u001b[1;32m   2008\u001b[0m         \u001b[0mkwds\u001b[0m\u001b[0;34m[\u001b[0m\u001b[0;34m\"usecols\"\u001b[0m\u001b[0;34m]\u001b[0m \u001b[0;34m=\u001b[0m \u001b[0mself\u001b[0m\u001b[0;34m.\u001b[0m\u001b[0musecols\u001b[0m\u001b[0;34m\u001b[0m\u001b[0;34m\u001b[0m\u001b[0m\n\u001b[1;32m   2009\u001b[0m \u001b[0;34m\u001b[0m\u001b[0m\n\u001b[0;32m-> 2010\u001b[0;31m         \u001b[0mself\u001b[0m\u001b[0;34m.\u001b[0m\u001b[0m_reader\u001b[0m \u001b[0;34m=\u001b[0m \u001b[0mparsers\u001b[0m\u001b[0;34m.\u001b[0m\u001b[0mTextReader\u001b[0m\u001b[0;34m(\u001b[0m\u001b[0msrc\u001b[0m\u001b[0;34m,\u001b[0m \u001b[0;34m**\u001b[0m\u001b[0mkwds\u001b[0m\u001b[0;34m)\u001b[0m\u001b[0;34m\u001b[0m\u001b[0;34m\u001b[0m\u001b[0m\n\u001b[0m\u001b[1;32m   2011\u001b[0m         \u001b[0mself\u001b[0m\u001b[0;34m.\u001b[0m\u001b[0munnamed_cols\u001b[0m \u001b[0;34m=\u001b[0m \u001b[0mself\u001b[0m\u001b[0;34m.\u001b[0m\u001b[0m_reader\u001b[0m\u001b[0;34m.\u001b[0m\u001b[0munnamed_cols\u001b[0m\u001b[0;34m\u001b[0m\u001b[0;34m\u001b[0m\u001b[0m\n\u001b[1;32m   2012\u001b[0m \u001b[0;34m\u001b[0m\u001b[0m\n",
            "\u001b[0;32mpandas/_libs/parsers.pyx\u001b[0m in \u001b[0;36mpandas._libs.parsers.TextReader.__cinit__\u001b[0;34m()\u001b[0m\n",
            "\u001b[0;32mpandas/_libs/parsers.pyx\u001b[0m in \u001b[0;36mpandas._libs.parsers.TextReader._setup_parser_source\u001b[0;34m()\u001b[0m\n",
            "\u001b[0;31mFileNotFoundError\u001b[0m: [Errno 2] No such file or directory: 'trackData2.txt'"
          ]
        }
      ],
      "source": [
        "trackIds = pd.read_csv('trackData2.txt', sep='|', usecols=[0], header=None, names=['trackId'])\n",
        "albumIds = pd.read_csv('albumData2.txt', sep='|', usecols=[0], header=None, names=['albumId'])\n",
        "artistIds = pd.read_csv('artistData2.txt', sep='|', usecols=[0], header=None, names=['artistId'])\n",
        "genreIds = pd.read_csv('genreData2.txt', sep='|', usecols=[0], header=None, names=['genreId'])"
      ]
    },
    {
      "cell_type": "markdown",
      "metadata": {
        "id": "GHQhQXc331kT"
      },
      "source": [
        "## Classify whether the itemId within the trainset is a track, album, artist, or genre"
      ]
    },
    {
      "cell_type": "code",
      "execution_count": null,
      "metadata": {
        "id": "i3p_5lYM31kT"
      },
      "outputs": [],
      "source": [
        "train_tracks = train2[train2.itemId.isin(trackIds.trackId)]\n",
        "train_albums = train2[train2.itemId.isin(albumIds.albumId)]\n",
        "train_artists = train2[train2.itemId.isin(artistIds.artistId)]\n",
        "train_genres = train2[train2.itemId.isin(genreIds.genreId)]"
      ]
    },
    {
      "cell_type": "code",
      "execution_count": null,
      "metadata": {
        "id": "rtb15uaM31kT"
      },
      "outputs": [],
      "source": [
        "train_tracks = train_tracks.rename(columns = {'score': 'track_score', 'itemId': 'trackId'})\n",
        "train_albums = train_albums.rename(columns = {'score': 'album_score', 'itemId': 'albumId'})\n",
        "train_artists = train_artists.rename(columns = {'score': 'artist_score', 'itemId': 'artistId'})"
      ]
    },
    {
      "cell_type": "code",
      "execution_count": null,
      "metadata": {
        "id": "bLKEg9NA31kU"
      },
      "outputs": [],
      "source": [
        "train_tracks.head()"
      ]
    },
    {
      "cell_type": "code",
      "execution_count": null,
      "metadata": {
        "id": "MxL6nPft31kU"
      },
      "outputs": [],
      "source": [
        "train_albums.head()"
      ]
    },
    {
      "cell_type": "code",
      "execution_count": null,
      "metadata": {
        "id": "pN3NWsbz31kU"
      },
      "outputs": [],
      "source": [
        "train_artists.head()"
      ]
    },
    {
      "cell_type": "markdown",
      "metadata": {
        "id": "sGsQS6Im31kU"
      },
      "source": [
        "## Get the hierarchy of the tracks and albums "
      ]
    },
    {
      "cell_type": "code",
      "execution_count": null,
      "metadata": {
        "id": "RU504MPE31kU"
      },
      "outputs": [],
      "source": [
        "track_h = pd.read_csv('trackData2.txt', sep='|', header=None, na_values=['None'], names=['trackId', 'albumId', 'artistId', 'genreId_1', 'genreId_2', 'genreId_3', 'genreId_4', 'genreId_5', 'genreId_6', 'genreId_7', 'genreId_8', 'genreId_9', 'genreId_10', 'genreId_11', 'genreId_12', 'genreId_13', 'genreId_14', 'genreId_15', 'genreId_16', 'genreId_17', 'genreId_18', 'genreId_19', 'genreId_20', 'genreId_21'])\n",
        " \n",
        "album_h = pd.read_csv('albumData2.txt', sep='|', header=None, na_values=['None'], names=['albumId', 'artistId', 'genreId_1', 'genreId_2', 'genreId_3', 'genreId_4', 'genreId_5', 'genreId_6', 'genreId_7', 'genreId_8', 'genreId_9', 'genreId_10', 'genreId_11', 'genreId_12', 'genreId_13', 'genreId_14', 'genreId_15', 'genreId_16', 'genreId_17', 'genreId_18', 'genreId_19', 'genreId_20', 'genreId_21'])"
      ]
    },
    {
      "cell_type": "code",
      "execution_count": null,
      "metadata": {
        "id": "2T1y_8Ei31kV"
      },
      "outputs": [],
      "source": [
        "train_tracks_h = pd.merge(train_tracks, track_h, how='left', on='trackId')"
      ]
    },
    {
      "cell_type": "code",
      "execution_count": null,
      "metadata": {
        "id": "dAORgAd331kV"
      },
      "outputs": [],
      "source": [
        "train_albums_h = pd.merge(train_albums, album_h, how='left', on='albumId')"
      ]
    },
    {
      "cell_type": "markdown",
      "metadata": {
        "id": "uHySYqIq31kV"
      },
      "source": [
        "### Only keep the train albums seperate that are not already inside `train_tracks_h`"
      ]
    },
    {
      "cell_type": "code",
      "execution_count": null,
      "metadata": {
        "id": "gFt5qBZJ31kV"
      },
      "outputs": [],
      "source": [
        "train_albums_h = train_tracks_h[~train_tracks_h.albumId.isin(train_albums_h.albumId)]"
      ]
    },
    {
      "cell_type": "markdown",
      "metadata": {
        "id": "hCkscRLb31kV"
      },
      "source": [
        "## For the `train_tracks_h` check to see if scores exist in the other matrices"
      ]
    },
    {
      "cell_type": "code",
      "execution_count": null,
      "metadata": {
        "id": "wTS6nBEn31kV"
      },
      "outputs": [],
      "source": [
        "track_score_in_albums = train_albums[train_albums.albumId.isin(train_tracks_h.albumId)]"
      ]
    },
    {
      "cell_type": "code",
      "execution_count": null,
      "metadata": {
        "id": "cnx_s6k_31kW"
      },
      "outputs": [],
      "source": [
        "track_score_in_albums.head()"
      ]
    },
    {
      "cell_type": "code",
      "execution_count": null,
      "metadata": {
        "id": "tMQJje5h31kW"
      },
      "outputs": [],
      "source": [
        "track_score_in_artists = train_artists[train_artists.artistId.isin(train_tracks_h.artistId)]"
      ]
    },
    {
      "cell_type": "code",
      "execution_count": null,
      "metadata": {
        "id": "ijSHEmmC31kW"
      },
      "outputs": [],
      "source": [
        "track_score_in_artists.head()"
      ]
    },
    {
      "cell_type": "markdown",
      "metadata": {
        "id": "0JIyXnp731kX"
      },
      "source": [
        "### Combine the matrices together"
      ]
    },
    {
      "cell_type": "code",
      "execution_count": null,
      "metadata": {
        "id": "a-p5Rxqa31kX"
      },
      "outputs": [],
      "source": [
        "final = pd.merge(train_tracks_h, track_score_in_albums, how='outer', on=['userId', 'albumId'])"
      ]
    },
    {
      "cell_type": "code",
      "execution_count": null,
      "metadata": {
        "id": "5W7swHSa31kX"
      },
      "outputs": [],
      "source": [
        "final = pd.merge(final, track_score_in_artists, how='outer', on=['userId', 'artistId'])"
      ]
    },
    {
      "cell_type": "code",
      "execution_count": null,
      "metadata": {
        "id": "PaKFM3hJ31kX"
      },
      "outputs": [],
      "source": [
        "final.head()"
      ]
    },
    {
      "cell_type": "markdown",
      "metadata": {
        "id": "HLwdDK0J31kX"
      },
      "source": [
        "## Remove columns that have an `Nan` value for trackId since the test set only consists of trackIds"
      ]
    },
    {
      "cell_type": "code",
      "execution_count": null,
      "metadata": {
        "id": "mZ6BAKTI31kY"
      },
      "outputs": [],
      "source": [
        "final = final.dropna(subset=['trackId'])"
      ]
    },
    {
      "cell_type": "code",
      "execution_count": null,
      "metadata": {
        "id": "6oT4AZGS31kY"
      },
      "outputs": [],
      "source": [
        "## Save final as csv\n",
        "final.to_csv('train_with_empty.csv', index=False, na_rep='None', columns=['userId', 'trackId', 'albumId', 'artistId', 'genreId_1', 'genreId_2', 'genreId_3', 'genreId_4', 'genreId_5', 'genreId_6', 'genreId_7', 'genreId_8', 'genreId_9', 'genreId_10', 'genreId_11', 'genreId_12', 'genreId_13', 'genreId_14', 'genreId_15', 'genreId_16', 'genreId_17', 'genreId_18', 'genreId_19', 'genreId_20', 'genreId_21'])"
      ]
    },
    {
      "cell_type": "code",
      "execution_count": null,
      "metadata": {
        "id": "qY8xgP-s31kY"
      },
      "outputs": [],
      "source": [
        "empty_album_scores = final[final.album_score.isna()]\n",
        "empty_album_scores = empty_album_scores.dropna(subset=['albumId'])\n",
        "empty_album_scores.head()\n",
        "\n",
        "empty_album_scores[['userId', 'trackId', 'albumId']].to_csv('empty_album_scores.csv', index=False)"
      ]
    },
    {
      "cell_type": "code",
      "execution_count": null,
      "metadata": {
        "id": "a01R_h_231kY"
      },
      "outputs": [],
      "source": [
        "empty_artist_scores = final[final.artist_score.isna()]\n",
        "empty_artist_scores = empty_artist_scores.dropna(subset=['albumId'])\n",
        "empty_artist_scores.head()\n",
        "\n",
        "empty_artist_scores[['userId', 'trackId', 'artistId']].to_csv('empty_artist_scores.csv', index=False)"
      ]
    },
    {
      "cell_type": "markdown",
      "metadata": {
        "id": "1agrPXhI31kY"
      },
      "source": [
        "## Make predictions on the empty values"
      ]
    },
    {
      "cell_type": "code",
      "execution_count": null,
      "metadata": {
        "id": "y5dwBg5z31kY"
      },
      "outputs": [],
      "source": [
        "albums = spark.read.csv('empty_album_scores.csv', sep=',', header=True)\n",
        "artists = spark.read.csv('empty_artist_scores.csv', sep=',', header=True)"
      ]
    },
    {
      "cell_type": "code",
      "execution_count": null,
      "metadata": {
        "id": "hT94CATt31kZ"
      },
      "outputs": [],
      "source": [
        "albums.printSchema()"
      ]
    },
    {
      "cell_type": "code",
      "execution_count": null,
      "metadata": {
        "id": "a3cURTBE31kZ"
      },
      "outputs": [],
      "source": [
        "artists.printSchema()"
      ]
    },
    {
      "cell_type": "code",
      "execution_count": null,
      "metadata": {
        "id": "F0DfeQdx31kZ"
      },
      "outputs": [],
      "source": [
        "albums = albums.withColumn('userId', albums['userId'].cast(IntegerType()))\n",
        "albums = albums.withColumn('trackId', albums['trackId'].cast(IntegerType()))\n",
        "albums = albums.withColumn('albumId', albums['albumId'].cast(IntegerType()))\n",
        "\n",
        "artists = artists.withColumn('userId', artists['userId'].cast(IntegerType()))\n",
        "artists = artists.withColumn('trackId', artists['trackId'].cast(IntegerType()))\n",
        "artists = artists.withColumn('artistId', artists['artistId'].cast(IntegerType()))"
      ]
    },
    {
      "cell_type": "code",
      "execution_count": null,
      "metadata": {
        "id": "ONZTt_Eo31kZ"
      },
      "outputs": [],
      "source": [
        "albums.printSchema()"
      ]
    },
    {
      "cell_type": "code",
      "execution_count": null,
      "metadata": {
        "id": "wvxEZY_K31kZ"
      },
      "outputs": [],
      "source": [
        "artists.printSchema()"
      ]
    },
    {
      "cell_type": "code",
      "source": [
        " model.setItemCol('itemId')"
      ],
      "metadata": {
        "id": "7ew65bUuVDC5"
      },
      "execution_count": null,
      "outputs": []
    },
    {
      "cell_type": "code",
      "execution_count": null,
      "metadata": {
        "id": "mgRjgXnb31ka"
      },
      "outputs": [],
      "source": [
        "album_score_train = model.transform(albums.filter('albumId IS NOT NULL').withColumnRenamed('albumId', 'itemId')).withColumnRenamed('itemId', 'albumId').withColumnRenamed('prediction', 'album_score')\n",
        "artist_scores_train = model.transform(artists.filter('artistId IS NOT NULL').withColumnRenamed('artistId', 'itemId')).withColumnRenamed('itemId', 'artistId').withColumnRenamed('prediction', 'artist_score')\n",
        "\n",
        "album_score_train.coalesce(1).write.csv('predicted_albums.csv', header=True)\n",
        "artist_scores_train.coalesce(1).write.csv('predicted_artists.csv', header=True)"
      ]
    },
    {
      "cell_type": "code",
      "source": [
        ""
      ],
      "metadata": {
        "id": "0mbrVsuyTDbG"
      },
      "execution_count": null,
      "outputs": []
    },
    {
      "cell_type": "markdown",
      "metadata": {
        "id": "ucqocTSS31ka"
      },
      "source": [
        "## Find num genres"
      ]
    },
    {
      "cell_type": "code",
      "execution_count": null,
      "metadata": {
        "id": "tldyfe-v31ka"
      },
      "outputs": [],
      "source": [
        "final2 = spark.read.csv('train_with_empty.csv',\n",
        "                     sep=',',\n",
        "                     nullValue='None',\n",
        "                     header=True)"
      ]
    },
    {
      "cell_type": "code",
      "execution_count": null,
      "metadata": {
        "id": "_gjWnhpG31ka"
      },
      "outputs": [],
      "source": [
        "final2.show(5)"
      ]
    },
    {
      "cell_type": "code",
      "execution_count": null,
      "metadata": {
        "id": "EjE2Wi9S31ka"
      },
      "outputs": [],
      "source": [
        "final_genres = final2.select('userId', \n",
        "                          'trackId', \n",
        "                          'genreId_1', \n",
        "                          'genreId_2', \n",
        "                          'genreId_3', \n",
        "                          'genreId_4', \n",
        "                          'genreId_5', \n",
        "                          'genreId_6', \n",
        "                          'genreId_7', \n",
        "                          'genreId_8', \n",
        "                          'genreId_9', \n",
        "                          'genreId_10', \n",
        "                          'genreId_11', \n",
        "                          'genreId_12', \n",
        "                          'genreId_13', \n",
        "                          'genreId_14',\n",
        "                          'genreId_15',\n",
        "                          'genreId_16',\n",
        "                          'genreId_17',\n",
        "                          'genreId_18',\n",
        "                          'genreId_19',\n",
        "                          'genreId_20',\n",
        "                          'genreId_21')"
      ]
    },
    {
      "cell_type": "code",
      "execution_count": null,
      "metadata": {
        "id": "wNNSoaZ331kb"
      },
      "outputs": [],
      "source": [
        "final_num_genres = final_genres.select('userId', 'trackId', sum([isnull(final_genres[col]).cast(IntegerType()) for col in final_genres.columns]).alias('num_genres'))"
      ]
    },
    {
      "cell_type": "code",
      "execution_count": null,
      "metadata": {
        "id": "8f8gDVj131kb"
      },
      "outputs": [],
      "source": [
        "final_num_genres.show(5)\n",
        "\n",
        "final_num_genres.coalesce(1).write.csv('train_num_genres.csv', header=True)"
      ]
    },
    {
      "cell_type": "code",
      "execution_count": null,
      "metadata": {
        "id": "1i1iemdA31kb"
      },
      "outputs": [],
      "source": [
        "predicted_artists = pd.read_csv('/content/predicted_artists.csv/part-00000-57b1ab74-e11a-4289-a273-4fc4938b4721-c000.csv')\n",
        "predicted_albums = pd.read_csv('/content/predicted_albums.csv/part-00000-89f681a0-d7cf-4382-89d4-427e26131332-c000.csv')\n",
        "num_genres_df = pd.read_csv('/content/train_num_genres.csv/part-00000-094d6c01-0aba-49cb-a373-a5a9b714383b-c000.csv')"
      ]
    },
    {
      "cell_type": "code",
      "execution_count": null,
      "metadata": {
        "id": "wo058ohh31kb"
      },
      "outputs": [],
      "source": [
        "predicted_artists = predicted_artists.set_index(['userId', 'trackId'])"
      ]
    },
    {
      "cell_type": "code",
      "execution_count": null,
      "metadata": {
        "id": "vDHb3lA531kc"
      },
      "outputs": [],
      "source": [
        "predicted_albums = predicted_albums.set_index(['userId', 'trackId'])"
      ]
    },
    {
      "cell_type": "code",
      "execution_count": null,
      "metadata": {
        "id": "vbtzQVTo31kc"
      },
      "outputs": [],
      "source": [
        "num_genred_df = num_genres_df.set_index(['userId', 'trackId'])"
      ]
    },
    {
      "cell_type": "code",
      "execution_count": null,
      "metadata": {
        "id": "ScTM0jYZ31kc"
      },
      "outputs": [],
      "source": [
        "final = final[['userId', 'trackId', 'track_score', 'album_score', 'artist_score']].set_index(['userId', 'trackId'])\n",
        "final.head()"
      ]
    },
    {
      "cell_type": "code",
      "execution_count": null,
      "metadata": {
        "id": "Ehf2nAhf31kc"
      },
      "outputs": [],
      "source": [
        "final['artist_score'] = final['artist_score'].fillna(predicted_artists['artist_score'])"
      ]
    },
    {
      "cell_type": "code",
      "execution_count": null,
      "metadata": {
        "id": "wUQukmbh31kc"
      },
      "outputs": [],
      "source": [
        "final['album_score'] = final['album_score'].fillna(predicted_albums['album_score'])"
      ]
    },
    {
      "cell_type": "code",
      "execution_count": null,
      "metadata": {
        "id": "iPLrcKZ631kd"
      },
      "outputs": [],
      "source": [
        "final['num_genres'] = num_genred_df['num_genres']"
      ]
    },
    {
      "cell_type": "code",
      "execution_count": null,
      "metadata": {
        "id": "xGQQeywZ31kd"
      },
      "outputs": [],
      "source": [
        "final.head()"
      ]
    },
    {
      "cell_type": "code",
      "execution_count": null,
      "metadata": {
        "id": "AsfTOjBp31kd"
      },
      "outputs": [],
      "source": [
        "final.isna().sum()"
      ]
    },
    {
      "cell_type": "code",
      "execution_count": null,
      "metadata": {
        "id": "lcou7LNv31kd"
      },
      "outputs": [],
      "source": [
        "final = final.fillna(0)"
      ]
    },
    {
      "cell_type": "code",
      "execution_count": null,
      "metadata": {
        "id": "ICtIw52E31kd"
      },
      "outputs": [],
      "source": [
        "final.isna().sum()"
      ]
    },
    {
      "cell_type": "code",
      "execution_count": null,
      "metadata": {
        "id": "Rvuw3vGX31ke"
      },
      "outputs": [],
      "source": [
        "final.to_csv('finalTrainset.csv')"
      ]
    },
    {
      "cell_type": "code",
      "execution_count": null,
      "metadata": {
        "id": "ArxTrNec31ke"
      },
      "outputs": [],
      "source": [
        ""
      ]
    }
  ],
  "metadata": {
    "colab": {
      "name": "ALS.ipynb",
      "provenance": [],
      "machine_shape": "hm",
      "collapsed_sections": [
        "YEMEbbg331kS",
        "GHQhQXc331kT",
        "sGsQS6Im31kU"
      ]
    },
    "kernelspec": {
      "display_name": "Python 3",
      "language": "python",
      "name": "python3"
    },
    "language_info": {
      "codemirror_mode": {
        "name": "ipython",
        "version": 3
      },
      "file_extension": ".py",
      "mimetype": "text/x-python",
      "name": "python",
      "nbconvert_exporter": "python",
      "pygments_lexer": "ipython3",
      "version": "3.6.11"
    },
    "varInspector": {
      "cols": {
        "lenName": 16,
        "lenType": 16,
        "lenVar": 40
      },
      "kernels_config": {
        "python": {
          "delete_cmd_postfix": "",
          "delete_cmd_prefix": "del ",
          "library": "var_list.py",
          "varRefreshCmd": "print(var_dic_list())"
        },
        "r": {
          "delete_cmd_postfix": ") ",
          "delete_cmd_prefix": "rm(",
          "library": "var_list.r",
          "varRefreshCmd": "cat(var_dic_list()) "
        }
      },
      "types_to_exclude": [
        "module",
        "function",
        "builtin_function_or_method",
        "instance",
        "_Feature"
      ],
      "window_display": false
    }
  },
  "nbformat": 4,
  "nbformat_minor": 0
}