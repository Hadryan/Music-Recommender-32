{
  "cells": [
    {
      "cell_type": "code",
      "execution_count": null,
      "metadata": {
        "id": "l73vudn42HLC"
      },
      "outputs": [],
      "source": [
        "import numpy\n",
        "\n",
        "file_name_test='testTrack_hierarchy.txt'\n",
        "file_name_train='trainIdx2_matrix.txt'\n",
        "output_file='output.txt'\n",
        "\n",
        "fTest= open(file_name_test, 'r')\n",
        "fTrain=open(file_name_train, 'r')\n",
        "Trainline= fTrain.readline()\n",
        "fOut = open(output_file, 'w')\n",
        "\n",
        "trackID_vec=[0]*6\n",
        "albumID_vec=[0]*6\n",
        "artistID_vec=[0]*6\n",
        "lastUserID=-1\n",
        "\n",
        "user_rating_inTrain=numpy.zeros(shape=(6,3))\n",
        "for line in fTest:\n",
        "\tarr_test=line.strip().split('|')\n",
        "\tuserID= arr_test[0]\n",
        "\ttrackID= arr_test[1]\n",
        "\talbumID= arr_test[2]\n",
        "\tartistID=arr_test[3]\n",
        "\n",
        "\tif userID!= lastUserID:\n",
        "\t\tii=0\n",
        "\t\tuser_rating_inTrain=numpy.zeros(shape=(6,3))\n",
        "\n",
        "\ttrackID_vec[ii]=trackID\n",
        "\talbumID_vec[ii]=albumID\n",
        "\tartistID_vec[ii]=artistID\n",
        "\tii=ii+1\n",
        "\tlastUserID=userID\n",
        "\n",
        "\tif ii==6 : \n",
        "\t\twhile (Trainline):\n",
        "\t\t\tarr_train = Trainline.strip().split('|')\n",
        "\t\t\ttrainUserID=arr_train[0]\n",
        "\t\t\ttrainItemID=arr_train[1]\n",
        "\t\t\ttrainRating=arr_train[2]\n",
        "\t\t\tTrainline=fTrain.readline()\t\t\n",
        "\n",
        "\t\t\tif trainUserID< userID:\n",
        "\t\t\t\tcontinue\n",
        "\t\t\tif trainUserID== userID:\t\t\t\t\n",
        "\t\t\t\tfor nn in range(0, 6):\n",
        "\t\t\t\t\tif trainItemID==albumID_vec[nn]:\n",
        "\t\t\t\t\t\tuser_rating_inTrain[nn, 0]=trainRating\n",
        "\t\t\t\t\tif trainItemID==artistID_vec[nn]:\n",
        "\t\t\t\t\t\tuser_rating_inTrain[nn, 1]=trainRating\n",
        "\t\t\tif trainUserID> userID:\n",
        "\t\t\t\tfor nn in range(0, 6):\n",
        "\t\t\t\t\toutStr=str(userID) + '|' + str(trackID_vec[nn])+ '|' + str(user_rating_inTrain[nn,0]) + '|' + str(user_rating_inTrain[nn, 1])\n",
        "\t\t\t\t\tfOut.write(outStr + '\\n')\n",
        "\t\t\t\tbreak\n",
        "\n",
        "fTest.close()\n",
        "fTrain.close()"
      ]
    },
    {
      "cell_type": "code",
      "source": [
        "import pandas as pd\n",
        "\n",
        "output = pd.read_csv('output.txt',sep='|',header=None)\n",
        "\n",
        "output.columns=['UserID','TrackID','Album Rating','Artist Rating']"
      ],
      "metadata": {
        "id": "FEDK-12LqQBo"
      },
      "execution_count": null,
      "outputs": []
    },
    {
      "cell_type": "code",
      "execution_count": null,
      "metadata": {
        "colab": {
          "base_uri": "https://localhost:8080/",
          "height": 425
        },
        "id": "w5Ln-B9E2HLH",
        "outputId": "8b7abbd2-42a0-4bcf-b9ae-0fd48dd9ec4e"
      },
      "outputs": [
        {
          "output_type": "stream",
          "name": "stderr",
          "text": [
            "/usr/local/lib/python3.7/dist-packages/ipykernel_launcher.py:22: SettingWithCopyWarning: \n",
            "A value is trying to be set on a copy of a slice from a DataFrame\n",
            "\n",
            "See the caveats in the documentation: https://pandas.pydata.org/pandas-docs/stable/user_guide/indexing.html#returning-a-view-versus-a-copy\n",
            "/usr/local/lib/python3.7/dist-packages/ipykernel_launcher.py:25: SettingWithCopyWarning: \n",
            "A value is trying to be set on a copy of a slice from a DataFrame\n",
            "\n",
            "See the caveats in the documentation: https://pandas.pydata.org/pandas-docs/stable/user_guide/indexing.html#returning-a-view-versus-a-copy\n",
            "/usr/local/lib/python3.7/dist-packages/ipykernel_launcher.py:28: SettingWithCopyWarning: \n",
            "A value is trying to be set on a copy of a slice from a DataFrame\n",
            "\n",
            "See the caveats in the documentation: https://pandas.pydata.org/pandas-docs/stable/user_guide/indexing.html#returning-a-view-versus-a-copy\n"
          ]
        },
        {
          "output_type": "execute_result",
          "data": {
            "text/html": [
              "<div>\n",
              "<style scoped>\n",
              "    .dataframe tbody tr th:only-of-type {\n",
              "        vertical-align: middle;\n",
              "    }\n",
              "\n",
              "    .dataframe tbody tr th {\n",
              "        vertical-align: top;\n",
              "    }\n",
              "\n",
              "    .dataframe thead th {\n",
              "        text-align: right;\n",
              "    }\n",
              "</style>\n",
              "<table border=\"1\" class=\"dataframe\">\n",
              "  <thead>\n",
              "    <tr style=\"text-align: right;\">\n",
              "      <th></th>\n",
              "      <th>TrackID</th>\n",
              "      <th>Predictor</th>\n",
              "    </tr>\n",
              "  </thead>\n",
              "  <tbody>\n",
              "    <tr>\n",
              "      <th>119996</th>\n",
              "      <td>249010_86104</td>\n",
              "      <td>0</td>\n",
              "    </tr>\n",
              "    <tr>\n",
              "      <th>119998</th>\n",
              "      <td>249010_293818</td>\n",
              "      <td>0</td>\n",
              "    </tr>\n",
              "    <tr>\n",
              "      <th>119994</th>\n",
              "      <td>249010_110470</td>\n",
              "      <td>1</td>\n",
              "    </tr>\n",
              "    <tr>\n",
              "      <th>119997</th>\n",
              "      <td>249010_186634</td>\n",
              "      <td>1</td>\n",
              "    </tr>\n",
              "    <tr>\n",
              "      <th>119999</th>\n",
              "      <td>249010_262811</td>\n",
              "      <td>1</td>\n",
              "    </tr>\n",
              "  </tbody>\n",
              "</table>\n",
              "</div>"
            ],
            "text/plain": [
              "              TrackID  Predictor\n",
              "119996   249010_86104          0\n",
              "119998  249010_293818          0\n",
              "119994  249010_110470          1\n",
              "119997  249010_186634          1\n",
              "119999  249010_262811          1"
            ]
          },
          "metadata": {},
          "execution_count": 35
        }
      ],
      "source": [
        "output['Mean']=output[['Album Rating','Artist Rating']].mean(axis=1)\n",
        "\n",
        "train_df=pd.read_csv('trainIdx2_matrix.txt', sep='|',header=None)\n",
        "train_df.columns=['trainUserID','trainItemID','trainRating']\n",
        "\n",
        "prediction_df = output.copy()\n",
        "prediction_df['Predictor'] = 0\n",
        "\n",
        "#Sort by userID, then prediction\n",
        "prediction_df = prediction_df.sort_values(by=['UserID','Mean'])\n",
        "\n",
        "# first 3 prediction_df per user assign 0, and second 3 assign 1\n",
        "count = 0\n",
        "for ind in prediction_df.index:\n",
        "  if(count < 3):\n",
        "    prediction_df['Predictor'][ind] = 0\n",
        "    count += 1\n",
        "  elif (5 > count >= 3):\n",
        "    prediction_df['Predictor'][ind] =  1\n",
        "    count += 1\n",
        "  elif (count == 5):\n",
        "    prediction_df['Predictor'][ind] = 1\n",
        "    count = 0\n",
        "\n",
        "# combine user id and track id\n",
        "prediction_df['TrackID'] = prediction_df['UserID'].astype(str) + '_' + prediction_df['TrackID'].astype(str)\n",
        "prediction_df['TrackID'] = prediction_df['TrackID'].astype(str)\n",
        "prediction_df = prediction_df.drop(['UserID', 'Album Rating', 'Artist Rating', 'Mean'], axis=1)\n",
        "\n",
        "# save dataframe to a single csv file \n",
        "prediction_df.to_csv('prediction_mean.csv', index = False)\n",
        "prediction_df.tail()"
      ]
    }
  ],
  "metadata": {
    "kernelspec": {
      "display_name": "Python 3",
      "language": "python",
      "name": "python3"
    },
    "language_info": {
      "codemirror_mode": {
        "name": "ipython",
        "version": 3
      },
      "file_extension": ".py",
      "mimetype": "text/x-python",
      "name": "python",
      "nbconvert_exporter": "python",
      "pygments_lexer": "ipython3",
      "version": "3.8.3"
    },
    "colab": {
      "name": "AAI627_FinalProject_Mean.ipynb",
      "provenance": [],
      "collapsed_sections": []
    }
  },
  "nbformat": 4,
  "nbformat_minor": 0
}