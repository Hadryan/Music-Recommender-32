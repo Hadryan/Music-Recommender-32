{
  "cells": [
    {
      "cell_type": "markdown",
      "metadata": {
        "id": "view-in-github",
        "colab_type": "text"
      },
      "source": [
        "<a href=\"https://colab.research.google.com/github/mdeihim/Music-Recommender/blob/main/Copy_of_Machine_Learning_Recommender.ipynb\" target=\"_parent\"><img src=\"https://colab.research.google.com/assets/colab-badge.svg\" alt=\"Open In Colab\"/></a>"
      ]
    },
    {
      "cell_type": "markdown",
      "metadata": {
        "id": "Jok-4YJ1BuHR"
      },
      "source": [
        "# Machine Learning Models"
      ]
    },
    {
      "cell_type": "markdown",
      "metadata": {
        "id": "buB2g81nB2Dp"
      },
      "source": [
        "## First is to fetch the related scores in training data"
      ]
    },
    {
      "cell_type": "code",
      "execution_count": null,
      "metadata": {
        "colab": {
          "base_uri": "https://localhost:8080/"
        },
        "id": "uzSDTQb0BctX",
        "outputId": "117a0e5e-7401-4cd9-fa3f-1829d43b278a"
      },
      "outputs": [
        {
          "output_type": "execute_result",
          "data": {
            "text/html": [
              "\n",
              "  <div id=\"df-336d3082-3abc-4a5f-b19b-07f3de7bcbde\">\n",
              "    <div class=\"colab-df-container\">\n",
              "      <div>\n",
              "<style scoped>\n",
              "    .dataframe tbody tr th:only-of-type {\n",
              "        vertical-align: middle;\n",
              "    }\n",
              "\n",
              "    .dataframe tbody tr th {\n",
              "        vertical-align: top;\n",
              "    }\n",
              "\n",
              "    .dataframe thead th {\n",
              "        text-align: right;\n",
              "    }\n",
              "</style>\n",
              "<table border=\"1\" class=\"dataframe\">\n",
              "  <thead>\n",
              "    <tr style=\"text-align: right;\">\n",
              "      <th></th>\n",
              "      <th>UserID</th>\n",
              "      <th>ItemID</th>\n",
              "      <th>Rating1</th>\n",
              "      <th>Rating2</th>\n",
              "    </tr>\n",
              "  </thead>\n",
              "  <tbody>\n",
              "    <tr>\n",
              "      <th>0</th>\n",
              "      <td>199810</td>\n",
              "      <td>208019</td>\n",
              "      <td>0.0</td>\n",
              "      <td>0.0</td>\n",
              "    </tr>\n",
              "    <tr>\n",
              "      <th>1</th>\n",
              "      <td>199810</td>\n",
              "      <td>74139</td>\n",
              "      <td>0.0</td>\n",
              "      <td>0.0</td>\n",
              "    </tr>\n",
              "    <tr>\n",
              "      <th>2</th>\n",
              "      <td>199810</td>\n",
              "      <td>9903</td>\n",
              "      <td>0.0</td>\n",
              "      <td>0.0</td>\n",
              "    </tr>\n",
              "    <tr>\n",
              "      <th>3</th>\n",
              "      <td>199810</td>\n",
              "      <td>242681</td>\n",
              "      <td>0.0</td>\n",
              "      <td>0.0</td>\n",
              "    </tr>\n",
              "    <tr>\n",
              "      <th>4</th>\n",
              "      <td>199810</td>\n",
              "      <td>18515</td>\n",
              "      <td>0.0</td>\n",
              "      <td>70.0</td>\n",
              "    </tr>\n",
              "  </tbody>\n",
              "</table>\n",
              "</div>\n",
              "      <button class=\"colab-df-convert\" onclick=\"convertToInteractive('df-336d3082-3abc-4a5f-b19b-07f3de7bcbde')\"\n",
              "              title=\"Convert this dataframe to an interactive table.\"\n",
              "              style=\"display:none;\">\n",
              "        \n",
              "  <svg xmlns=\"http://www.w3.org/2000/svg\" height=\"24px\"viewBox=\"0 0 24 24\"\n",
              "       width=\"24px\">\n",
              "    <path d=\"M0 0h24v24H0V0z\" fill=\"none\"/>\n",
              "    <path d=\"M18.56 5.44l.94 2.06.94-2.06 2.06-.94-2.06-.94-.94-2.06-.94 2.06-2.06.94zm-11 1L8.5 8.5l.94-2.06 2.06-.94-2.06-.94L8.5 2.5l-.94 2.06-2.06.94zm10 10l.94 2.06.94-2.06 2.06-.94-2.06-.94-.94-2.06-.94 2.06-2.06.94z\"/><path d=\"M17.41 7.96l-1.37-1.37c-.4-.4-.92-.59-1.43-.59-.52 0-1.04.2-1.43.59L10.3 9.45l-7.72 7.72c-.78.78-.78 2.05 0 2.83L4 21.41c.39.39.9.59 1.41.59.51 0 1.02-.2 1.41-.59l7.78-7.78 2.81-2.81c.8-.78.8-2.07 0-2.86zM5.41 20L4 18.59l7.72-7.72 1.47 1.35L5.41 20z\"/>\n",
              "  </svg>\n",
              "      </button>\n",
              "      \n",
              "  <style>\n",
              "    .colab-df-container {\n",
              "      display:flex;\n",
              "      flex-wrap:wrap;\n",
              "      gap: 12px;\n",
              "    }\n",
              "\n",
              "    .colab-df-convert {\n",
              "      background-color: #E8F0FE;\n",
              "      border: none;\n",
              "      border-radius: 50%;\n",
              "      cursor: pointer;\n",
              "      display: none;\n",
              "      fill: #1967D2;\n",
              "      height: 32px;\n",
              "      padding: 0 0 0 0;\n",
              "      width: 32px;\n",
              "    }\n",
              "\n",
              "    .colab-df-convert:hover {\n",
              "      background-color: #E2EBFA;\n",
              "      box-shadow: 0px 1px 2px rgba(60, 64, 67, 0.3), 0px 1px 3px 1px rgba(60, 64, 67, 0.15);\n",
              "      fill: #174EA6;\n",
              "    }\n",
              "\n",
              "    [theme=dark] .colab-df-convert {\n",
              "      background-color: #3B4455;\n",
              "      fill: #D2E3FC;\n",
              "    }\n",
              "\n",
              "    [theme=dark] .colab-df-convert:hover {\n",
              "      background-color: #434B5C;\n",
              "      box-shadow: 0px 1px 3px 1px rgba(0, 0, 0, 0.15);\n",
              "      filter: drop-shadow(0px 1px 2px rgba(0, 0, 0, 0.3));\n",
              "      fill: #FFFFFF;\n",
              "    }\n",
              "  </style>\n",
              "\n",
              "      <script>\n",
              "        const buttonEl =\n",
              "          document.querySelector('#df-336d3082-3abc-4a5f-b19b-07f3de7bcbde button.colab-df-convert');\n",
              "        buttonEl.style.display =\n",
              "          google.colab.kernel.accessAllowed ? 'block' : 'none';\n",
              "\n",
              "        async function convertToInteractive(key) {\n",
              "          const element = document.querySelector('#df-336d3082-3abc-4a5f-b19b-07f3de7bcbde');\n",
              "          const dataTable =\n",
              "            await google.colab.kernel.invokeFunction('convertToInteractive',\n",
              "                                                     [key], {});\n",
              "          if (!dataTable) return;\n",
              "\n",
              "          const docLinkHtml = 'Like what you see? Visit the ' +\n",
              "            '<a target=\"_blank\" href=https://colab.research.google.com/notebooks/data_table.ipynb>data table notebook</a>'\n",
              "            + ' to learn more about interactive tables.';\n",
              "          element.innerHTML = '';\n",
              "          dataTable['output_type'] = 'display_data';\n",
              "          await google.colab.output.renderOutput(dataTable, element);\n",
              "          const docLink = document.createElement('div');\n",
              "          docLink.innerHTML = docLinkHtml;\n",
              "          element.appendChild(docLink);\n",
              "        }\n",
              "      </script>\n",
              "    </div>\n",
              "  </div>\n",
              "  "
            ],
            "text/plain": [
              "   UserID  ItemID  Rating1  Rating2\n",
              "0  199810  208019      0.0      0.0\n",
              "1  199810   74139      0.0      0.0\n",
              "2  199810    9903      0.0      0.0\n",
              "3  199810  242681      0.0      0.0\n",
              "4  199810   18515      0.0     70.0"
            ]
          },
          "metadata": {},
          "execution_count": 1
        }
      ],
      "source": [
        "import pandas as pd\n",
        "#Import training data\n",
        "train = pd.read_csv('output.txt', sep='|', header=None)\n",
        "train.columns = ['UserID', 'ItemID', 'Rating1', 'Rating2']\n",
        "train.head()"
      ]
    },
    {
      "cell_type": "code",
      "execution_count": null,
      "metadata": {
        "colab": {
          "base_uri": "https://localhost:8080/"
        },
        "id": "b5ROsM94CKWH",
        "outputId": "1977b25e-9ef4-45d2-a5c5-639e75f0ffcd"
      },
      "outputs": [
        {
          "output_type": "execute_result",
          "data": {
            "text/html": [
              "\n",
              "  <div id=\"df-94e1e4ac-b029-4c68-8413-403015dc7843\">\n",
              "    <div class=\"colab-df-container\">\n",
              "      <div>\n",
              "<style scoped>\n",
              "    .dataframe tbody tr th:only-of-type {\n",
              "        vertical-align: middle;\n",
              "    }\n",
              "\n",
              "    .dataframe tbody tr th {\n",
              "        vertical-align: top;\n",
              "    }\n",
              "\n",
              "    .dataframe thead th {\n",
              "        text-align: right;\n",
              "    }\n",
              "</style>\n",
              "<table border=\"1\" class=\"dataframe\">\n",
              "  <thead>\n",
              "    <tr style=\"text-align: right;\">\n",
              "      <th></th>\n",
              "      <th>UserID</th>\n",
              "      <th>ItemID</th>\n",
              "      <th>Rating1</th>\n",
              "      <th>Rating2</th>\n",
              "      <th>Predictor</th>\n",
              "    </tr>\n",
              "  </thead>\n",
              "  <tbody>\n",
              "    <tr>\n",
              "      <th>0</th>\n",
              "      <td>200031</td>\n",
              "      <td>30877</td>\n",
              "      <td>0.0</td>\n",
              "      <td>0.0</td>\n",
              "      <td>1</td>\n",
              "    </tr>\n",
              "    <tr>\n",
              "      <th>1</th>\n",
              "      <td>200031</td>\n",
              "      <td>8244</td>\n",
              "      <td>0.0</td>\n",
              "      <td>0.0</td>\n",
              "      <td>1</td>\n",
              "    </tr>\n",
              "    <tr>\n",
              "      <th>2</th>\n",
              "      <td>200031</td>\n",
              "      <td>130183</td>\n",
              "      <td>0.0</td>\n",
              "      <td>0.0</td>\n",
              "      <td>0</td>\n",
              "    </tr>\n",
              "    <tr>\n",
              "      <th>3</th>\n",
              "      <td>200031</td>\n",
              "      <td>198762</td>\n",
              "      <td>0.0</td>\n",
              "      <td>0.0</td>\n",
              "      <td>0</td>\n",
              "    </tr>\n",
              "    <tr>\n",
              "      <th>4</th>\n",
              "      <td>200031</td>\n",
              "      <td>34503</td>\n",
              "      <td>0.0</td>\n",
              "      <td>0.0</td>\n",
              "      <td>1</td>\n",
              "    </tr>\n",
              "  </tbody>\n",
              "</table>\n",
              "</div>\n",
              "      <button class=\"colab-df-convert\" onclick=\"convertToInteractive('df-94e1e4ac-b029-4c68-8413-403015dc7843')\"\n",
              "              title=\"Convert this dataframe to an interactive table.\"\n",
              "              style=\"display:none;\">\n",
              "        \n",
              "  <svg xmlns=\"http://www.w3.org/2000/svg\" height=\"24px\"viewBox=\"0 0 24 24\"\n",
              "       width=\"24px\">\n",
              "    <path d=\"M0 0h24v24H0V0z\" fill=\"none\"/>\n",
              "    <path d=\"M18.56 5.44l.94 2.06.94-2.06 2.06-.94-2.06-.94-.94-2.06-.94 2.06-2.06.94zm-11 1L8.5 8.5l.94-2.06 2.06-.94-2.06-.94L8.5 2.5l-.94 2.06-2.06.94zm10 10l.94 2.06.94-2.06 2.06-.94-2.06-.94-.94-2.06-.94 2.06-2.06.94z\"/><path d=\"M17.41 7.96l-1.37-1.37c-.4-.4-.92-.59-1.43-.59-.52 0-1.04.2-1.43.59L10.3 9.45l-7.72 7.72c-.78.78-.78 2.05 0 2.83L4 21.41c.39.39.9.59 1.41.59.51 0 1.02-.2 1.41-.59l7.78-7.78 2.81-2.81c.8-.78.8-2.07 0-2.86zM5.41 20L4 18.59l7.72-7.72 1.47 1.35L5.41 20z\"/>\n",
              "  </svg>\n",
              "      </button>\n",
              "      \n",
              "  <style>\n",
              "    .colab-df-container {\n",
              "      display:flex;\n",
              "      flex-wrap:wrap;\n",
              "      gap: 12px;\n",
              "    }\n",
              "\n",
              "    .colab-df-convert {\n",
              "      background-color: #E8F0FE;\n",
              "      border: none;\n",
              "      border-radius: 50%;\n",
              "      cursor: pointer;\n",
              "      display: none;\n",
              "      fill: #1967D2;\n",
              "      height: 32px;\n",
              "      padding: 0 0 0 0;\n",
              "      width: 32px;\n",
              "    }\n",
              "\n",
              "    .colab-df-convert:hover {\n",
              "      background-color: #E2EBFA;\n",
              "      box-shadow: 0px 1px 2px rgba(60, 64, 67, 0.3), 0px 1px 3px 1px rgba(60, 64, 67, 0.15);\n",
              "      fill: #174EA6;\n",
              "    }\n",
              "\n",
              "    [theme=dark] .colab-df-convert {\n",
              "      background-color: #3B4455;\n",
              "      fill: #D2E3FC;\n",
              "    }\n",
              "\n",
              "    [theme=dark] .colab-df-convert:hover {\n",
              "      background-color: #434B5C;\n",
              "      box-shadow: 0px 1px 3px 1px rgba(0, 0, 0, 0.15);\n",
              "      filter: drop-shadow(0px 1px 2px rgba(0, 0, 0, 0.3));\n",
              "      fill: #FFFFFF;\n",
              "    }\n",
              "  </style>\n",
              "\n",
              "      <script>\n",
              "        const buttonEl =\n",
              "          document.querySelector('#df-94e1e4ac-b029-4c68-8413-403015dc7843 button.colab-df-convert');\n",
              "        buttonEl.style.display =\n",
              "          google.colab.kernel.accessAllowed ? 'block' : 'none';\n",
              "\n",
              "        async function convertToInteractive(key) {\n",
              "          const element = document.querySelector('#df-94e1e4ac-b029-4c68-8413-403015dc7843');\n",
              "          const dataTable =\n",
              "            await google.colab.kernel.invokeFunction('convertToInteractive',\n",
              "                                                     [key], {});\n",
              "          if (!dataTable) return;\n",
              "\n",
              "          const docLinkHtml = 'Like what you see? Visit the ' +\n",
              "            '<a target=\"_blank\" href=https://colab.research.google.com/notebooks/data_table.ipynb>data table notebook</a>'\n",
              "            + ' to learn more about interactive tables.';\n",
              "          element.innerHTML = '';\n",
              "          dataTable['output_type'] = 'display_data';\n",
              "          await google.colab.output.renderOutput(dataTable, element);\n",
              "          const docLink = document.createElement('div');\n",
              "          docLink.innerHTML = docLinkHtml;\n",
              "          element.appendChild(docLink);\n",
              "        }\n",
              "      </script>\n",
              "    </div>\n",
              "  </div>\n",
              "  "
            ],
            "text/plain": [
              "   UserID  ItemID  Rating1  Rating2  Predictor\n",
              "0  200031   30877      0.0      0.0          1\n",
              "1  200031    8244      0.0      0.0          1\n",
              "2  200031  130183      0.0      0.0          0\n",
              "3  200031  198762      0.0      0.0          0\n",
              "4  200031   34503      0.0      0.0          1"
            ]
          },
          "metadata": {},
          "execution_count": 2
        }
      ],
      "source": [
        "#Import testing data\n",
        "test = pd.read_csv('test2_new.txt', sep = '|', header=None)\n",
        "test.columns = ['UserID', 'ItemID', 'Predictor']\n",
        "test['Rating1'] = 0.0\n",
        "test['Rating2'] = 0.0\n",
        "test = test[['UserID', 'ItemID', 'Rating1', 'Rating2', 'Predictor']]\n",
        "test.head()"
      ]
    },
    {
      "cell_type": "code",
      "execution_count": null,
      "metadata": {
        "id": "30T1HjGQCNe_"
      },
      "outputs": [],
      "source": [
        "#Find like values\n",
        "for i in range(len(test)):\n",
        "    user = test['UserID'][i]\n",
        "    item = test['ItemID'][i]\n",
        "    test['Rating1'][i] = train[train['UserID']==user][train['ItemID']==item]['Rating1']\n",
        "    test['Rating2'][i] = train[train['UserID']==user][train['ItemID']==item]['Rating2']"
      ]
    },
    {
      "cell_type": "code",
      "execution_count": null,
      "metadata": {
        "id": "ghVUHsZDCQ63"
      },
      "outputs": [],
      "source": [
        "test.to_csv('test.csv', index=False)\n",
        "train.to_csv('train.csv', index=False)"
      ]
    },
    {
      "cell_type": "markdown",
      "metadata": {
        "id": "l3wmR_3OEEmI"
      },
      "source": [
        "## Second install pyspark and change to spark dataframe"
      ]
    },
    {
      "cell_type": "code",
      "execution_count": null,
      "metadata": {
        "colab": {
          "base_uri": "https://localhost:8080/"
        },
        "id": "1HbpeGtYCSB-",
        "outputId": "2d2e230f-99e4-4b26-840b-bec1bcdaecf5"
      },
      "outputs": [
        {
          "output_type": "stream",
          "name": "stdout",
          "text": [
            "Collecting pyspark\n",
            "  Downloading pyspark-3.2.0.tar.gz (281.3 MB)\n",
            "\u001b[K     |████████████████████████████████| 281.3 MB 37 kB/s \n",
            "\u001b[?25hCollecting py4j==0.10.9.2\n",
            "  Downloading py4j-0.10.9.2-py2.py3-none-any.whl (198 kB)\n",
            "\u001b[K     |████████████████████████████████| 198 kB 50.5 MB/s \n",
            "\u001b[?25hBuilding wheels for collected packages: pyspark\n",
            "  Building wheel for pyspark (setup.py) ... \u001b[?25l\u001b[?25hdone\n",
            "  Created wheel for pyspark: filename=pyspark-3.2.0-py2.py3-none-any.whl size=281805912 sha256=b3699d4283888a91d499590cc3dec6cc7a329babbd3655151241c345d923b1ff\n",
            "  Stored in directory: /root/.cache/pip/wheels/0b/de/d2/9be5d59d7331c6c2a7c1b6d1a4f463ce107332b1ecd4e80718\n",
            "Successfully built pyspark\n",
            "Installing collected packages: py4j, pyspark\n",
            "Successfully installed py4j-0.10.9.2 pyspark-3.2.0\n"
          ]
        }
      ],
      "source": [
        "pip install pyspark"
      ]
    },
    {
      "cell_type": "code",
      "execution_count": null,
      "metadata": {
        "id": "C32QojCTEf41"
      },
      "outputs": [],
      "source": [
        "from pyspark.sql import SparkSession\n",
        "from pyspark import SparkContext\n",
        "from pyspark.ml.evaluation import RegressionEvaluator\n",
        "from pyspark.ml.recommendation import ALS\n",
        "from pyspark.sql import Row\n",
        "\n",
        "\n",
        "sc = SparkContext()\n",
        "if __name__ == \"__main__\":\n",
        "    spark = SparkSession\\\n",
        "        .builder\\\n",
        "        .appName(\"ML_Recommender\")\\\n",
        "        .getOrCreate()"
      ]
    },
    {
      "cell_type": "code",
      "execution_count": null,
      "metadata": {
        "colab": {
          "base_uri": "https://localhost:8080/"
        },
        "id": "Y3lpnDZAE1tt",
        "outputId": "e66fbc13-46c0-4d82-aaf1-bf12e507d128"
      },
      "outputs": [
        {
          "output_type": "stream",
          "name": "stdout",
          "text": [
            "root\n",
            " |-- UserID: integer (nullable = true)\n",
            " |-- ItemID: integer (nullable = true)\n",
            " |-- Rating1: double (nullable = true)\n",
            " |-- Rating2: double (nullable = true)\n",
            " |-- Predictor: integer (nullable = true)\n",
            "\n"
          ]
        }
      ],
      "source": [
        "df = spark.read.csv('test.csv', header=True, inferSchema=True)\n",
        "df.printSchema()"
      ]
    },
    {
      "cell_type": "code",
      "execution_count": null,
      "metadata": {
        "colab": {
          "base_uri": "https://localhost:8080/"
        },
        "id": "1PFRh8OdE4G9",
        "outputId": "04cd1f37-89a1-42ef-86ea-006a454dd9ef"
      },
      "outputs": [
        {
          "output_type": "stream",
          "name": "stdout",
          "text": [
            "+------+------+-------+-------+---------+\n",
            "|UserID|ItemID|Rating1|Rating2|Predictor|\n",
            "+------+------+-------+-------+---------+\n",
            "|200031| 30877|   90.0|   50.0|        1|\n",
            "|200031|  8244|   90.0|    0.0|        1|\n",
            "|200031|130183|    0.0|    0.0|        0|\n",
            "|200031|198762|    0.0|    0.0|        0|\n",
            "|200031| 34503|   90.0|   50.0|        1|\n",
            "+------+------+-------+-------+---------+\n",
            "only showing top 5 rows\n",
            "\n"
          ]
        }
      ],
      "source": [
        "df.show(5)"
      ]
    },
    {
      "cell_type": "code",
      "execution_count": null,
      "metadata": {
        "id": "tEVUGbN5E731"
      },
      "outputs": [],
      "source": [
        "from pyspark.ml.feature import VectorAssembler\n",
        "from pyspark.ml import Pipeline\n",
        "\n",
        "assembler =VectorAssembler(inputCols=['Rating1','Rating2'], outputCol= 'features')\n",
        "\n",
        "cols = df.columns\n",
        "pipeline=Pipeline(stages=[assembler])\n",
        "model=pipeline.fit(df)\n",
        "df=model.transform(df)\n",
        "selectedCols = ['features'] + cols\n",
        "df = df.select(selectedCols)\n"
      ]
    },
    {
      "cell_type": "code",
      "execution_count": null,
      "metadata": {
        "colab": {
          "base_uri": "https://localhost:8080/"
        },
        "id": "x_bhJXy3FPbs",
        "outputId": "da4cc034-9880-4dae-8895-440060db1f56"
      },
      "outputs": [
        {
          "output_type": "stream",
          "name": "stdout",
          "text": [
            "Training Length: 4780\n",
            "Test Length: 1220\n"
          ]
        }
      ],
      "source": [
        "train_1, test_1 = df.randomSplit([0.8, 0.2], seed=102898)\n",
        "print('Training Length: '+str(train_1.count()))\n",
        "print('Test Length: '+str(test_1.count()))"
      ]
    },
    {
      "cell_type": "markdown",
      "metadata": {
        "id": "Q-NfPgPLJfZd"
      },
      "source": [
        "## Factorization"
      ]
    },
    {
      "cell_type": "code",
      "execution_count": null,
      "metadata": {
        "colab": {
          "base_uri": "https://localhost:8080/"
        },
        "id": "QO1chGazJsnt",
        "outputId": "23e1c56b-f8ff-4cff-8c13-6a5447f36767"
      },
      "outputs": [
        {
          "output_type": "stream",
          "name": "stdout",
          "text": [
            "root\n",
            " |-- features: vector (nullable = true)\n",
            " |-- UserID: integer (nullable = true)\n",
            " |-- ItemID: integer (nullable = true)\n",
            " |-- Rating1: double (nullable = true)\n",
            " |-- Rating2: double (nullable = true)\n",
            "\n",
            "+----------+------+------+-------+-------+--------------------+--------------------+----------+\n",
            "|  features|UserID|ItemID|Rating1|Rating2|       rawPrediction|         probability|prediction|\n",
            "+----------+------+------+-------+-------+--------------------+--------------------+----------+\n",
            "| (2,[],[])|199810|208019|    0.0|    0.0|[0.46254462957343...|[0.61361765912985...|       0.0|\n",
            "| (2,[],[])|199810| 74139|    0.0|    0.0|[0.46254462957343...|[0.61361765912985...|       0.0|\n",
            "| (2,[],[])|199810|  9903|    0.0|    0.0|[0.46254462957343...|[0.61361765912985...|       0.0|\n",
            "| (2,[],[])|199810|242681|    0.0|    0.0|[0.46254462957343...|[0.61361765912985...|       0.0|\n",
            "|[0.0,70.0]|199810| 18515|    0.0|   70.0|[-1.0439929863640...|[0.26038027962148...|       1.0|\n",
            "+----------+------+------+-------+-------+--------------------+--------------------+----------+\n",
            "only showing top 5 rows\n",
            "\n"
          ]
        }
      ],
      "source": [
        "from pyspark.ml.classification import FMClassifier\n",
        "from pyspark.ml.feature import MinMaxScaler, StringIndexer\n",
        "from pyspark.ml.evaluation import MulticlassClassificationEvaluator\n",
        "\n",
        "#create data frame to train for ML recommenders\n",
        "ml_df = spark.read.csv('train.csv', header=True, inferSchema=True)\n",
        "ml_cols = ml_df.columns\n",
        "ml_df = model.transform(ml_df)\n",
        "selCols = ['features'] + ml_cols\n",
        "ml_df = ml_df.select(selCols)\n",
        "ml_df.printSchema()\n",
        "\n",
        "#Create Factorization Machine Classifier\n",
        "fac = FMClassifier(featuresCol = 'features', labelCol = 'Predictor', stepSize=0.005)\n",
        "facmodel = fac.fit(df)\n",
        "predictions_fac = facmodel.transform(ml_df)\n",
        "predictions_fac.show(5)"
      ]
    },
    {
      "cell_type": "code",
      "execution_count": null,
      "metadata": {
        "colab": {
          "base_uri": "https://localhost:8080/"
        },
        "id": "Fn2B3qe9KBo9",
        "outputId": "deb622ae-6e14-47dc-ea64-b530f446fb56"
      },
      "outputs": [
        {
          "output_type": "execute_result",
          "data": {
            "text/html": [
              "\n",
              "  <div id=\"df-16ea6a24-a55b-42e5-8f8a-841188f7b35c\">\n",
              "    <div class=\"colab-df-container\">\n",
              "      <div>\n",
              "<style scoped>\n",
              "    .dataframe tbody tr th:only-of-type {\n",
              "        vertical-align: middle;\n",
              "    }\n",
              "\n",
              "    .dataframe tbody tr th {\n",
              "        vertical-align: top;\n",
              "    }\n",
              "\n",
              "    .dataframe thead th {\n",
              "        text-align: right;\n",
              "    }\n",
              "</style>\n",
              "<table border=\"1\" class=\"dataframe\">\n",
              "  <thead>\n",
              "    <tr style=\"text-align: right;\">\n",
              "      <th></th>\n",
              "      <th>UserID</th>\n",
              "      <th>ItemID</th>\n",
              "      <th>prediction</th>\n",
              "      <th>TrackID</th>\n",
              "    </tr>\n",
              "  </thead>\n",
              "  <tbody>\n",
              "    <tr>\n",
              "      <th>0</th>\n",
              "      <td>199810</td>\n",
              "      <td>208019</td>\n",
              "      <td>0.0</td>\n",
              "      <td></td>\n",
              "    </tr>\n",
              "    <tr>\n",
              "      <th>1</th>\n",
              "      <td>199810</td>\n",
              "      <td>74139</td>\n",
              "      <td>0.0</td>\n",
              "      <td></td>\n",
              "    </tr>\n",
              "    <tr>\n",
              "      <th>2</th>\n",
              "      <td>199810</td>\n",
              "      <td>9903</td>\n",
              "      <td>0.0</td>\n",
              "      <td></td>\n",
              "    </tr>\n",
              "    <tr>\n",
              "      <th>3</th>\n",
              "      <td>199810</td>\n",
              "      <td>242681</td>\n",
              "      <td>0.0</td>\n",
              "      <td></td>\n",
              "    </tr>\n",
              "    <tr>\n",
              "      <th>4</th>\n",
              "      <td>199810</td>\n",
              "      <td>18515</td>\n",
              "      <td>1.0</td>\n",
              "      <td></td>\n",
              "    </tr>\n",
              "  </tbody>\n",
              "</table>\n",
              "</div>\n",
              "      <button class=\"colab-df-convert\" onclick=\"convertToInteractive('df-16ea6a24-a55b-42e5-8f8a-841188f7b35c')\"\n",
              "              title=\"Convert this dataframe to an interactive table.\"\n",
              "              style=\"display:none;\">\n",
              "        \n",
              "  <svg xmlns=\"http://www.w3.org/2000/svg\" height=\"24px\"viewBox=\"0 0 24 24\"\n",
              "       width=\"24px\">\n",
              "    <path d=\"M0 0h24v24H0V0z\" fill=\"none\"/>\n",
              "    <path d=\"M18.56 5.44l.94 2.06.94-2.06 2.06-.94-2.06-.94-.94-2.06-.94 2.06-2.06.94zm-11 1L8.5 8.5l.94-2.06 2.06-.94-2.06-.94L8.5 2.5l-.94 2.06-2.06.94zm10 10l.94 2.06.94-2.06 2.06-.94-2.06-.94-.94-2.06-.94 2.06-2.06.94z\"/><path d=\"M17.41 7.96l-1.37-1.37c-.4-.4-.92-.59-1.43-.59-.52 0-1.04.2-1.43.59L10.3 9.45l-7.72 7.72c-.78.78-.78 2.05 0 2.83L4 21.41c.39.39.9.59 1.41.59.51 0 1.02-.2 1.41-.59l7.78-7.78 2.81-2.81c.8-.78.8-2.07 0-2.86zM5.41 20L4 18.59l7.72-7.72 1.47 1.35L5.41 20z\"/>\n",
              "  </svg>\n",
              "      </button>\n",
              "      \n",
              "  <style>\n",
              "    .colab-df-container {\n",
              "      display:flex;\n",
              "      flex-wrap:wrap;\n",
              "      gap: 12px;\n",
              "    }\n",
              "\n",
              "    .colab-df-convert {\n",
              "      background-color: #E8F0FE;\n",
              "      border: none;\n",
              "      border-radius: 50%;\n",
              "      cursor: pointer;\n",
              "      display: none;\n",
              "      fill: #1967D2;\n",
              "      height: 32px;\n",
              "      padding: 0 0 0 0;\n",
              "      width: 32px;\n",
              "    }\n",
              "\n",
              "    .colab-df-convert:hover {\n",
              "      background-color: #E2EBFA;\n",
              "      box-shadow: 0px 1px 2px rgba(60, 64, 67, 0.3), 0px 1px 3px 1px rgba(60, 64, 67, 0.15);\n",
              "      fill: #174EA6;\n",
              "    }\n",
              "\n",
              "    [theme=dark] .colab-df-convert {\n",
              "      background-color: #3B4455;\n",
              "      fill: #D2E3FC;\n",
              "    }\n",
              "\n",
              "    [theme=dark] .colab-df-convert:hover {\n",
              "      background-color: #434B5C;\n",
              "      box-shadow: 0px 1px 3px 1px rgba(0, 0, 0, 0.15);\n",
              "      filter: drop-shadow(0px 1px 2px rgba(0, 0, 0, 0.3));\n",
              "      fill: #FFFFFF;\n",
              "    }\n",
              "  </style>\n",
              "\n",
              "      <script>\n",
              "        const buttonEl =\n",
              "          document.querySelector('#df-16ea6a24-a55b-42e5-8f8a-841188f7b35c button.colab-df-convert');\n",
              "        buttonEl.style.display =\n",
              "          google.colab.kernel.accessAllowed ? 'block' : 'none';\n",
              "\n",
              "        async function convertToInteractive(key) {\n",
              "          const element = document.querySelector('#df-16ea6a24-a55b-42e5-8f8a-841188f7b35c');\n",
              "          const dataTable =\n",
              "            await google.colab.kernel.invokeFunction('convertToInteractive',\n",
              "                                                     [key], {});\n",
              "          if (!dataTable) return;\n",
              "\n",
              "          const docLinkHtml = 'Like what you see? Visit the ' +\n",
              "            '<a target=\"_blank\" href=https://colab.research.google.com/notebooks/data_table.ipynb>data table notebook</a>'\n",
              "            + ' to learn more about interactive tables.';\n",
              "          element.innerHTML = '';\n",
              "          dataTable['output_type'] = 'display_data';\n",
              "          await google.colab.output.renderOutput(dataTable, element);\n",
              "          const docLink = document.createElement('div');\n",
              "          docLink.innerHTML = docLinkHtml;\n",
              "          element.appendChild(docLink);\n",
              "        }\n",
              "      </script>\n",
              "    </div>\n",
              "  </div>\n",
              "  "
            ],
            "text/plain": [
              "   UserID  ItemID  prediction TrackID\n",
              "0  199810  208019         0.0        \n",
              "1  199810   74139         0.0        \n",
              "2  199810    9903         0.0        \n",
              "3  199810  242681         0.0        \n",
              "4  199810   18515         1.0        "
            ]
          },
          "metadata": {},
          "execution_count": 12
        }
      ],
      "source": [
        "#Switch to pandas\n",
        "facResults = predictions_fac.select('UserID', 'ItemID', 'prediction')\n",
        "facResults = facResults.toPandas()\n",
        "facResults['TrackID'] = ''\n",
        "facResults.head()"
      ]
    },
    {
      "cell_type": "code",
      "execution_count": null,
      "metadata": {
        "colab": {
          "base_uri": "https://localhost:8080/"
        },
        "id": "lDr0kxvIKqRn",
        "outputId": "c6b37eab-7e94-41e2-ca86-170fd3ce22bf"
      },
      "outputs": [
        {
          "output_type": "stream",
          "name": "stderr",
          "text": [
            "/usr/local/lib/python3.7/dist-packages/ipykernel_launcher.py:3: SettingWithCopyWarning: \n",
            "A value is trying to be set on a copy of a slice from a DataFrame\n",
            "\n",
            "See the caveats in the documentation: https://pandas.pydata.org/pandas-docs/stable/user_guide/indexing.html#returning-a-view-versus-a-copy\n",
            "  This is separate from the ipykernel package so we can avoid doing imports until\n"
          ]
        }
      ],
      "source": [
        "#format for submission\n",
        "for i in range(len(facResults)):\n",
        "    facResults['TrackID'][i] = str(facResults['UserID'][i])+'_'+str(facResults['ItemID'][i])\n",
        "\n",
        "facResults = facResults[['TrackID', 'UserID', 'ItemID', 'prediction']]\n",
        "facResults.drop(columns={'UserID', 'ItemID'}, inplace=True)\n",
        "facResults = facResults.rename(columns={'prediction': 'Predictor'})\n",
        "facResults.head()\n",
        "facResults.to_csv('factorization.csv', index=False)\n"
      ]
    },
    {
      "cell_type": "markdown",
      "metadata": {
        "id": "R41G4EiwOvZX"
      },
      "source": [
        "## Random Forest Classifier"
      ]
    },
    {
      "cell_type": "code",
      "execution_count": null,
      "metadata": {
        "colab": {
          "base_uri": "https://localhost:8080/"
        },
        "id": "bQ7eYKgoO2O-",
        "outputId": "d1bc8c73-345c-46ec-a463-e22979545d29"
      },
      "outputs": [
        {
          "output_type": "stream",
          "name": "stdout",
          "text": [
            "+----------+------+------+-------+-------+--------------------+--------------------+----------+\n",
            "|  features|UserID|ItemID|Rating1|Rating2|       rawPrediction|         probability|prediction|\n",
            "+----------+------+------+-------+-------+--------------------+--------------------+----------+\n",
            "| (2,[],[])|199810|208019|    0.0|    0.0|[16.2222608701549...|[0.81111304350774...|       0.0|\n",
            "| (2,[],[])|199810| 74139|    0.0|    0.0|[16.2222608701549...|[0.81111304350774...|       0.0|\n",
            "| (2,[],[])|199810|  9903|    0.0|    0.0|[16.2222608701549...|[0.81111304350774...|       0.0|\n",
            "| (2,[],[])|199810|242681|    0.0|    0.0|[16.2222608701549...|[0.81111304350774...|       0.0|\n",
            "|[0.0,70.0]|199810| 18515|    0.0|   70.0|[5.65634778859979...|[0.28281738942998...|       1.0|\n",
            "+----------+------+------+-------+-------+--------------------+--------------------+----------+\n",
            "only showing top 5 rows\n",
            "\n"
          ]
        }
      ],
      "source": [
        "from pyspark.ml.classification import RandomForestClassifier\n",
        "\n",
        "# Results before cross validation to tune parameters\n",
        "rf = RandomForestClassifier(featuresCol = 'features', labelCol = 'Predictor')\n",
        "rfModel = rf.fit(df)\n",
        "predictions_rf = rfModel.transform(ml_df)\n",
        "predictions_rf.show(5)"
      ]
    },
    {
      "cell_type": "code",
      "execution_count": null,
      "metadata": {
        "colab": {
          "base_uri": "https://localhost:8080/"
        },
        "id": "PaGwNl6UJiCQ",
        "outputId": "fff5b4e5-1f2f-4dcc-ca51-e6ece77bd65b"
      },
      "outputs": [
        {
          "output_type": "stream",
          "name": "stdout",
          "text": [
            "Num models to be tested:  25\n",
            "**Best Model from Training**\n",
            "  MaxDepth: 3\n",
            "  NumTrees: 12\n",
            "  Accuracy: 0.8543333333333333\n"
          ]
        }
      ],
      "source": [
        "# Cross Validation to tune hyperparameters\n",
        "from pyspark.ml.tuning import ParamGridBuilder, CrossValidator\n",
        "from pyspark.ml.evaluation import RegressionEvaluator\n",
        "# Grid search for best params\n",
        "param_grid = ParamGridBuilder() \\\n",
        "            .addGrid(rf.maxDepth, [3,4,5,6,7]) \\\n",
        "            .addGrid(rf.numTrees, [5,8,10,12,15]) \\\n",
        "            .build()\n",
        "from pyspark.ml.evaluation import BinaryClassificationEvaluator\n",
        "from pyspark.mllib.evaluation import BinaryClassificationMetrics             \n",
        "# Define evaluation metric: RMSE\n",
        "evaluator = BinaryClassificationEvaluator(labelCol='Predictor',rawPredictionCol=\"prediction\")\n",
        "print (\"Num models to be tested: \", len(param_grid))\n",
        "\n",
        "# Build cross validation using CrossValidator\n",
        "cv = CrossValidator(estimator=rf, estimatorParamMaps=param_grid, evaluator=evaluator, numFolds=4)\n",
        "\n",
        "#Fit cross validator to the 'train' dataset\n",
        "model = cv.fit(df)\n",
        "\n",
        "#Extract best model from the cv model above and get training predictions\n",
        "best_model = model.bestModel\n",
        "train_output = best_model.transform(df)\n",
        "train_accuracy = evaluator.evaluate(train_output)\n",
        "\n",
        "# Print the best parameters and rmse\n",
        "print(\"**Best Model from Training**\")\n",
        "print(\"  MaxDepth:\", best_model._java_obj.parent().getMaxDepth())\n",
        "print(\"  NumTrees:\", best_model._java_obj.parent().getNumTrees())\n",
        "print(\"  Accuracy:\", train_accuracy)"
      ]
    },
    {
      "cell_type": "code",
      "execution_count": null,
      "metadata": {
        "colab": {
          "base_uri": "https://localhost:8080/"
        },
        "id": "iyelAlN8KAqI",
        "outputId": "e405e03e-7df5-4700-925b-a970cd5f525a"
      },
      "outputs": [
        {
          "output_type": "stream",
          "name": "stdout",
          "text": [
            "+----------+------+------+-------+-------+--------------------+--------------------+----------+\n",
            "|  features|UserID|ItemID|Rating1|Rating2|       rawPrediction|         probability|prediction|\n",
            "+----------+------+------+-------+-------+--------------------+--------------------+----------+\n",
            "| (2,[],[])|199810|208019|    0.0|    0.0|[9.70530455772366...|[0.80877537981030...|       0.0|\n",
            "| (2,[],[])|199810| 74139|    0.0|    0.0|[9.70530455772366...|[0.80877537981030...|       0.0|\n",
            "| (2,[],[])|199810|  9903|    0.0|    0.0|[9.70530455772366...|[0.80877537981030...|       0.0|\n",
            "| (2,[],[])|199810|242681|    0.0|    0.0|[9.70530455772366...|[0.80877537981030...|       0.0|\n",
            "|[0.0,70.0]|199810| 18515|    0.0|   70.0|[1.06470954036445...|[0.08872579503037...|       1.0|\n",
            "+----------+------+------+-------+-------+--------------------+--------------------+----------+\n",
            "only showing top 5 rows\n",
            "\n"
          ]
        }
      ],
      "source": [
        "# Get test predictions\n",
        "predictions_rf = best_model.transform(ml_df)\n",
        "predictions_rf.show(5)"
      ]
    },
    {
      "cell_type": "code",
      "execution_count": null,
      "metadata": {
        "colab": {
          "base_uri": "https://localhost:8080/"
        },
        "id": "CQf-RzQEPWLe",
        "outputId": "6ddb8efc-abc6-487d-cfb2-3658eae746fe"
      },
      "outputs": [
        {
          "output_type": "execute_result",
          "data": {
            "text/html": [
              "\n",
              "  <div id=\"df-e4196bab-cd88-42c5-9628-676c51beee51\">\n",
              "    <div class=\"colab-df-container\">\n",
              "      <div>\n",
              "<style scoped>\n",
              "    .dataframe tbody tr th:only-of-type {\n",
              "        vertical-align: middle;\n",
              "    }\n",
              "\n",
              "    .dataframe tbody tr th {\n",
              "        vertical-align: top;\n",
              "    }\n",
              "\n",
              "    .dataframe thead th {\n",
              "        text-align: right;\n",
              "    }\n",
              "</style>\n",
              "<table border=\"1\" class=\"dataframe\">\n",
              "  <thead>\n",
              "    <tr style=\"text-align: right;\">\n",
              "      <th></th>\n",
              "      <th>UserID</th>\n",
              "      <th>ItemID</th>\n",
              "      <th>prediction</th>\n",
              "      <th>TrackID</th>\n",
              "    </tr>\n",
              "  </thead>\n",
              "  <tbody>\n",
              "    <tr>\n",
              "      <th>0</th>\n",
              "      <td>199810</td>\n",
              "      <td>208019</td>\n",
              "      <td>0.0</td>\n",
              "      <td></td>\n",
              "    </tr>\n",
              "    <tr>\n",
              "      <th>1</th>\n",
              "      <td>199810</td>\n",
              "      <td>74139</td>\n",
              "      <td>0.0</td>\n",
              "      <td></td>\n",
              "    </tr>\n",
              "    <tr>\n",
              "      <th>2</th>\n",
              "      <td>199810</td>\n",
              "      <td>9903</td>\n",
              "      <td>0.0</td>\n",
              "      <td></td>\n",
              "    </tr>\n",
              "    <tr>\n",
              "      <th>3</th>\n",
              "      <td>199810</td>\n",
              "      <td>242681</td>\n",
              "      <td>0.0</td>\n",
              "      <td></td>\n",
              "    </tr>\n",
              "    <tr>\n",
              "      <th>4</th>\n",
              "      <td>199810</td>\n",
              "      <td>18515</td>\n",
              "      <td>1.0</td>\n",
              "      <td></td>\n",
              "    </tr>\n",
              "  </tbody>\n",
              "</table>\n",
              "</div>\n",
              "      <button class=\"colab-df-convert\" onclick=\"convertToInteractive('df-e4196bab-cd88-42c5-9628-676c51beee51')\"\n",
              "              title=\"Convert this dataframe to an interactive table.\"\n",
              "              style=\"display:none;\">\n",
              "        \n",
              "  <svg xmlns=\"http://www.w3.org/2000/svg\" height=\"24px\"viewBox=\"0 0 24 24\"\n",
              "       width=\"24px\">\n",
              "    <path d=\"M0 0h24v24H0V0z\" fill=\"none\"/>\n",
              "    <path d=\"M18.56 5.44l.94 2.06.94-2.06 2.06-.94-2.06-.94-.94-2.06-.94 2.06-2.06.94zm-11 1L8.5 8.5l.94-2.06 2.06-.94-2.06-.94L8.5 2.5l-.94 2.06-2.06.94zm10 10l.94 2.06.94-2.06 2.06-.94-2.06-.94-.94-2.06-.94 2.06-2.06.94z\"/><path d=\"M17.41 7.96l-1.37-1.37c-.4-.4-.92-.59-1.43-.59-.52 0-1.04.2-1.43.59L10.3 9.45l-7.72 7.72c-.78.78-.78 2.05 0 2.83L4 21.41c.39.39.9.59 1.41.59.51 0 1.02-.2 1.41-.59l7.78-7.78 2.81-2.81c.8-.78.8-2.07 0-2.86zM5.41 20L4 18.59l7.72-7.72 1.47 1.35L5.41 20z\"/>\n",
              "  </svg>\n",
              "      </button>\n",
              "      \n",
              "  <style>\n",
              "    .colab-df-container {\n",
              "      display:flex;\n",
              "      flex-wrap:wrap;\n",
              "      gap: 12px;\n",
              "    }\n",
              "\n",
              "    .colab-df-convert {\n",
              "      background-color: #E8F0FE;\n",
              "      border: none;\n",
              "      border-radius: 50%;\n",
              "      cursor: pointer;\n",
              "      display: none;\n",
              "      fill: #1967D2;\n",
              "      height: 32px;\n",
              "      padding: 0 0 0 0;\n",
              "      width: 32px;\n",
              "    }\n",
              "\n",
              "    .colab-df-convert:hover {\n",
              "      background-color: #E2EBFA;\n",
              "      box-shadow: 0px 1px 2px rgba(60, 64, 67, 0.3), 0px 1px 3px 1px rgba(60, 64, 67, 0.15);\n",
              "      fill: #174EA6;\n",
              "    }\n",
              "\n",
              "    [theme=dark] .colab-df-convert {\n",
              "      background-color: #3B4455;\n",
              "      fill: #D2E3FC;\n",
              "    }\n",
              "\n",
              "    [theme=dark] .colab-df-convert:hover {\n",
              "      background-color: #434B5C;\n",
              "      box-shadow: 0px 1px 3px 1px rgba(0, 0, 0, 0.15);\n",
              "      filter: drop-shadow(0px 1px 2px rgba(0, 0, 0, 0.3));\n",
              "      fill: #FFFFFF;\n",
              "    }\n",
              "  </style>\n",
              "\n",
              "      <script>\n",
              "        const buttonEl =\n",
              "          document.querySelector('#df-e4196bab-cd88-42c5-9628-676c51beee51 button.colab-df-convert');\n",
              "        buttonEl.style.display =\n",
              "          google.colab.kernel.accessAllowed ? 'block' : 'none';\n",
              "\n",
              "        async function convertToInteractive(key) {\n",
              "          const element = document.querySelector('#df-e4196bab-cd88-42c5-9628-676c51beee51');\n",
              "          const dataTable =\n",
              "            await google.colab.kernel.invokeFunction('convertToInteractive',\n",
              "                                                     [key], {});\n",
              "          if (!dataTable) return;\n",
              "\n",
              "          const docLinkHtml = 'Like what you see? Visit the ' +\n",
              "            '<a target=\"_blank\" href=https://colab.research.google.com/notebooks/data_table.ipynb>data table notebook</a>'\n",
              "            + ' to learn more about interactive tables.';\n",
              "          element.innerHTML = '';\n",
              "          dataTable['output_type'] = 'display_data';\n",
              "          await google.colab.output.renderOutput(dataTable, element);\n",
              "          const docLink = document.createElement('div');\n",
              "          docLink.innerHTML = docLinkHtml;\n",
              "          element.appendChild(docLink);\n",
              "        }\n",
              "      </script>\n",
              "    </div>\n",
              "  </div>\n",
              "  "
            ],
            "text/plain": [
              "   UserID  ItemID  prediction TrackID\n",
              "0  199810  208019         0.0        \n",
              "1  199810   74139         0.0        \n",
              "2  199810    9903         0.0        \n",
              "3  199810  242681         0.0        \n",
              "4  199810   18515         1.0        "
            ]
          },
          "metadata": {},
          "execution_count": 17
        }
      ],
      "source": [
        "\n",
        "#Switch to pandas\n",
        "rfResults = predictions_rf.select('UserID', 'ItemID', 'prediction')\n",
        "rfResults = rfResults.toPandas()\n",
        "rfResults['TrackID'] = ''\n",
        "rfResults.head()"
      ]
    },
    {
      "cell_type": "code",
      "execution_count": null,
      "metadata": {
        "colab": {
          "base_uri": "https://localhost:8080/"
        },
        "id": "CZCessRKPeLu",
        "outputId": "746d54da-5642-4a11-8c3e-988bf4306329"
      },
      "outputs": [
        {
          "output_type": "stream",
          "name": "stderr",
          "text": [
            "/usr/local/lib/python3.7/dist-packages/ipykernel_launcher.py:3: SettingWithCopyWarning: \n",
            "A value is trying to be set on a copy of a slice from a DataFrame\n",
            "\n",
            "See the caveats in the documentation: https://pandas.pydata.org/pandas-docs/stable/user_guide/indexing.html#returning-a-view-versus-a-copy\n",
            "  This is separate from the ipykernel package so we can avoid doing imports until\n",
            "/usr/local/lib/python3.7/dist-packages/pandas/core/frame.py:4174: SettingWithCopyWarning: \n",
            "A value is trying to be set on a copy of a slice from a DataFrame\n",
            "\n",
            "See the caveats in the documentation: https://pandas.pydata.org/pandas-docs/stable/user_guide/indexing.html#returning-a-view-versus-a-copy\n",
            "  errors=errors,\n"
          ]
        }
      ],
      "source": [
        "#format for submission\n",
        "for i in range(len(rfResults)):\n",
        "    rfResults['TrackID'][i] = str(rfResults['UserID'][i])+'_'+str(rfResults['ItemID'][i])\n",
        "\n",
        "rfResults = rfResults[['TrackID', 'UserID', 'ItemID', 'prediction']]\n",
        "rfResults.drop(columns={'UserID', 'ItemID'}, inplace=True)\n",
        "rfResults = rfResults.rename(columns={'prediction': 'Predictor'})\n",
        "rfResults.head()\n",
        "rfResults.to_csv('RandomForest.csv', index=False)"
      ]
    },
    {
      "cell_type": "markdown",
      "metadata": {
        "id": "W1XpCz3-QChl"
      },
      "source": [
        "## Decision Tree"
      ]
    },
    {
      "cell_type": "code",
      "execution_count": null,
      "metadata": {
        "colab": {
          "base_uri": "https://localhost:8080/"
        },
        "id": "ky19rvByQFYt",
        "outputId": "8c2fdb73-1876-45ed-d544-dda5b2570d97"
      },
      "outputs": [
        {
          "output_type": "stream",
          "name": "stdout",
          "text": [
            "+----------+------+------+-------+-------+--------------+--------------------+----------+\n",
            "|  features|UserID|ItemID|Rating1|Rating2| rawPrediction|         probability|prediction|\n",
            "+----------+------+------+-------+-------+--------------+--------------------+----------+\n",
            "| (2,[],[])|199810|208019|    0.0|    0.0|[2775.0,649.0]|[0.81045560747663...|       0.0|\n",
            "| (2,[],[])|199810| 74139|    0.0|    0.0|[2775.0,649.0]|[0.81045560747663...|       0.0|\n",
            "| (2,[],[])|199810|  9903|    0.0|    0.0|[2775.0,649.0]|[0.81045560747663...|       0.0|\n",
            "| (2,[],[])|199810|242681|    0.0|    0.0|[2775.0,649.0]|[0.81045560747663...|       0.0|\n",
            "|[0.0,70.0]|199810| 18515|    0.0|   70.0|[224.0,2252.0]|[0.09046849757673...|       1.0|\n",
            "+----------+------+------+-------+-------+--------------+--------------------+----------+\n",
            "only showing top 5 rows\n",
            "\n"
          ]
        }
      ],
      "source": [
        "from pyspark.ml.classification import DecisionTreeClassifier\n",
        "\n",
        "dt = DecisionTreeClassifier(featuresCol = 'features', labelCol = 'Predictor',maxDepth = 3)\n",
        "dtModel = dt.fit(df)\n",
        "predictions_dt = dtModel.transform(ml_df)\n",
        "predictions_dt.show(5)"
      ]
    },
    {
      "cell_type": "code",
      "execution_count": null,
      "metadata": {
        "colab": {
          "base_uri": "https://localhost:8080/"
        },
        "id": "i1HiRl1UPwL_",
        "outputId": "4b9cd8f2-811e-43de-9951-00ee71f62124"
      },
      "outputs": [
        {
          "output_type": "stream",
          "name": "stdout",
          "text": [
            "Num models to be tested:  24\n",
            "**Best Model from Training**\n",
            "  MaxDepth: 2\n",
            "  MaxBins: 5\n",
            "  Accuracy: 0.854\n"
          ]
        }
      ],
      "source": [
        "# Grid search for best params\n",
        "param_grid = ParamGridBuilder() \\\n",
        "            .addGrid(dt.maxDepth, [2,3,4,5]) \\\n",
        "            .addGrid(dt.maxBins, [5,6,7,8,10,12]) \\\n",
        "            .build()\n",
        "        \n",
        "# Define evaluation metric\n",
        "\n",
        "evaluator = BinaryClassificationEvaluator(labelCol='Predictor',rawPredictionCol=\"prediction\")\n",
        "print (\"Num models to be tested: \", len(param_grid))\n",
        "\n",
        "# Build cross validation using CrossValidator\n",
        "cv = CrossValidator(estimator=dt, estimatorParamMaps=param_grid, evaluator=evaluator, numFolds=4)\n",
        "\n",
        "#Fit cross validator to the 'train' dataset\n",
        "model = cv.fit(df)\n",
        "\n",
        "#Extract best model from the cv model above and get training predictions\n",
        "best_model = model.bestModel\n",
        "train_output = best_model.transform(df)\n",
        "train_accuracy = evaluator.evaluate(train_output)\n",
        "\n",
        "# Print the best parameters and rmse\n",
        "print(\"**Best Model from Training**\")\n",
        "print(\"  MaxDepth:\", best_model._java_obj.parent().getMaxDepth())\n",
        "print(\"  MaxBins:\", best_model._java_obj.parent().getMaxBins())\n",
        "print(\"  Accuracy:\", train_accuracy)"
      ]
    },
    {
      "cell_type": "code",
      "execution_count": null,
      "metadata": {
        "colab": {
          "base_uri": "https://localhost:8080/"
        },
        "id": "6eXv2zEFQOAy",
        "outputId": "7748ae30-a8fb-4005-c6df-dddd6c7fe637"
      },
      "outputs": [
        {
          "output_type": "stream",
          "name": "stdout",
          "text": [
            "+----------+------+------+-------+-------+--------------+--------------------+----------+\n",
            "|  features|UserID|ItemID|Rating1|Rating2| rawPrediction|         probability|prediction|\n",
            "+----------+------+------+-------+-------+--------------+--------------------+----------+\n",
            "| (2,[],[])|199810|208019|    0.0|    0.0|[2771.0,647.0]|[0.81070801638385...|       0.0|\n",
            "| (2,[],[])|199810| 74139|    0.0|    0.0|[2771.0,647.0]|[0.81070801638385...|       0.0|\n",
            "| (2,[],[])|199810|  9903|    0.0|    0.0|[2771.0,647.0]|[0.81070801638385...|       0.0|\n",
            "| (2,[],[])|199810|242681|    0.0|    0.0|[2771.0,647.0]|[0.81070801638385...|       0.0|\n",
            "|[0.0,70.0]|199810| 18515|    0.0|   70.0|[229.0,2256.0]|[0.09215291750503...|       1.0|\n",
            "+----------+------+------+-------+-------+--------------+--------------------+----------+\n",
            "only showing top 5 rows\n",
            "\n"
          ]
        }
      ],
      "source": [
        "# Get test predictions\n",
        "predictions_dt = best_model.transform(ml_df)\n",
        "predictions_dt.show(5)"
      ]
    },
    {
      "cell_type": "code",
      "execution_count": null,
      "metadata": {
        "colab": {
          "base_uri": "https://localhost:8080/"
        },
        "id": "AJEDgs0gQVYO",
        "outputId": "d3a9ab7a-e15d-483a-c256-39ac4b84f6f7"
      },
      "outputs": [
        {
          "output_type": "execute_result",
          "data": {
            "text/html": [
              "\n",
              "  <div id=\"df-bfd0c6c7-deda-4de7-84cd-06e468cf1514\">\n",
              "    <div class=\"colab-df-container\">\n",
              "      <div>\n",
              "<style scoped>\n",
              "    .dataframe tbody tr th:only-of-type {\n",
              "        vertical-align: middle;\n",
              "    }\n",
              "\n",
              "    .dataframe tbody tr th {\n",
              "        vertical-align: top;\n",
              "    }\n",
              "\n",
              "    .dataframe thead th {\n",
              "        text-align: right;\n",
              "    }\n",
              "</style>\n",
              "<table border=\"1\" class=\"dataframe\">\n",
              "  <thead>\n",
              "    <tr style=\"text-align: right;\">\n",
              "      <th></th>\n",
              "      <th>UserID</th>\n",
              "      <th>ItemID</th>\n",
              "      <th>prediction</th>\n",
              "      <th>TrackID</th>\n",
              "    </tr>\n",
              "  </thead>\n",
              "  <tbody>\n",
              "    <tr>\n",
              "      <th>0</th>\n",
              "      <td>199810</td>\n",
              "      <td>208019</td>\n",
              "      <td>0.0</td>\n",
              "      <td></td>\n",
              "    </tr>\n",
              "    <tr>\n",
              "      <th>1</th>\n",
              "      <td>199810</td>\n",
              "      <td>74139</td>\n",
              "      <td>0.0</td>\n",
              "      <td></td>\n",
              "    </tr>\n",
              "    <tr>\n",
              "      <th>2</th>\n",
              "      <td>199810</td>\n",
              "      <td>9903</td>\n",
              "      <td>0.0</td>\n",
              "      <td></td>\n",
              "    </tr>\n",
              "    <tr>\n",
              "      <th>3</th>\n",
              "      <td>199810</td>\n",
              "      <td>242681</td>\n",
              "      <td>0.0</td>\n",
              "      <td></td>\n",
              "    </tr>\n",
              "    <tr>\n",
              "      <th>4</th>\n",
              "      <td>199810</td>\n",
              "      <td>18515</td>\n",
              "      <td>1.0</td>\n",
              "      <td></td>\n",
              "    </tr>\n",
              "  </tbody>\n",
              "</table>\n",
              "</div>\n",
              "      <button class=\"colab-df-convert\" onclick=\"convertToInteractive('df-bfd0c6c7-deda-4de7-84cd-06e468cf1514')\"\n",
              "              title=\"Convert this dataframe to an interactive table.\"\n",
              "              style=\"display:none;\">\n",
              "        \n",
              "  <svg xmlns=\"http://www.w3.org/2000/svg\" height=\"24px\"viewBox=\"0 0 24 24\"\n",
              "       width=\"24px\">\n",
              "    <path d=\"M0 0h24v24H0V0z\" fill=\"none\"/>\n",
              "    <path d=\"M18.56 5.44l.94 2.06.94-2.06 2.06-.94-2.06-.94-.94-2.06-.94 2.06-2.06.94zm-11 1L8.5 8.5l.94-2.06 2.06-.94-2.06-.94L8.5 2.5l-.94 2.06-2.06.94zm10 10l.94 2.06.94-2.06 2.06-.94-2.06-.94-.94-2.06-.94 2.06-2.06.94z\"/><path d=\"M17.41 7.96l-1.37-1.37c-.4-.4-.92-.59-1.43-.59-.52 0-1.04.2-1.43.59L10.3 9.45l-7.72 7.72c-.78.78-.78 2.05 0 2.83L4 21.41c.39.39.9.59 1.41.59.51 0 1.02-.2 1.41-.59l7.78-7.78 2.81-2.81c.8-.78.8-2.07 0-2.86zM5.41 20L4 18.59l7.72-7.72 1.47 1.35L5.41 20z\"/>\n",
              "  </svg>\n",
              "      </button>\n",
              "      \n",
              "  <style>\n",
              "    .colab-df-container {\n",
              "      display:flex;\n",
              "      flex-wrap:wrap;\n",
              "      gap: 12px;\n",
              "    }\n",
              "\n",
              "    .colab-df-convert {\n",
              "      background-color: #E8F0FE;\n",
              "      border: none;\n",
              "      border-radius: 50%;\n",
              "      cursor: pointer;\n",
              "      display: none;\n",
              "      fill: #1967D2;\n",
              "      height: 32px;\n",
              "      padding: 0 0 0 0;\n",
              "      width: 32px;\n",
              "    }\n",
              "\n",
              "    .colab-df-convert:hover {\n",
              "      background-color: #E2EBFA;\n",
              "      box-shadow: 0px 1px 2px rgba(60, 64, 67, 0.3), 0px 1px 3px 1px rgba(60, 64, 67, 0.15);\n",
              "      fill: #174EA6;\n",
              "    }\n",
              "\n",
              "    [theme=dark] .colab-df-convert {\n",
              "      background-color: #3B4455;\n",
              "      fill: #D2E3FC;\n",
              "    }\n",
              "\n",
              "    [theme=dark] .colab-df-convert:hover {\n",
              "      background-color: #434B5C;\n",
              "      box-shadow: 0px 1px 3px 1px rgba(0, 0, 0, 0.15);\n",
              "      filter: drop-shadow(0px 1px 2px rgba(0, 0, 0, 0.3));\n",
              "      fill: #FFFFFF;\n",
              "    }\n",
              "  </style>\n",
              "\n",
              "      <script>\n",
              "        const buttonEl =\n",
              "          document.querySelector('#df-bfd0c6c7-deda-4de7-84cd-06e468cf1514 button.colab-df-convert');\n",
              "        buttonEl.style.display =\n",
              "          google.colab.kernel.accessAllowed ? 'block' : 'none';\n",
              "\n",
              "        async function convertToInteractive(key) {\n",
              "          const element = document.querySelector('#df-bfd0c6c7-deda-4de7-84cd-06e468cf1514');\n",
              "          const dataTable =\n",
              "            await google.colab.kernel.invokeFunction('convertToInteractive',\n",
              "                                                     [key], {});\n",
              "          if (!dataTable) return;\n",
              "\n",
              "          const docLinkHtml = 'Like what you see? Visit the ' +\n",
              "            '<a target=\"_blank\" href=https://colab.research.google.com/notebooks/data_table.ipynb>data table notebook</a>'\n",
              "            + ' to learn more about interactive tables.';\n",
              "          element.innerHTML = '';\n",
              "          dataTable['output_type'] = 'display_data';\n",
              "          await google.colab.output.renderOutput(dataTable, element);\n",
              "          const docLink = document.createElement('div');\n",
              "          docLink.innerHTML = docLinkHtml;\n",
              "          element.appendChild(docLink);\n",
              "        }\n",
              "      </script>\n",
              "    </div>\n",
              "  </div>\n",
              "  "
            ],
            "text/plain": [
              "   UserID  ItemID  prediction TrackID\n",
              "0  199810  208019         0.0        \n",
              "1  199810   74139         0.0        \n",
              "2  199810    9903         0.0        \n",
              "3  199810  242681         0.0        \n",
              "4  199810   18515         1.0        "
            ]
          },
          "metadata": {},
          "execution_count": 22
        }
      ],
      "source": [
        "#Switch to pandas\n",
        "dtResults = predictions_dt.select('UserID', 'ItemID', 'prediction')\n",
        "dtResults = dtResults.toPandas()\n",
        "dtResults['TrackID'] = ''\n",
        "dtResults.head()"
      ]
    },
    {
      "cell_type": "code",
      "execution_count": null,
      "metadata": {
        "colab": {
          "base_uri": "https://localhost:8080/"
        },
        "id": "2cEhihWNQaZm",
        "outputId": "41988651-653f-4377-da06-012450ef5d4d"
      },
      "outputs": [
        {
          "output_type": "stream",
          "name": "stderr",
          "text": [
            "/usr/local/lib/python3.7/dist-packages/ipykernel_launcher.py:3: SettingWithCopyWarning: \n",
            "A value is trying to be set on a copy of a slice from a DataFrame\n",
            "\n",
            "See the caveats in the documentation: https://pandas.pydata.org/pandas-docs/stable/user_guide/indexing.html#returning-a-view-versus-a-copy\n",
            "  This is separate from the ipykernel package so we can avoid doing imports until\n",
            "/usr/local/lib/python3.7/dist-packages/pandas/core/frame.py:4174: SettingWithCopyWarning: \n",
            "A value is trying to be set on a copy of a slice from a DataFrame\n",
            "\n",
            "See the caveats in the documentation: https://pandas.pydata.org/pandas-docs/stable/user_guide/indexing.html#returning-a-view-versus-a-copy\n",
            "  errors=errors,\n"
          ]
        }
      ],
      "source": [
        "#format for submission\n",
        "for i in range(len(dtResults)):\n",
        "    dtResults['TrackID'][i] = str(dtResults['UserID'][i])+'_'+str(dtResults['ItemID'][i])\n",
        "\n",
        "dtResults = dtResults[['TrackID', 'UserID', 'ItemID', 'prediction']]\n",
        "dtResults.drop(columns={'UserID', 'ItemID'}, inplace=True)\n",
        "dtResults = dtResults.rename(columns={'prediction': 'Predictor'})\n",
        "dtResults.head()\n",
        "dtResults.to_csv('decisionTree.csv', index=False)"
      ]
    },
    {
      "cell_type": "markdown",
      "metadata": {
        "id": "t__2FTurQz_8"
      },
      "source": [
        "## SVM Classifier"
      ]
    },
    {
      "cell_type": "code",
      "execution_count": null,
      "metadata": {
        "colab": {
          "base_uri": "https://localhost:8080/"
        },
        "id": "pav6ZWKwQ2d2",
        "outputId": "f5afc44e-8dbc-46b3-9c14-46746f3020cf"
      },
      "outputs": [
        {
          "output_type": "stream",
          "name": "stdout",
          "text": [
            "+-----------+------+------+-------+-------+---------+--------------------+----------+\n",
            "|   features|UserID|ItemID|Rating1|Rating2|Predictor|       rawPrediction|prediction|\n",
            "+-----------+------+------+-------+-------+---------+--------------------+----------+\n",
            "|[90.0,50.0]|200031| 30877|   90.0|   50.0|        1|[-1.1301141884347...|       1.0|\n",
            "| [90.0,0.0]|200031|  8244|   90.0|    0.0|        1|[-0.1599416934524...|       1.0|\n",
            "|  (2,[],[])|200031|130183|    0.0|    0.0|        0|[1.00008112737597...|       0.0|\n",
            "|  (2,[],[])|200031|198762|    0.0|    0.0|        0|[1.00008112737597...|       0.0|\n",
            "|[90.0,50.0]|200031| 34503|   90.0|   50.0|        1|[-1.1301141884347...|       1.0|\n",
            "+-----------+------+------+-------+-------+---------+--------------------+----------+\n",
            "only showing top 5 rows\n",
            "\n"
          ]
        }
      ],
      "source": [
        "from pyspark.ml.classification import LinearSVC\n",
        "\n",
        "lsvc = LinearSVC(labelCol = 'Predictor',maxIter=10, regParam=0.1)\n",
        "lsvcModel = lsvc.fit(df)\n",
        "predictions_lsvc = lsvcModel.transform(df)\n",
        "predictions_lsvc.show(5)"
      ]
    },
    {
      "cell_type": "code",
      "execution_count": null,
      "metadata": {
        "colab": {
          "base_uri": "https://localhost:8080/"
        },
        "id": "y_6T5_oqVewC",
        "outputId": "f265d3cc-4ed0-4b82-f0c7-0ad1b6bf40f8"
      },
      "outputs": [
        {
          "output_type": "stream",
          "name": "stdout",
          "text": [
            "Num models to be tested:  20\n",
            "**Best Model from Training**\n",
            "  MaxIter: 7\n",
            "  RegParam: 0.05\n",
            "  Accuracy: 0.8530000000000001\n"
          ]
        }
      ],
      "source": [
        "# Grid search for best params\n",
        "param_grid = ParamGridBuilder() \\\n",
        "            .addGrid(lsvc.regParam, [.01,.05,.1,.15,.2]) \\\n",
        "            .addGrid(lsvc.maxIter, [2,5,7,10]) \\\n",
        "            .build()\n",
        "\n",
        "from pyspark.ml.evaluation import BinaryClassificationEvaluator\n",
        "from pyspark.mllib.evaluation import BinaryClassificationMetrics             \n",
        "# Define evaluation metric: RMSE\n",
        "evaluator = BinaryClassificationEvaluator(labelCol='Predictor',rawPredictionCol=\"prediction\")\n",
        "print (\"Num models to be tested: \", len(param_grid))\n",
        "\n",
        "# Build cross validation using CrossValidator\n",
        "cv = CrossValidator(estimator=lsvc, estimatorParamMaps=param_grid, evaluator=evaluator, numFolds=4)\n",
        "\n",
        "#Fit cross validator to the 'train' dataset\n",
        "model = cv.fit(df)\n",
        "\n",
        "#Extract best model from the cv model above and get training predictions\n",
        "best_model = model.bestModel\n",
        "train_output = best_model.transform(df)\n",
        "train_accuracy = evaluator.evaluate(train_output)\n",
        "\n",
        "# Print the best parameters and rmse\n",
        "print(\"**Best Model from Training**\")\n",
        "print(\"  MaxIter:\", best_model._java_obj.parent().getMaxIter())\n",
        "print(\"  RegParam:\", best_model._java_obj.parent().getRegParam())\n",
        "print(\"  Accuracy:\", train_accuracy)"
      ]
    },
    {
      "cell_type": "code",
      "execution_count": null,
      "metadata": {
        "colab": {
          "base_uri": "https://localhost:8080/"
        },
        "id": "fvI6m94JTk7x",
        "outputId": "bd15feef-6497-460a-ac6c-dd5a26d4e930"
      },
      "outputs": [
        {
          "output_type": "stream",
          "name": "stdout",
          "text": [
            "+----------+------+------+-------+-------+--------------------+----------+\n",
            "|  features|UserID|ItemID|Rating1|Rating2|       rawPrediction|prediction|\n",
            "+----------+------+------+-------+-------+--------------------+----------+\n",
            "| (2,[],[])|199810|208019|    0.0|    0.0|[0.97015197750719...|       0.0|\n",
            "| (2,[],[])|199810| 74139|    0.0|    0.0|[0.97015197750719...|       0.0|\n",
            "| (2,[],[])|199810|  9903|    0.0|    0.0|[0.97015197750719...|       0.0|\n",
            "| (2,[],[])|199810|242681|    0.0|    0.0|[0.97015197750719...|       0.0|\n",
            "|[0.0,70.0]|199810| 18515|    0.0|   70.0|[-0.5692418334227...|       1.0|\n",
            "+----------+------+------+-------+-------+--------------------+----------+\n",
            "only showing top 5 rows\n",
            "\n"
          ]
        }
      ],
      "source": [
        "#Do on ML dataset now\n",
        "predictions_svm = best_model.transform(ml_df)\n",
        "predictions_svm.show(5)"
      ]
    },
    {
      "cell_type": "code",
      "execution_count": null,
      "metadata": {
        "colab": {
          "base_uri": "https://localhost:8080/"
        },
        "id": "V4YA7JwTTIdS",
        "outputId": "358392a0-f478-4ffa-ec85-2780f8f8d7f6"
      },
      "outputs": [
        {
          "output_type": "stream",
          "name": "stdout",
          "text": [
            "Test Area Under ROC: 0.8726736111111111\n"
          ]
        }
      ],
      "source": [
        "from pyspark.ml.evaluation import BinaryClassificationEvaluator\n",
        "\n",
        "evaluator = BinaryClassificationEvaluator(labelCol='Predictor')\n",
        "print(\"Test Area Under ROC: \" + str(evaluator.evaluate(predictions_lsvc)))"
      ]
    },
    {
      "cell_type": "code",
      "execution_count": null,
      "metadata": {
        "colab": {
          "base_uri": "https://localhost:8080/"
        },
        "id": "0yLEcwCkRGqV",
        "outputId": "38ddf245-41df-45ec-d569-f1a74818adba"
      },
      "outputs": [
        {
          "output_type": "execute_result",
          "data": {
            "text/html": [
              "\n",
              "  <div id=\"df-3e4413cb-dda2-4ae2-9da7-c077b116c1d7\">\n",
              "    <div class=\"colab-df-container\">\n",
              "      <div>\n",
              "<style scoped>\n",
              "    .dataframe tbody tr th:only-of-type {\n",
              "        vertical-align: middle;\n",
              "    }\n",
              "\n",
              "    .dataframe tbody tr th {\n",
              "        vertical-align: top;\n",
              "    }\n",
              "\n",
              "    .dataframe thead th {\n",
              "        text-align: right;\n",
              "    }\n",
              "</style>\n",
              "<table border=\"1\" class=\"dataframe\">\n",
              "  <thead>\n",
              "    <tr style=\"text-align: right;\">\n",
              "      <th></th>\n",
              "      <th>UserID</th>\n",
              "      <th>ItemID</th>\n",
              "      <th>prediction</th>\n",
              "      <th>TrackID</th>\n",
              "    </tr>\n",
              "  </thead>\n",
              "  <tbody>\n",
              "    <tr>\n",
              "      <th>0</th>\n",
              "      <td>199810</td>\n",
              "      <td>208019</td>\n",
              "      <td>0.0</td>\n",
              "      <td></td>\n",
              "    </tr>\n",
              "    <tr>\n",
              "      <th>1</th>\n",
              "      <td>199810</td>\n",
              "      <td>74139</td>\n",
              "      <td>0.0</td>\n",
              "      <td></td>\n",
              "    </tr>\n",
              "    <tr>\n",
              "      <th>2</th>\n",
              "      <td>199810</td>\n",
              "      <td>9903</td>\n",
              "      <td>0.0</td>\n",
              "      <td></td>\n",
              "    </tr>\n",
              "    <tr>\n",
              "      <th>3</th>\n",
              "      <td>199810</td>\n",
              "      <td>242681</td>\n",
              "      <td>0.0</td>\n",
              "      <td></td>\n",
              "    </tr>\n",
              "    <tr>\n",
              "      <th>4</th>\n",
              "      <td>199810</td>\n",
              "      <td>18515</td>\n",
              "      <td>1.0</td>\n",
              "      <td></td>\n",
              "    </tr>\n",
              "  </tbody>\n",
              "</table>\n",
              "</div>\n",
              "      <button class=\"colab-df-convert\" onclick=\"convertToInteractive('df-3e4413cb-dda2-4ae2-9da7-c077b116c1d7')\"\n",
              "              title=\"Convert this dataframe to an interactive table.\"\n",
              "              style=\"display:none;\">\n",
              "        \n",
              "  <svg xmlns=\"http://www.w3.org/2000/svg\" height=\"24px\"viewBox=\"0 0 24 24\"\n",
              "       width=\"24px\">\n",
              "    <path d=\"M0 0h24v24H0V0z\" fill=\"none\"/>\n",
              "    <path d=\"M18.56 5.44l.94 2.06.94-2.06 2.06-.94-2.06-.94-.94-2.06-.94 2.06-2.06.94zm-11 1L8.5 8.5l.94-2.06 2.06-.94-2.06-.94L8.5 2.5l-.94 2.06-2.06.94zm10 10l.94 2.06.94-2.06 2.06-.94-2.06-.94-.94-2.06-.94 2.06-2.06.94z\"/><path d=\"M17.41 7.96l-1.37-1.37c-.4-.4-.92-.59-1.43-.59-.52 0-1.04.2-1.43.59L10.3 9.45l-7.72 7.72c-.78.78-.78 2.05 0 2.83L4 21.41c.39.39.9.59 1.41.59.51 0 1.02-.2 1.41-.59l7.78-7.78 2.81-2.81c.8-.78.8-2.07 0-2.86zM5.41 20L4 18.59l7.72-7.72 1.47 1.35L5.41 20z\"/>\n",
              "  </svg>\n",
              "      </button>\n",
              "      \n",
              "  <style>\n",
              "    .colab-df-container {\n",
              "      display:flex;\n",
              "      flex-wrap:wrap;\n",
              "      gap: 12px;\n",
              "    }\n",
              "\n",
              "    .colab-df-convert {\n",
              "      background-color: #E8F0FE;\n",
              "      border: none;\n",
              "      border-radius: 50%;\n",
              "      cursor: pointer;\n",
              "      display: none;\n",
              "      fill: #1967D2;\n",
              "      height: 32px;\n",
              "      padding: 0 0 0 0;\n",
              "      width: 32px;\n",
              "    }\n",
              "\n",
              "    .colab-df-convert:hover {\n",
              "      background-color: #E2EBFA;\n",
              "      box-shadow: 0px 1px 2px rgba(60, 64, 67, 0.3), 0px 1px 3px 1px rgba(60, 64, 67, 0.15);\n",
              "      fill: #174EA6;\n",
              "    }\n",
              "\n",
              "    [theme=dark] .colab-df-convert {\n",
              "      background-color: #3B4455;\n",
              "      fill: #D2E3FC;\n",
              "    }\n",
              "\n",
              "    [theme=dark] .colab-df-convert:hover {\n",
              "      background-color: #434B5C;\n",
              "      box-shadow: 0px 1px 3px 1px rgba(0, 0, 0, 0.15);\n",
              "      filter: drop-shadow(0px 1px 2px rgba(0, 0, 0, 0.3));\n",
              "      fill: #FFFFFF;\n",
              "    }\n",
              "  </style>\n",
              "\n",
              "      <script>\n",
              "        const buttonEl =\n",
              "          document.querySelector('#df-3e4413cb-dda2-4ae2-9da7-c077b116c1d7 button.colab-df-convert');\n",
              "        buttonEl.style.display =\n",
              "          google.colab.kernel.accessAllowed ? 'block' : 'none';\n",
              "\n",
              "        async function convertToInteractive(key) {\n",
              "          const element = document.querySelector('#df-3e4413cb-dda2-4ae2-9da7-c077b116c1d7');\n",
              "          const dataTable =\n",
              "            await google.colab.kernel.invokeFunction('convertToInteractive',\n",
              "                                                     [key], {});\n",
              "          if (!dataTable) return;\n",
              "\n",
              "          const docLinkHtml = 'Like what you see? Visit the ' +\n",
              "            '<a target=\"_blank\" href=https://colab.research.google.com/notebooks/data_table.ipynb>data table notebook</a>'\n",
              "            + ' to learn more about interactive tables.';\n",
              "          element.innerHTML = '';\n",
              "          dataTable['output_type'] = 'display_data';\n",
              "          await google.colab.output.renderOutput(dataTable, element);\n",
              "          const docLink = document.createElement('div');\n",
              "          docLink.innerHTML = docLinkHtml;\n",
              "          element.appendChild(docLink);\n",
              "        }\n",
              "      </script>\n",
              "    </div>\n",
              "  </div>\n",
              "  "
            ],
            "text/plain": [
              "   UserID  ItemID  prediction TrackID\n",
              "0  199810  208019         0.0        \n",
              "1  199810   74139         0.0        \n",
              "2  199810    9903         0.0        \n",
              "3  199810  242681         0.0        \n",
              "4  199810   18515         1.0        "
            ]
          },
          "metadata": {},
          "execution_count": 28
        }
      ],
      "source": [
        "#Switch to pandas\n",
        "lsvcResults = predictions_svm.select('UserID', 'ItemID', 'prediction')\n",
        "lsvcResults = lsvcResults.toPandas()\n",
        "lsvcResults['TrackID'] = ''\n",
        "lsvcResults.head()"
      ]
    },
    {
      "cell_type": "code",
      "execution_count": null,
      "metadata": {
        "colab": {
          "base_uri": "https://localhost:8080/"
        },
        "id": "rKZeX89FRcBs",
        "outputId": "3bce9579-f600-4f74-9145-e53b410122a1"
      },
      "outputs": [
        {
          "output_type": "stream",
          "name": "stderr",
          "text": [
            "/usr/local/lib/python3.7/dist-packages/ipykernel_launcher.py:3: SettingWithCopyWarning: \n",
            "A value is trying to be set on a copy of a slice from a DataFrame\n",
            "\n",
            "See the caveats in the documentation: https://pandas.pydata.org/pandas-docs/stable/user_guide/indexing.html#returning-a-view-versus-a-copy\n",
            "  This is separate from the ipykernel package so we can avoid doing imports until\n",
            "/usr/local/lib/python3.7/dist-packages/pandas/core/frame.py:4174: SettingWithCopyWarning: \n",
            "A value is trying to be set on a copy of a slice from a DataFrame\n",
            "\n",
            "See the caveats in the documentation: https://pandas.pydata.org/pandas-docs/stable/user_guide/indexing.html#returning-a-view-versus-a-copy\n",
            "  errors=errors,\n"
          ]
        }
      ],
      "source": [
        "#format for submission\n",
        "for i in range(len(lsvcResults)):\n",
        "    lsvcResults['TrackID'][i] = str(lsvcResults['UserID'][i])+'_'+str(lsvcResults['ItemID'][i])\n",
        "\n",
        "lsvcResults = lsvcResults[['TrackID', 'UserID', 'ItemID', 'prediction']]\n",
        "lsvcResults.drop(columns={'UserID', 'ItemID'}, inplace=True)\n",
        "lsvcResults = lsvcResults.rename(columns={'prediction': 'Predictor'})\n",
        "lsvcResults.head()\n",
        "lsvcResults.to_csv('lsvc.csv', index=False)"
      ]
    },
    {
      "cell_type": "markdown",
      "metadata": {
        "id": "hAgENEYdSfhR"
      },
      "source": [
        "## Logistic Regression"
      ]
    },
    {
      "cell_type": "code",
      "execution_count": null,
      "metadata": {
        "colab": {
          "base_uri": "https://localhost:8080/"
        },
        "id": "Z6v6B6C2SjJB",
        "outputId": "853a7553-7072-42c6-c05c-78aba1fe9af1"
      },
      "outputs": [
        {
          "output_type": "stream",
          "name": "stdout",
          "text": [
            "+-----------+------+------+-------+-------+---------+--------------------+--------------------+----------+\n",
            "|   features|UserID|ItemID|Rating1|Rating2|Predictor|       rawPrediction|         probability|prediction|\n",
            "+-----------+------+------+-------+-------+---------+--------------------+--------------------+----------+\n",
            "|[90.0,50.0]|200031| 30877|   90.0|   50.0|        1|[-4.6445020897207...|[0.00952276070842...|       1.0|\n",
            "| [90.0,0.0]|200031|  8244|   90.0|    0.0|        1|[-3.0228713032312...|[0.04640325376362...|       1.0|\n",
            "|  (2,[],[])|200031|130183|    0.0|    0.0|        0|[1.42417015136285...|[0.80599133227115...|       0.0|\n",
            "|  (2,[],[])|200031|198762|    0.0|    0.0|        0|[1.42417015136285...|[0.80599133227115...|       0.0|\n",
            "|[90.0,50.0]|200031| 34503|   90.0|   50.0|        1|[-4.6445020897207...|[0.00952276070842...|       1.0|\n",
            "+-----------+------+------+-------+-------+---------+--------------------+--------------------+----------+\n",
            "only showing top 5 rows\n",
            "\n"
          ]
        }
      ],
      "source": [
        "from pyspark.ml.classification import LogisticRegression\n",
        "\n",
        "lr = LogisticRegression(featuresCol ='features', labelCol = 'Predictor', maxIter=10)\n",
        "lrmodel = lr.fit(df)\n",
        "predictions_lr = lrmodel.transform(df)\n",
        "predictions_lr.show(5)"
      ]
    },
    {
      "cell_type": "code",
      "execution_count": null,
      "metadata": {
        "colab": {
          "base_uri": "https://localhost:8080/"
        },
        "id": "Rmwjr50aS48C",
        "outputId": "611bea27-9287-4a66-9db2-db468eb4fb83"
      },
      "outputs": [
        {
          "output_type": "stream",
          "name": "stdout",
          "text": [
            "Test Area Under ROC: 0.8749316111111111\n"
          ]
        }
      ],
      "source": [
        "evaluator = BinaryClassificationEvaluator(labelCol = 'Predictor')\n",
        "print(\"Test Area Under ROC: \" + str(evaluator.evaluate(predictions_lr)))"
      ]
    },
    {
      "cell_type": "code",
      "execution_count": null,
      "metadata": {
        "colab": {
          "base_uri": "https://localhost:8080/"
        },
        "id": "TRWvr0d1Uaf1",
        "outputId": "404fc6c6-2c60-4fb2-ff84-561472cc54a1"
      },
      "outputs": [
        {
          "output_type": "stream",
          "name": "stdout",
          "text": [
            "Test Area Under ROC 0.8747172777777777\n"
          ]
        }
      ],
      "source": [
        "from pyspark.ml.tuning import ParamGridBuilder, CrossValidator\n",
        "\n",
        "paramGrid = (ParamGridBuilder()\n",
        "             .addGrid(lr.regParam, [0.01, 0.1, 0.3, 0.5])\n",
        "             .addGrid(lr.elasticNetParam, [0.0, 0.3, 0.5, 1.0])\n",
        "             .addGrid(lr.maxIter, [1, 5, 10, 15])\n",
        "             .build())\n",
        "\n",
        "cv = CrossValidator(estimator=lr, estimatorParamMaps=paramGrid, evaluator=evaluator, numFolds=5)\n",
        "\n",
        "cvModel = cv.fit(df)\n",
        "predictions_lrTuned = cvModel.transform(df)\n",
        "print('Test Area Under ROC', evaluator.evaluate(predictions_lrTuned))"
      ]
    },
    {
      "cell_type": "code",
      "execution_count": null,
      "metadata": {
        "colab": {
          "base_uri": "https://localhost:8080/"
        },
        "id": "g4gxEH0pSrgh",
        "outputId": "06f88a82-8e07-4014-bde6-483e094adb57"
      },
      "outputs": [
        {
          "output_type": "execute_result",
          "data": {
            "text/html": [
              "\n",
              "  <div id=\"df-c5e6c4c8-47d8-47da-bc44-d70d090792aa\">\n",
              "    <div class=\"colab-df-container\">\n",
              "      <div>\n",
              "<style scoped>\n",
              "    .dataframe tbody tr th:only-of-type {\n",
              "        vertical-align: middle;\n",
              "    }\n",
              "\n",
              "    .dataframe tbody tr th {\n",
              "        vertical-align: top;\n",
              "    }\n",
              "\n",
              "    .dataframe thead th {\n",
              "        text-align: right;\n",
              "    }\n",
              "</style>\n",
              "<table border=\"1\" class=\"dataframe\">\n",
              "  <thead>\n",
              "    <tr style=\"text-align: right;\">\n",
              "      <th></th>\n",
              "      <th>UserID</th>\n",
              "      <th>ItemID</th>\n",
              "      <th>prediction</th>\n",
              "      <th>TrackID</th>\n",
              "    </tr>\n",
              "  </thead>\n",
              "  <tbody>\n",
              "    <tr>\n",
              "      <th>0</th>\n",
              "      <td>199810</td>\n",
              "      <td>208019</td>\n",
              "      <td>0.0</td>\n",
              "      <td></td>\n",
              "    </tr>\n",
              "    <tr>\n",
              "      <th>1</th>\n",
              "      <td>199810</td>\n",
              "      <td>74139</td>\n",
              "      <td>0.0</td>\n",
              "      <td></td>\n",
              "    </tr>\n",
              "    <tr>\n",
              "      <th>2</th>\n",
              "      <td>199810</td>\n",
              "      <td>9903</td>\n",
              "      <td>0.0</td>\n",
              "      <td></td>\n",
              "    </tr>\n",
              "    <tr>\n",
              "      <th>3</th>\n",
              "      <td>199810</td>\n",
              "      <td>242681</td>\n",
              "      <td>0.0</td>\n",
              "      <td></td>\n",
              "    </tr>\n",
              "    <tr>\n",
              "      <th>4</th>\n",
              "      <td>199810</td>\n",
              "      <td>18515</td>\n",
              "      <td>1.0</td>\n",
              "      <td></td>\n",
              "    </tr>\n",
              "  </tbody>\n",
              "</table>\n",
              "</div>\n",
              "      <button class=\"colab-df-convert\" onclick=\"convertToInteractive('df-c5e6c4c8-47d8-47da-bc44-d70d090792aa')\"\n",
              "              title=\"Convert this dataframe to an interactive table.\"\n",
              "              style=\"display:none;\">\n",
              "        \n",
              "  <svg xmlns=\"http://www.w3.org/2000/svg\" height=\"24px\"viewBox=\"0 0 24 24\"\n",
              "       width=\"24px\">\n",
              "    <path d=\"M0 0h24v24H0V0z\" fill=\"none\"/>\n",
              "    <path d=\"M18.56 5.44l.94 2.06.94-2.06 2.06-.94-2.06-.94-.94-2.06-.94 2.06-2.06.94zm-11 1L8.5 8.5l.94-2.06 2.06-.94-2.06-.94L8.5 2.5l-.94 2.06-2.06.94zm10 10l.94 2.06.94-2.06 2.06-.94-2.06-.94-.94-2.06-.94 2.06-2.06.94z\"/><path d=\"M17.41 7.96l-1.37-1.37c-.4-.4-.92-.59-1.43-.59-.52 0-1.04.2-1.43.59L10.3 9.45l-7.72 7.72c-.78.78-.78 2.05 0 2.83L4 21.41c.39.39.9.59 1.41.59.51 0 1.02-.2 1.41-.59l7.78-7.78 2.81-2.81c.8-.78.8-2.07 0-2.86zM5.41 20L4 18.59l7.72-7.72 1.47 1.35L5.41 20z\"/>\n",
              "  </svg>\n",
              "      </button>\n",
              "      \n",
              "  <style>\n",
              "    .colab-df-container {\n",
              "      display:flex;\n",
              "      flex-wrap:wrap;\n",
              "      gap: 12px;\n",
              "    }\n",
              "\n",
              "    .colab-df-convert {\n",
              "      background-color: #E8F0FE;\n",
              "      border: none;\n",
              "      border-radius: 50%;\n",
              "      cursor: pointer;\n",
              "      display: none;\n",
              "      fill: #1967D2;\n",
              "      height: 32px;\n",
              "      padding: 0 0 0 0;\n",
              "      width: 32px;\n",
              "    }\n",
              "\n",
              "    .colab-df-convert:hover {\n",
              "      background-color: #E2EBFA;\n",
              "      box-shadow: 0px 1px 2px rgba(60, 64, 67, 0.3), 0px 1px 3px 1px rgba(60, 64, 67, 0.15);\n",
              "      fill: #174EA6;\n",
              "    }\n",
              "\n",
              "    [theme=dark] .colab-df-convert {\n",
              "      background-color: #3B4455;\n",
              "      fill: #D2E3FC;\n",
              "    }\n",
              "\n",
              "    [theme=dark] .colab-df-convert:hover {\n",
              "      background-color: #434B5C;\n",
              "      box-shadow: 0px 1px 3px 1px rgba(0, 0, 0, 0.15);\n",
              "      filter: drop-shadow(0px 1px 2px rgba(0, 0, 0, 0.3));\n",
              "      fill: #FFFFFF;\n",
              "    }\n",
              "  </style>\n",
              "\n",
              "      <script>\n",
              "        const buttonEl =\n",
              "          document.querySelector('#df-c5e6c4c8-47d8-47da-bc44-d70d090792aa button.colab-df-convert');\n",
              "        buttonEl.style.display =\n",
              "          google.colab.kernel.accessAllowed ? 'block' : 'none';\n",
              "\n",
              "        async function convertToInteractive(key) {\n",
              "          const element = document.querySelector('#df-c5e6c4c8-47d8-47da-bc44-d70d090792aa');\n",
              "          const dataTable =\n",
              "            await google.colab.kernel.invokeFunction('convertToInteractive',\n",
              "                                                     [key], {});\n",
              "          if (!dataTable) return;\n",
              "\n",
              "          const docLinkHtml = 'Like what you see? Visit the ' +\n",
              "            '<a target=\"_blank\" href=https://colab.research.google.com/notebooks/data_table.ipynb>data table notebook</a>'\n",
              "            + ' to learn more about interactive tables.';\n",
              "          element.innerHTML = '';\n",
              "          dataTable['output_type'] = 'display_data';\n",
              "          await google.colab.output.renderOutput(dataTable, element);\n",
              "          const docLink = document.createElement('div');\n",
              "          docLink.innerHTML = docLinkHtml;\n",
              "          element.appendChild(docLink);\n",
              "        }\n",
              "      </script>\n",
              "    </div>\n",
              "  </div>\n",
              "  "
            ],
            "text/plain": [
              "   UserID  ItemID  prediction TrackID\n",
              "0  199810  208019         0.0        \n",
              "1  199810   74139         0.0        \n",
              "2  199810    9903         0.0        \n",
              "3  199810  242681         0.0        \n",
              "4  199810   18515         1.0        "
            ]
          },
          "metadata": {},
          "execution_count": 33
        }
      ],
      "source": [
        "#Switch to pandas\n",
        "predictions_lrTuned = cvModel.transform(ml_df)\n",
        "lrResults = predictions_lrTuned.select('UserID', 'ItemID', 'prediction')\n",
        "lrResults = lrResults.toPandas()\n",
        "lrResults['TrackID'] = ''\n",
        "lrResults.head()"
      ]
    },
    {
      "cell_type": "code",
      "execution_count": null,
      "metadata": {
        "colab": {
          "base_uri": "https://localhost:8080/"
        },
        "id": "uMDwSkG6Sypa",
        "outputId": "da2c1ef1-dfde-4d2c-adfa-31eb26d1a7a9"
      },
      "outputs": [
        {
          "output_type": "stream",
          "name": "stderr",
          "text": [
            "/usr/local/lib/python3.7/dist-packages/ipykernel_launcher.py:3: SettingWithCopyWarning: \n",
            "A value is trying to be set on a copy of a slice from a DataFrame\n",
            "\n",
            "See the caveats in the documentation: https://pandas.pydata.org/pandas-docs/stable/user_guide/indexing.html#returning-a-view-versus-a-copy\n",
            "  This is separate from the ipykernel package so we can avoid doing imports until\n",
            "/usr/local/lib/python3.7/dist-packages/pandas/core/frame.py:4174: SettingWithCopyWarning: \n",
            "A value is trying to be set on a copy of a slice from a DataFrame\n",
            "\n",
            "See the caveats in the documentation: https://pandas.pydata.org/pandas-docs/stable/user_guide/indexing.html#returning-a-view-versus-a-copy\n",
            "  errors=errors,\n"
          ]
        }
      ],
      "source": [
        "#format for submission\n",
        "for i in range(len(lrResults)):\n",
        "    lrResults['TrackID'][i] = str(lrResults['UserID'][i])+'_'+str(lrResults['ItemID'][i])\n",
        "\n",
        "lrResults = lrResults[['TrackID', 'UserID', 'ItemID', 'prediction']]\n",
        "lrResults.drop(columns={'UserID', 'ItemID'}, inplace=True)\n",
        "lrResults = lrResults.rename(columns={'prediction': 'Predictor'})\n",
        "lrResults.head()\n",
        "lrResults.to_csv('logisticRegression.csv', index=False)"
      ]
    },
    {
      "cell_type": "markdown",
      "metadata": {
        "id": "iRDFFJJIXV1M"
      },
      "source": [
        "## Gradient Boosted Tree Clasifier"
      ]
    },
    {
      "cell_type": "code",
      "execution_count": null,
      "metadata": {
        "colab": {
          "base_uri": "https://localhost:8080/"
        },
        "id": "TFWqV_edXcOi",
        "outputId": "fc685af8-1092-4a08-c60f-fc365ef9381e"
      },
      "outputs": [
        {
          "output_type": "stream",
          "name": "stdout",
          "text": [
            "+-----------+------+------+-------+-------+---------+--------------------+--------------------+----------+\n",
            "|   features|UserID|ItemID|Rating1|Rating2|Predictor|       rawPrediction|         probability|prediction|\n",
            "+-----------+------+------+-------+-------+---------+--------------------+--------------------+----------+\n",
            "|[90.0,50.0]|200031| 30877|   90.0|   50.0|        1|[-1.3258100058733...|[0.06588923111810...|       1.0|\n",
            "| [90.0,0.0]|200031|  8244|   90.0|    0.0|        1|[-1.3258100058733...|[0.06588923111810...|       1.0|\n",
            "|  (2,[],[])|200031|130183|    0.0|    0.0|        0|[0.69621496476798...|[0.80097988422856...|       0.0|\n",
            "|  (2,[],[])|200031|198762|    0.0|    0.0|        0|[0.69621496476798...|[0.80097988422856...|       0.0|\n",
            "|[90.0,50.0]|200031| 34503|   90.0|   50.0|        1|[-1.3258100058733...|[0.06588923111810...|       1.0|\n",
            "+-----------+------+------+-------+-------+---------+--------------------+--------------------+----------+\n",
            "only showing top 5 rows\n",
            "\n"
          ]
        }
      ],
      "source": [
        "from pyspark.ml.classification import GBTClassifier\n",
        "\n",
        "gbt = GBTClassifier(featuresCol = 'features', labelCol = 'Predictor', maxIter=10)\n",
        "gbtmodel = gbt.fit(df)\n",
        "predictions_gbt = gbtmodel.transform(df)\n",
        "predictions_gbt.show(5)"
      ]
    },
    {
      "cell_type": "code",
      "execution_count": null,
      "metadata": {
        "colab": {
          "base_uri": "https://localhost:8080/"
        },
        "id": "htt3xHwWZBVp",
        "outputId": "0f4462ed-a12e-4d17-f3a1-5a51edb384e5"
      },
      "outputs": [
        {
          "output_type": "stream",
          "name": "stdout",
          "text": [
            "Num models to be tested:  64\n",
            "**Best Model from Training**\n",
            "  MaxIter: 2\n",
            "  MaxBins: 4\n",
            "  MaxDepth: 3\n",
            "  Accuracy: 0.854\n"
          ]
        }
      ],
      "source": [
        "# Grid search for best params\n",
        "param_grid = ParamGridBuilder() \\\n",
        "            .addGrid(gbt.maxDepth, [3,5,7,9]) \\\n",
        "            .addGrid(gbt.maxIter, [2,5,7,10]) \\\n",
        "            .addGrid(gbt.maxBins, [4,6,8,10]) \\\n",
        "            .build()\n",
        "\n",
        "from pyspark.ml.evaluation import BinaryClassificationEvaluator\n",
        "from pyspark.mllib.evaluation import BinaryClassificationMetrics             \n",
        "# Define evaluation metric: RMSE\n",
        "evaluator = BinaryClassificationEvaluator(labelCol='Predictor',rawPredictionCol=\"prediction\")\n",
        "print (\"Num models to be tested: \", len(param_grid))\n",
        "\n",
        "# Build cross validation using CrossValidator\n",
        "cv = CrossValidator(estimator=gbt, estimatorParamMaps=param_grid, evaluator=evaluator, numFolds=4)\n",
        "\n",
        "#Fit cross validator to the 'train' dataset\n",
        "model = cv.fit(df)\n",
        "\n",
        "#Extract best model from the cv model above and get training predictions\n",
        "best_model = model.bestModel\n",
        "train_output = best_model.transform(df)\n",
        "train_accuracy = evaluator.evaluate(train_output)\n",
        "\n",
        "# Print the best parameters and rmse\n",
        "print(\"**Best Model from Training**\")\n",
        "print(\"  MaxIter:\", best_model._java_obj.parent().getMaxIter())\n",
        "print(\"  MaxBins:\", best_model._java_obj.parent().getMaxBins())\n",
        "print(\"  MaxDepth:\", best_model._java_obj.parent().getMaxDepth())\n",
        "print(\"  Accuracy:\", train_accuracy)"
      ]
    },
    {
      "cell_type": "code",
      "execution_count": null,
      "metadata": {
        "colab": {
          "base_uri": "https://localhost:8080/",
          "height": 206
        },
        "id": "8phPTp-wXvX6",
        "outputId": "f4d1082f-63da-4781-a07b-d35fd4145832"
      },
      "outputs": [
        {
          "output_type": "execute_result",
          "data": {
            "text/html": [
              "\n",
              "  <div id=\"df-f1a99ea7-4ca5-4005-8ff3-fca1356f20a5\">\n",
              "    <div class=\"colab-df-container\">\n",
              "      <div>\n",
              "<style scoped>\n",
              "    .dataframe tbody tr th:only-of-type {\n",
              "        vertical-align: middle;\n",
              "    }\n",
              "\n",
              "    .dataframe tbody tr th {\n",
              "        vertical-align: top;\n",
              "    }\n",
              "\n",
              "    .dataframe thead th {\n",
              "        text-align: right;\n",
              "    }\n",
              "</style>\n",
              "<table border=\"1\" class=\"dataframe\">\n",
              "  <thead>\n",
              "    <tr style=\"text-align: right;\">\n",
              "      <th></th>\n",
              "      <th>UserID</th>\n",
              "      <th>ItemID</th>\n",
              "      <th>prediction</th>\n",
              "      <th>TrackID</th>\n",
              "    </tr>\n",
              "  </thead>\n",
              "  <tbody>\n",
              "    <tr>\n",
              "      <th>0</th>\n",
              "      <td>199810</td>\n",
              "      <td>208019</td>\n",
              "      <td>0.0</td>\n",
              "      <td></td>\n",
              "    </tr>\n",
              "    <tr>\n",
              "      <th>1</th>\n",
              "      <td>199810</td>\n",
              "      <td>74139</td>\n",
              "      <td>0.0</td>\n",
              "      <td></td>\n",
              "    </tr>\n",
              "    <tr>\n",
              "      <th>2</th>\n",
              "      <td>199810</td>\n",
              "      <td>9903</td>\n",
              "      <td>0.0</td>\n",
              "      <td></td>\n",
              "    </tr>\n",
              "    <tr>\n",
              "      <th>3</th>\n",
              "      <td>199810</td>\n",
              "      <td>242681</td>\n",
              "      <td>0.0</td>\n",
              "      <td></td>\n",
              "    </tr>\n",
              "    <tr>\n",
              "      <th>4</th>\n",
              "      <td>199810</td>\n",
              "      <td>18515</td>\n",
              "      <td>1.0</td>\n",
              "      <td></td>\n",
              "    </tr>\n",
              "  </tbody>\n",
              "</table>\n",
              "</div>\n",
              "      <button class=\"colab-df-convert\" onclick=\"convertToInteractive('df-f1a99ea7-4ca5-4005-8ff3-fca1356f20a5')\"\n",
              "              title=\"Convert this dataframe to an interactive table.\"\n",
              "              style=\"display:none;\">\n",
              "        \n",
              "  <svg xmlns=\"http://www.w3.org/2000/svg\" height=\"24px\"viewBox=\"0 0 24 24\"\n",
              "       width=\"24px\">\n",
              "    <path d=\"M0 0h24v24H0V0z\" fill=\"none\"/>\n",
              "    <path d=\"M18.56 5.44l.94 2.06.94-2.06 2.06-.94-2.06-.94-.94-2.06-.94 2.06-2.06.94zm-11 1L8.5 8.5l.94-2.06 2.06-.94-2.06-.94L8.5 2.5l-.94 2.06-2.06.94zm10 10l.94 2.06.94-2.06 2.06-.94-2.06-.94-.94-2.06-.94 2.06-2.06.94z\"/><path d=\"M17.41 7.96l-1.37-1.37c-.4-.4-.92-.59-1.43-.59-.52 0-1.04.2-1.43.59L10.3 9.45l-7.72 7.72c-.78.78-.78 2.05 0 2.83L4 21.41c.39.39.9.59 1.41.59.51 0 1.02-.2 1.41-.59l7.78-7.78 2.81-2.81c.8-.78.8-2.07 0-2.86zM5.41 20L4 18.59l7.72-7.72 1.47 1.35L5.41 20z\"/>\n",
              "  </svg>\n",
              "      </button>\n",
              "      \n",
              "  <style>\n",
              "    .colab-df-container {\n",
              "      display:flex;\n",
              "      flex-wrap:wrap;\n",
              "      gap: 12px;\n",
              "    }\n",
              "\n",
              "    .colab-df-convert {\n",
              "      background-color: #E8F0FE;\n",
              "      border: none;\n",
              "      border-radius: 50%;\n",
              "      cursor: pointer;\n",
              "      display: none;\n",
              "      fill: #1967D2;\n",
              "      height: 32px;\n",
              "      padding: 0 0 0 0;\n",
              "      width: 32px;\n",
              "    }\n",
              "\n",
              "    .colab-df-convert:hover {\n",
              "      background-color: #E2EBFA;\n",
              "      box-shadow: 0px 1px 2px rgba(60, 64, 67, 0.3), 0px 1px 3px 1px rgba(60, 64, 67, 0.15);\n",
              "      fill: #174EA6;\n",
              "    }\n",
              "\n",
              "    [theme=dark] .colab-df-convert {\n",
              "      background-color: #3B4455;\n",
              "      fill: #D2E3FC;\n",
              "    }\n",
              "\n",
              "    [theme=dark] .colab-df-convert:hover {\n",
              "      background-color: #434B5C;\n",
              "      box-shadow: 0px 1px 3px 1px rgba(0, 0, 0, 0.15);\n",
              "      filter: drop-shadow(0px 1px 2px rgba(0, 0, 0, 0.3));\n",
              "      fill: #FFFFFF;\n",
              "    }\n",
              "  </style>\n",
              "\n",
              "      <script>\n",
              "        const buttonEl =\n",
              "          document.querySelector('#df-f1a99ea7-4ca5-4005-8ff3-fca1356f20a5 button.colab-df-convert');\n",
              "        buttonEl.style.display =\n",
              "          google.colab.kernel.accessAllowed ? 'block' : 'none';\n",
              "\n",
              "        async function convertToInteractive(key) {\n",
              "          const element = document.querySelector('#df-f1a99ea7-4ca5-4005-8ff3-fca1356f20a5');\n",
              "          const dataTable =\n",
              "            await google.colab.kernel.invokeFunction('convertToInteractive',\n",
              "                                                     [key], {});\n",
              "          if (!dataTable) return;\n",
              "\n",
              "          const docLinkHtml = 'Like what you see? Visit the ' +\n",
              "            '<a target=\"_blank\" href=https://colab.research.google.com/notebooks/data_table.ipynb>data table notebook</a>'\n",
              "            + ' to learn more about interactive tables.';\n",
              "          element.innerHTML = '';\n",
              "          dataTable['output_type'] = 'display_data';\n",
              "          await google.colab.output.renderOutput(dataTable, element);\n",
              "          const docLink = document.createElement('div');\n",
              "          docLink.innerHTML = docLinkHtml;\n",
              "          element.appendChild(docLink);\n",
              "        }\n",
              "      </script>\n",
              "    </div>\n",
              "  </div>\n",
              "  "
            ],
            "text/plain": [
              "   UserID  ItemID  prediction TrackID\n",
              "0  199810  208019         0.0        \n",
              "1  199810   74139         0.0        \n",
              "2  199810    9903         0.0        \n",
              "3  199810  242681         0.0        \n",
              "4  199810   18515         1.0        "
            ]
          },
          "metadata": {},
          "execution_count": 37
        }
      ],
      "source": [
        "#Switch to pandas\n",
        "predictions_gbt = best_model.transform(ml_df)\n",
        "gbtResults = predictions_gbt.select('UserID', 'ItemID', 'prediction')\n",
        "gbtResults = gbtResults.toPandas()\n",
        "gbtResults['TrackID'] = ''\n",
        "gbtResults.head()"
      ]
    },
    {
      "cell_type": "code",
      "execution_count": null,
      "metadata": {
        "colab": {
          "base_uri": "https://localhost:8080/"
        },
        "id": "L-uvpfK8Xo_L",
        "outputId": "b6736c04-5d87-4a5d-feee-8663531f7896"
      },
      "outputs": [
        {
          "output_type": "stream",
          "name": "stdout",
          "text": [
            "Test Area Under ROC: 1.0\n"
          ]
        }
      ],
      "source": [
        "evaluator = BinaryClassificationEvaluator(labelCol = 'prediction')\n",
        "print(\"Test Area Under ROC: \" + str(evaluator.evaluate(predictions_gbt)))"
      ]
    },
    {
      "cell_type": "code",
      "execution_count": null,
      "metadata": {
        "colab": {
          "base_uri": "https://localhost:8080/"
        },
        "id": "XmoRUHIEYH3a",
        "outputId": "14176792-9e46-4968-f13b-64ef1b175cff"
      },
      "outputs": [
        {
          "output_type": "stream",
          "name": "stderr",
          "text": [
            "/usr/local/lib/python3.7/dist-packages/ipykernel_launcher.py:3: SettingWithCopyWarning: \n",
            "A value is trying to be set on a copy of a slice from a DataFrame\n",
            "\n",
            "See the caveats in the documentation: https://pandas.pydata.org/pandas-docs/stable/user_guide/indexing.html#returning-a-view-versus-a-copy\n",
            "  This is separate from the ipykernel package so we can avoid doing imports until\n",
            "/usr/local/lib/python3.7/dist-packages/pandas/core/frame.py:4174: SettingWithCopyWarning: \n",
            "A value is trying to be set on a copy of a slice from a DataFrame\n",
            "\n",
            "See the caveats in the documentation: https://pandas.pydata.org/pandas-docs/stable/user_guide/indexing.html#returning-a-view-versus-a-copy\n",
            "  errors=errors,\n"
          ]
        }
      ],
      "source": [
        "#format for submission\n",
        "for i in range(len(gbtResults)):\n",
        "    gbtResults['TrackID'][i] = str(gbtResults['UserID'][i])+'_'+str(gbtResults['ItemID'][i])\n",
        "\n",
        "gbtResults = gbtResults[['TrackID', 'UserID', 'ItemID', 'prediction']]\n",
        "gbtResults.drop(columns={'UserID', 'ItemID'}, inplace=True)\n",
        "gbtResults = gbtResults.rename(columns={'prediction': 'Predictor'})\n",
        "gbtResults.head()\n",
        "gbtResults.to_csv('gradient_boosted_tree.csv', index=False)"
      ]
    }
  ],
  "metadata": {
    "colab": {
      "collapsed_sections": [
        "buB2g81nB2Dp",
        "l3wmR_3OEEmI",
        "Q-NfPgPLJfZd",
        "R41G4EiwOvZX",
        "W1XpCz3-QChl",
        "t__2FTurQz_8",
        "hAgENEYdSfhR"
      ],
      "provenance": [],
      "machine_shape": "hm",
      "include_colab_link": true
    },
    "kernelspec": {
      "display_name": "Python 3",
      "name": "python3"
    },
    "language_info": {
      "name": "python"
    }
  },
  "nbformat": 4,
  "nbformat_minor": 0
}
